{
 "cells": [
  {
   "cell_type": "code",
   "execution_count": 1,
   "metadata": {},
   "outputs": [
    {
     "name": "stderr",
     "output_type": "stream",
     "text": [
      "/home/ai2-yoda/.local/lib/python3.5/site-packages/h5py/__init__.py:36: FutureWarning: Conversion of the second argument of issubdtype from `float` to `np.floating` is deprecated. In future, it will be treated as `np.float64 == np.dtype(float).type`.\n",
      "  from ._conv import register_converters as _register_converters\n",
      "Using TensorFlow backend.\n"
     ]
    }
   ],
   "source": [
    "from skiier import *\n",
    "from ski_env import *\n",
    "from rl_logger import rl_metrics_logger\n",
    "import matplotlib.pyplot as plt\n",
    "import gym\n",
    "import papermill as pm\n",
    "%matplotlib inline"
   ]
  },
  {
   "cell_type": "code",
   "execution_count": 2,
   "metadata": {
    "scrolled": true
   },
   "outputs": [
    {
     "name": "stderr",
     "output_type": "stream",
     "text": [
      "/home/ai2-yoda/gym/gym/__init__.py:22: UserWarning: DEPRECATION WARNING: to improve load times, gym no longer automatically loads gym.spaces. Please run \"import gym.spaces\" to load gym.spaces on your own. This warning will turn into an error in a future version of gym.\n",
      "  warnings.warn('DEPRECATION WARNING: to improve load times, gym no longer automatically loads gym.spaces. Please run \"import gym.spaces\" to load gym.spaces on your own. This warning will turn into an error in a future version of gym.')\n"
     ]
    }
   ],
   "source": [
    "repeat_freq = 4\n",
    "ski_env = gym.make(\"Skiing-v0\")\n",
    "ski_env_w = Env_wrapper(ski_env, repeat_freq)\n",
    "skiier = Skiier(action_space = 3, LEARNING_RATE = 0.0001, LAMBDA = 0.075, GAMMA = 0.99, \n",
    "                MEMORY_CAPACITY = 20000, BATCH_SIZE = 1000, max_explore_game = 300, \n",
    "                repeat_freq = repeat_freq)"
   ]
  },
  {
   "cell_type": "code",
   "execution_count": null,
   "metadata": {},
   "outputs": [
    {
     "name": "stdout",
     "output_type": "stream",
     "text": [
      "episode: 0/1000, frames: 2168, epsilon: 1, reward: -36.0\n",
      "model_loss: 0, frames_seen: 2168, memory_level: 543\n",
      "episode: 1/1000, frames: 1956, epsilon: 1, reward: -33.0\n",
      "model_loss: 0, frames_seen: 4124, memory_level: 1033\n",
      "episode: 2/1000, frames: 1588, epsilon: 1, reward: -39.0\n",
      "model_loss: 0, frames_seen: 5712, memory_level: 1431\n",
      "episode: 3/1000, frames: 1968, epsilon: 1, reward: -38.0\n",
      "model_loss: 0, frames_seen: 7680, memory_level: 1924\n",
      "episode: 4/1000, frames: 2008, epsilon: 1, reward: -35.0\n",
      "model_loss: 0, frames_seen: 9688, memory_level: 2427\n",
      "episode: 5/1000, frames: 1836, epsilon: 1, reward: -39.0\n",
      "model_loss: 0, frames_seen: 11524, memory_level: 2887\n",
      "episode: 6/1000, frames: 1820, epsilon: 1, reward: -39.0\n",
      "model_loss: 0, frames_seen: 13344, memory_level: 3343\n",
      "episode: 7/1000, frames: 1824, epsilon: 1, reward: -36.0\n",
      "model_loss: 0, frames_seen: 15168, memory_level: 3800\n",
      "episode: 8/1000, frames: 1724, epsilon: 1, reward: -38.0\n",
      "model_loss: 0, frames_seen: 16892, memory_level: 4232\n",
      "episode: 9/1000, frames: 2088, epsilon: 1, reward: -35.0\n",
      "model_loss: 0, frames_seen: 18980, memory_level: 4755\n",
      "episode: 10/1000, frames: 1956, epsilon: 1, reward: -37.0\n",
      "model_loss: 0, frames_seen: 20936, memory_level: 5245\n",
      "episode: 11/1000, frames: 2300, epsilon: 1, reward: -33.0\n",
      "model_loss: 0, frames_seen: 23236, memory_level: 5821\n",
      "episode: 12/1000, frames: 1844, epsilon: 1, reward: -38.0\n",
      "model_loss: 0, frames_seen: 25080, memory_level: 6283\n",
      "episode: 13/1000, frames: 1908, epsilon: 1, reward: -37.0\n",
      "model_loss: 0, frames_seen: 26988, memory_level: 6761\n",
      "episode: 14/1000, frames: 2180, epsilon: 1, reward: -38.0\n",
      "model_loss: 0, frames_seen: 29168, memory_level: 7307\n",
      "episode: 15/1000, frames: 1660, epsilon: 1, reward: -42.0\n",
      "model_loss: 0, frames_seen: 30828, memory_level: 7723\n",
      "episode: 16/1000, frames: 2272, epsilon: 1, reward: -37.0\n",
      "model_loss: 0, frames_seen: 33100, memory_level: 8292\n",
      "episode: 17/1000, frames: 1856, epsilon: 1, reward: -35.0\n",
      "model_loss: 0, frames_seen: 34956, memory_level: 8757\n",
      "episode: 18/1000, frames: 1552, epsilon: 1, reward: -42.0\n",
      "model_loss: 0, frames_seen: 36508, memory_level: 9146\n",
      "episode: 19/1000, frames: 1752, epsilon: 1, reward: -38.0\n",
      "model_loss: 0, frames_seen: 38260, memory_level: 9585\n",
      "episode: 20/1000, frames: 2612, epsilon: 1, reward: -34.0\n",
      "model_loss: 0, frames_seen: 40872, memory_level: 10239\n",
      "episode: 21/1000, frames: 1796, epsilon: 1, reward: -39.0\n",
      "model_loss: 0, frames_seen: 42668, memory_level: 10689\n",
      "episode: 22/1000, frames: 1864, epsilon: 1, reward: -36.0\n",
      "model_loss: 0, frames_seen: 44532, memory_level: 11156\n",
      "episode: 23/1000, frames: 1620, epsilon: 1, reward: -41.0\n",
      "model_loss: 0, frames_seen: 46152, memory_level: 11562\n",
      "episode: 24/1000, frames: 1992, epsilon: 1, reward: -37.0\n",
      "model_loss: 0, frames_seen: 48144, memory_level: 12061\n",
      "episode: 25/1000, frames: 2320, epsilon: 1, reward: -33.0\n",
      "model_loss: 0, frames_seen: 50464, memory_level: 12642\n",
      "episode: 26/1000, frames: 2268, epsilon: 1, reward: -35.0\n",
      "model_loss: 0, frames_seen: 52732, memory_level: 13210\n",
      "episode: 27/1000, frames: 1972, epsilon: 1, reward: -36.0\n",
      "model_loss: 0, frames_seen: 54704, memory_level: 13704\n",
      "episode: 28/1000, frames: 1644, epsilon: 1, reward: -41.0\n",
      "model_loss: 0, frames_seen: 56348, memory_level: 14116\n",
      "episode: 29/1000, frames: 1952, epsilon: 1, reward: -38.0\n",
      "model_loss: 0, frames_seen: 58300, memory_level: 14605\n",
      "episode: 30/1000, frames: 1720, epsilon: 1, reward: -39.0\n",
      "model_loss: 0, frames_seen: 60020, memory_level: 15036\n",
      "episode: 31/1000, frames: 2052, epsilon: 1, reward: -30.0\n",
      "model_loss: 0, frames_seen: 62072, memory_level: 15550\n",
      "episode: 32/1000, frames: 1412, epsilon: 1, reward: -41.0\n",
      "model_loss: 0, frames_seen: 63484, memory_level: 15904\n",
      "episode: 33/1000, frames: 2216, epsilon: 1, reward: -37.0\n",
      "model_loss: 0, frames_seen: 65700, memory_level: 16459\n",
      "episode: 34/1000, frames: 1712, epsilon: 1, reward: -36.0\n",
      "model_loss: 0, frames_seen: 67412, memory_level: 16888\n",
      "episode: 35/1000, frames: 1456, epsilon: 1, reward: -42.0\n",
      "model_loss: 0, frames_seen: 68868, memory_level: 17253\n",
      "episode: 36/1000, frames: 1684, epsilon: 1, reward: -40.0\n",
      "model_loss: 0, frames_seen: 70552, memory_level: 17675\n",
      "episode: 37/1000, frames: 1476, epsilon: 1, reward: -39.0\n",
      "model_loss: 0, frames_seen: 72028, memory_level: 18045\n",
      "episode: 38/1000, frames: 1572, epsilon: 1, reward: -40.0\n",
      "model_loss: 0, frames_seen: 73600, memory_level: 18439\n",
      "episode: 39/1000, frames: 1836, epsilon: 1, reward: -37.0\n",
      "model_loss: 0, frames_seen: 75436, memory_level: 18899\n",
      "episode: 40/1000, frames: 1816, epsilon: 1, reward: -39.0\n",
      "model_loss: 0, frames_seen: 77252, memory_level: 19354\n",
      "episode: 41/1000, frames: 2700, epsilon: 1, reward: -28.0\n",
      "WARNING:tensorflow:Variable *= will be deprecated. Use variable.assign_mul if you want assignment to the variable value or 'x = x * y' if you want a new python Tensor object.\n",
      "model_loss: 18.137163162231445, frames_seen: 79952, memory_level: 20000\n",
      "episode: 42/1000, frames: 2240, epsilon: 0.8647, reward: -36.0\n",
      "model_loss: 14.073264122009277, frames_seen: 82192, memory_level: 20000\n",
      "episode: 43/1000, frames: 3036, epsilon: 0.8613999999999999, reward: -32.0\n",
      "model_loss: 18.091724395751953, frames_seen: 85228, memory_level: 20000\n",
      "episode: 44/1000, frames: 2112, epsilon: 0.8581, reward: -39.0\n",
      "model_loss: 14.053175926208496, frames_seen: 87340, memory_level: 20000\n",
      "episode: 45/1000, frames: 2888, epsilon: 0.8548, reward: -32.0\n",
      "model_loss: 10.98560619354248, frames_seen: 90228, memory_level: 20000\n",
      "episode: 46/1000, frames: 3252, epsilon: 0.8515, reward: -32.0\n",
      "model_loss: 9.818195343017578, frames_seen: 93480, memory_level: 20000\n",
      "episode: 47/1000, frames: 2748, epsilon: 0.8482000000000001, reward: -32.0\n",
      "model_loss: 10.747714042663574, frames_seen: 96228, memory_level: 20000\n",
      "episode: 48/1000, frames: 2104, epsilon: 0.8449, reward: -36.0\n",
      "model_loss: 14.079485893249512, frames_seen: 98332, memory_level: 20000\n",
      "episode: 49/1000, frames: 2484, epsilon: 0.8416, reward: -35.0\n",
      "model_loss: 15.297560691833496, frames_seen: 100816, memory_level: 20000\n",
      "episode: 50/1000, frames: 2560, epsilon: 0.8383, reward: -35.0\n",
      "model_loss: 10.801151275634766, frames_seen: 103376, memory_level: 20000\n",
      "episode: 51/1000, frames: 2204, epsilon: 0.835, reward: -35.0\n",
      "model_loss: 6.308663845062256, frames_seen: 105580, memory_level: 20000\n",
      "episode: 52/1000, frames: 2492, epsilon: 0.8317, reward: -35.0\n",
      "model_loss: 10.698403358459473, frames_seen: 108072, memory_level: 20000\n",
      "episode: 53/1000, frames: 1892, epsilon: 0.8284, reward: -41.0\n",
      "model_loss: 18.794782638549805, frames_seen: 109964, memory_level: 20000\n",
      "episode: 54/1000, frames: 2524, epsilon: 0.8251, reward: -35.0\n",
      "model_loss: 6.25150728225708, frames_seen: 112488, memory_level: 20000\n",
      "episode: 55/1000, frames: 2464, epsilon: 0.8218, reward: -34.0\n",
      "model_loss: 18.08550262451172, frames_seen: 114952, memory_level: 20000\n",
      "episode: 56/1000, frames: 2988, epsilon: 0.8185, reward: -33.0\n",
      "model_loss: 6.22343635559082, frames_seen: 117940, memory_level: 20000\n",
      "episode: 57/1000, frames: 3092, epsilon: 0.8152, reward: -33.0\n",
      "model_loss: 6.285665988922119, frames_seen: 121032, memory_level: 20000\n",
      "episode: 58/1000, frames: 2624, epsilon: 0.8119000000000001, reward: -34.0\n",
      "model_loss: 13.87582015991211, frames_seen: 123656, memory_level: 20000\n",
      "episode: 59/1000, frames: 2568, epsilon: 0.8086, reward: -35.0\n",
      "model_loss: 15.092205047607422, frames_seen: 126224, memory_level: 20000\n",
      "episode: 60/1000, frames: 2960, epsilon: 0.8053, reward: -33.0\n",
      "model_loss: 10.299323081970215, frames_seen: 129184, memory_level: 20000\n",
      "episode: 61/1000, frames: 2980, epsilon: 0.802, reward: -32.0\n",
      "model_loss: 14.323196411132812, frames_seen: 132164, memory_level: 20000\n",
      "episode: 62/1000, frames: 2752, epsilon: 0.7987, reward: -32.0\n",
      "model_loss: 10.784173011779785, frames_seen: 134916, memory_level: 20000\n",
      "episode: 63/1000, frames: 2360, epsilon: 0.7954, reward: -36.0\n",
      "model_loss: 12.976739883422852, frames_seen: 137276, memory_level: 20000\n",
      "episode: 64/1000, frames: 2728, epsilon: 0.7921, reward: -33.0\n",
      "model_loss: 14.63529109954834, frames_seen: 140004, memory_level: 20000\n",
      "episode: 65/1000, frames: 2716, epsilon: 0.7888, reward: -34.0\n",
      "model_loss: 22.37006187438965, frames_seen: 142720, memory_level: 20000\n",
      "episode: 66/1000, frames: 3028, epsilon: 0.7855, reward: -32.0\n"
     ]
    },
    {
     "name": "stdout",
     "output_type": "stream",
     "text": [
      "model_loss: 14.795599937438965, frames_seen: 145748, memory_level: 20000\n",
      "episode: 67/1000, frames: 3480, epsilon: 0.7822, reward: -31.0\n",
      "model_loss: 15.582870483398438, frames_seen: 149228, memory_level: 20000\n",
      "episode: 68/1000, frames: 3076, epsilon: 0.7789, reward: -31.0\n",
      "model_loss: 6.3159685134887695, frames_seen: 152304, memory_level: 20000\n",
      "episode: 69/1000, frames: 2952, epsilon: 0.7756000000000001, reward: -33.0\n",
      "model_loss: 6.323408603668213, frames_seen: 155256, memory_level: 20000\n",
      "episode: 70/1000, frames: 3080, epsilon: 0.7723, reward: -32.0\n",
      "model_loss: 6.2683491706848145, frames_seen: 158336, memory_level: 20000\n",
      "episode: 71/1000, frames: 4248, epsilon: 0.769, reward: -29.0\n",
      "model_loss: 6.34126615524292, frames_seen: 162584, memory_level: 20000\n",
      "episode: 72/1000, frames: 3948, epsilon: 0.7657, reward: -30.0\n",
      "model_loss: 15.036331176757812, frames_seen: 166532, memory_level: 20000\n",
      "episode: 73/1000, frames: 2000, epsilon: 0.7624, reward: -36.0\n",
      "model_loss: 6.303455829620361, frames_seen: 168532, memory_level: 20000\n",
      "episode: 74/1000, frames: 5092, epsilon: 0.7591, reward: -28.0\n",
      "model_loss: 15.548846244812012, frames_seen: 173624, memory_level: 20000\n",
      "episode: 75/1000, frames: 3268, epsilon: 0.7558, reward: -31.0\n",
      "model_loss: 10.782751083374023, frames_seen: 176892, memory_level: 20000\n",
      "episode: 76/1000, frames: 4324, epsilon: 0.7525, reward: -29.0\n",
      "model_loss: 19.605186462402344, frames_seen: 181216, memory_level: 20000\n",
      "episode: 77/1000, frames: 3136, epsilon: 0.7492, reward: -31.0\n",
      "model_loss: 6.341063022613525, frames_seen: 184352, memory_level: 20000\n",
      "episode: 78/1000, frames: 4540, epsilon: 0.7459, reward: -28.0\n",
      "model_loss: 6.341875076293945, frames_seen: 188892, memory_level: 20000\n",
      "episode: 79/1000, frames: 4388, epsilon: 0.7425999999999999, reward: -29.0\n",
      "model_loss: 6.314277648925781, frames_seen: 193280, memory_level: 20000\n",
      "episode: 80/1000, frames: 4020, epsilon: 0.7393000000000001, reward: -30.0\n",
      "model_loss: 6.315562725067139, frames_seen: 197300, memory_level: 20000\n",
      "episode: 81/1000, frames: 4312, epsilon: 0.736, reward: -28.0\n",
      "model_loss: 10.398079872131348, frames_seen: 201612, memory_level: 20000\n",
      "episode: 82/1000, frames: 4140, epsilon: 0.7327, reward: -29.0\n",
      "model_loss: 6.331729412078857, frames_seen: 205752, memory_level: 20000\n",
      "episode: 83/1000, frames: 4560, epsilon: 0.7294, reward: -29.0\n",
      "model_loss: 10.057170867919922, frames_seen: 210312, memory_level: 20000\n",
      "episode: 84/1000, frames: 5260, epsilon: 0.7261, reward: -27.0\n",
      "model_loss: 6.285057067871094, frames_seen: 215572, memory_level: 20000\n",
      "episode: 85/1000, frames: 4208, epsilon: 0.7228, reward: -29.0\n",
      "model_loss: 10.567858695983887, frames_seen: 219780, memory_level: 20000\n",
      "episode: 86/1000, frames: 5392, epsilon: 0.7195, reward: -27.0\n",
      "model_loss: 6.321920871734619, frames_seen: 225172, memory_level: 20000\n",
      "episode: 87/1000, frames: 4396, epsilon: 0.7162, reward: -29.0\n",
      "model_loss: 11.095319747924805, frames_seen: 229568, memory_level: 20000\n",
      "episode: 88/1000, frames: 4868, epsilon: 0.7129, reward: -28.0\n",
      "model_loss: 6.350735664367676, frames_seen: 234436, memory_level: 20000\n",
      "episode: 89/1000, frames: 4932, epsilon: 0.7096, reward: -28.0\n",
      "model_loss: 6.311707973480225, frames_seen: 239368, memory_level: 20000\n",
      "episode: 90/1000, frames: 4508, epsilon: 0.7062999999999999, reward: -29.0\n",
      "model_loss: 6.289859294891357, frames_seen: 243876, memory_level: 20000\n",
      "episode: 91/1000, frames: 5784, epsilon: 0.7030000000000001, reward: -27.0\n",
      "model_loss: 10.839232444763184, frames_seen: 249660, memory_level: 20000\n",
      "episode: 92/1000, frames: 6004, epsilon: 0.6997, reward: -20.0\n",
      "model_loss: 11.07813835144043, frames_seen: 255664, memory_level: 20000\n",
      "episode: 93/1000, frames: 6036, epsilon: 0.6964, reward: -20.0\n",
      "model_loss: 10.86398696899414, frames_seen: 261700, memory_level: 20000\n",
      "episode: 94/1000, frames: 5804, epsilon: 0.6931, reward: -27.0\n",
      "model_loss: 6.333826065063477, frames_seen: 267504, memory_level: 20000\n",
      "episode: 95/1000, frames: 6028, epsilon: 0.6898, reward: -20.0\n",
      "model_loss: 6.348165988922119, frames_seen: 273532, memory_level: 20000\n",
      "episode: 96/1000, frames: 5196, epsilon: 0.6865, reward: -28.0\n",
      "model_loss: 6.300817489624023, frames_seen: 278728, memory_level: 20000\n",
      "episode: 97/1000, frames: 5076, epsilon: 0.6832, reward: -28.0\n",
      "model_loss: 11.08956527709961, frames_seen: 283804, memory_level: 20000\n",
      "episode: 98/1000, frames: 5340, epsilon: 0.6799, reward: -27.0\n",
      "model_loss: 11.015972137451172, frames_seen: 289144, memory_level: 20000\n",
      "episode: 99/1000, frames: 6040, epsilon: 0.6766, reward: -20.0\n",
      "model_loss: 6.309944152832031, frames_seen: 295184, memory_level: 20000\n",
      "episode: 100/1000, frames: 4704, epsilon: 0.6733, reward: -28.0\n",
      "model_loss: 6.372042655944824, frames_seen: 299888, memory_level: 20000\n",
      "episode: 101/1000, frames: 4860, epsilon: 0.6699999999999999, reward: -28.0\n",
      "model_loss: 6.3178629875183105, frames_seen: 304748, memory_level: 20000\n",
      "episode: 102/1000, frames: 5788, epsilon: 0.6667000000000001, reward: -27.0\n",
      "model_loss: 6.406878471374512, frames_seen: 310536, memory_level: 20000\n",
      "episode: 103/1000, frames: 5264, epsilon: 0.6634, reward: -26.0\n",
      "model_loss: 11.05500602722168, frames_seen: 315800, memory_level: 20000\n",
      "episode: 104/1000, frames: 6012, epsilon: 0.6601, reward: -20.0\n",
      "model_loss: 6.287826061248779, frames_seen: 321812, memory_level: 20000\n",
      "episode: 105/1000, frames: 4988, epsilon: 0.6568, reward: -28.0\n",
      "model_loss: 11.086661338806152, frames_seen: 326800, memory_level: 20000\n",
      "episode: 106/1000, frames: 6012, epsilon: 0.6535, reward: -20.0\n",
      "model_loss: 10.988582611083984, frames_seen: 332812, memory_level: 20000\n",
      "episode: 107/1000, frames: 6020, epsilon: 0.6502, reward: -20.0\n",
      "model_loss: 11.040396690368652, frames_seen: 338832, memory_level: 20000\n",
      "episode: 108/1000, frames: 6028, epsilon: 0.6469, reward: -20.0\n",
      "model_loss: 6.278631687164307, frames_seen: 344860, memory_level: 20000\n",
      "episode: 109/1000, frames: 5988, epsilon: 0.6436, reward: -20.0\n",
      "model_loss: 15.603365898132324, frames_seen: 350848, memory_level: 20000\n",
      "episode: 110/1000, frames: 6028, epsilon: 0.6403, reward: -20.0\n",
      "model_loss: 6.294932842254639, frames_seen: 356876, memory_level: 20000\n",
      "episode: 111/1000, frames: 5992, epsilon: 0.637, reward: -20.0\n",
      "model_loss: 6.380024433135986, frames_seen: 362868, memory_level: 20000\n",
      "episode: 112/1000, frames: 6020, epsilon: 0.6336999999999999, reward: -20.0\n",
      "model_loss: 6.378401279449463, frames_seen: 368888, memory_level: 20000\n",
      "episode: 113/1000, frames: 6020, epsilon: 0.6304000000000001, reward: -20.0\n",
      "model_loss: 6.359591960906982, frames_seen: 374908, memory_level: 20000\n",
      "episode: 114/1000, frames: 6020, epsilon: 0.6271, reward: -20.0\n",
      "model_loss: 11.076446533203125, frames_seen: 380928, memory_level: 20000\n",
      "episode: 115/1000, frames: 6012, epsilon: 0.6238, reward: -20.0\n",
      "model_loss: 6.375826835632324, frames_seen: 386940, memory_level: 20000\n",
      "episode: 116/1000, frames: 5992, epsilon: 0.6205, reward: -20.0\n",
      "model_loss: 6.386517524719238, frames_seen: 392932, memory_level: 20000\n",
      "episode: 117/1000, frames: 6012, epsilon: 0.6172, reward: -20.0\n",
      "model_loss: 6.350528240203857, frames_seen: 398944, memory_level: 20000\n",
      "episode: 118/1000, frames: 5984, epsilon: 0.6139, reward: -20.0\n",
      "model_loss: 6.376840114593506, frames_seen: 404928, memory_level: 20000\n",
      "episode: 119/1000, frames: 5996, epsilon: 0.6106, reward: -20.0\n",
      "model_loss: 6.3744049072265625, frames_seen: 410924, memory_level: 20000\n",
      "episode: 120/1000, frames: 6012, epsilon: 0.6073, reward: -20.0\n",
      "model_loss: 6.34126615524292, frames_seen: 416936, memory_level: 20000\n",
      "episode: 121/1000, frames: 6048, epsilon: 0.604, reward: -20.0\n",
      "model_loss: 6.383407115936279, frames_seen: 422984, memory_level: 20000\n",
      "episode: 122/1000, frames: 5992, epsilon: 0.6007, reward: -20.0\n",
      "model_loss: 6.2669878005981445, frames_seen: 428976, memory_level: 20000\n",
      "episode: 123/1000, frames: 6008, epsilon: 0.5973999999999999, reward: -20.0\n",
      "model_loss: 6.375762939453125, frames_seen: 434984, memory_level: 20000\n",
      "episode: 124/1000, frames: 6028, epsilon: 0.5941000000000001, reward: -20.0\n",
      "model_loss: 6.366897106170654, frames_seen: 441012, memory_level: 20000\n",
      "episode: 125/1000, frames: 5976, epsilon: 0.5908, reward: -20.0\n",
      "model_loss: 6.3447160720825195, frames_seen: 446988, memory_level: 20000\n"
     ]
    },
    {
     "name": "stdout",
     "output_type": "stream",
     "text": [
      "episode: 126/1000, frames: 6044, epsilon: 0.5875, reward: -20.0\n",
      "model_loss: 6.32462739944458, frames_seen: 453032, memory_level: 20000\n",
      "episode: 127/1000, frames: 6036, epsilon: 0.5842, reward: -20.0\n",
      "model_loss: 6.337812423706055, frames_seen: 459068, memory_level: 20000\n",
      "episode: 128/1000, frames: 6000, epsilon: 0.5809, reward: -20.0\n",
      "model_loss: 6.3302412033081055, frames_seen: 465068, memory_level: 20000\n",
      "episode: 129/1000, frames: 6020, epsilon: 0.5776, reward: -20.0\n",
      "model_loss: 6.336532115936279, frames_seen: 471088, memory_level: 20000\n",
      "episode: 130/1000, frames: 6068, epsilon: 0.5743, reward: -20.0\n",
      "model_loss: 6.346406936645508, frames_seen: 477156, memory_level: 20000\n",
      "episode: 131/1000, frames: 6000, epsilon: 0.571, reward: -20.0\n",
      "model_loss: 6.411810398101807, frames_seen: 483156, memory_level: 20000\n",
      "episode: 132/1000, frames: 5972, epsilon: 0.5677, reward: -20.0\n",
      "model_loss: 6.373526096343994, frames_seen: 489128, memory_level: 20000\n",
      "episode: 133/1000, frames: 6048, epsilon: 0.5644, reward: -20.0\n",
      "model_loss: 6.401669025421143, frames_seen: 495176, memory_level: 20000\n",
      "episode: 134/1000, frames: 5968, epsilon: 0.5610999999999999, reward: -20.0\n",
      "model_loss: 6.394160747528076, frames_seen: 501144, memory_level: 20000\n",
      "episode: 135/1000, frames: 6036, epsilon: 0.5578000000000001, reward: -20.0\n",
      "model_loss: 6.42006254196167, frames_seen: 507180, memory_level: 20000\n",
      "episode: 136/1000, frames: 6024, epsilon: 0.5545, reward: -20.0\n",
      "model_loss: 6.4308857917785645, frames_seen: 513204, memory_level: 20000\n",
      "episode: 137/1000, frames: 6020, epsilon: 0.5512, reward: -20.0\n",
      "model_loss: 6.399838447570801, frames_seen: 519224, memory_level: 20000\n",
      "episode: 138/1000, frames: 5988, epsilon: 0.5479, reward: -20.0\n",
      "model_loss: 6.331796646118164, frames_seen: 525212, memory_level: 20000\n",
      "episode: 139/1000, frames: 6000, epsilon: 0.5446, reward: -20.0\n",
      "model_loss: 6.300130844116211, frames_seen: 531212, memory_level: 20000\n",
      "episode: 140/1000, frames: 5960, epsilon: 0.5413, reward: -20.0\n",
      "model_loss: 6.403834342956543, frames_seen: 537172, memory_level: 20000\n",
      "episode: 141/1000, frames: 5992, epsilon: 0.538, reward: -20.0\n",
      "model_loss: 6.321645736694336, frames_seen: 543164, memory_level: 20000\n",
      "episode: 142/1000, frames: 6024, epsilon: 0.5347, reward: -20.0\n",
      "model_loss: 6.364128589630127, frames_seen: 549188, memory_level: 20000\n",
      "episode: 143/1000, frames: 6008, epsilon: 0.5314, reward: -20.0\n",
      "model_loss: 6.385493755340576, frames_seen: 555196, memory_level: 20000\n",
      "episode: 144/1000, frames: 6028, epsilon: 0.5281, reward: -20.0\n",
      "model_loss: 6.3712263107299805, frames_seen: 561224, memory_level: 20000\n",
      "episode: 145/1000, frames: 6004, epsilon: 0.5247999999999999, reward: -20.0\n",
      "model_loss: 6.365617275238037, frames_seen: 567228, memory_level: 20000\n",
      "episode: 146/1000, frames: 6036, epsilon: 0.5215000000000001, reward: -20.0\n",
      "model_loss: 6.36933708190918, frames_seen: 573264, memory_level: 20000\n",
      "episode: 147/1000, frames: 6024, epsilon: 0.5182, reward: -20.0\n",
      "model_loss: 6.427914619445801, frames_seen: 579288, memory_level: 20000\n",
      "episode: 148/1000, frames: 6016, epsilon: 0.5149, reward: -20.0\n",
      "model_loss: 6.347894668579102, frames_seen: 585304, memory_level: 20000\n",
      "episode: 149/1000, frames: 5984, epsilon: 0.5116, reward: -20.0\n",
      "model_loss: 6.425339221954346, frames_seen: 591288, memory_level: 20000\n",
      "episode: 150/1000, frames: 6036, epsilon: 0.5083, reward: -20.0\n",
      "model_loss: 6.342686653137207, frames_seen: 597324, memory_level: 20000\n",
      "episode: 151/1000, frames: 5964, epsilon: 0.505, reward: -20.0\n",
      "model_loss: 6.362640857696533, frames_seen: 603288, memory_level: 20000\n",
      "episode: 152/1000, frames: 6012, epsilon: 0.5017, reward: -20.0\n",
      "model_loss: 6.427372932434082, frames_seen: 609300, memory_level: 20000\n",
      "episode: 153/1000, frames: 6012, epsilon: 0.49839999999999995, reward: -20.0\n",
      "model_loss: 6.432107448577881, frames_seen: 615312, memory_level: 20000\n",
      "episode: 154/1000, frames: 6008, epsilon: 0.4951, reward: -20.0\n",
      "model_loss: 6.389155864715576, frames_seen: 621320, memory_level: 20000\n",
      "episode: 155/1000, frames: 5996, epsilon: 0.4918, reward: -20.0\n",
      "model_loss: 6.363307476043701, frames_seen: 627316, memory_level: 20000\n",
      "episode: 156/1000, frames: 5992, epsilon: 0.48850000000000005, reward: -20.0\n",
      "model_loss: 6.409172534942627, frames_seen: 633308, memory_level: 20000\n",
      "episode: 157/1000, frames: 5988, epsilon: 0.48519999999999996, reward: -20.0\n",
      "model_loss: 6.3625593185424805, frames_seen: 639296, memory_level: 20000\n",
      "episode: 158/1000, frames: 6004, epsilon: 0.4819, reward: -20.0\n",
      "model_loss: 6.320897102355957, frames_seen: 645300, memory_level: 20000\n",
      "episode: 159/1000, frames: 6008, epsilon: 0.4786, reward: -20.0\n",
      "model_loss: 6.3621625900268555, frames_seen: 651308, memory_level: 20000\n",
      "episode: 160/1000, frames: 5980, epsilon: 0.47530000000000006, reward: -20.0\n",
      "model_loss: 6.3628435134887695, frames_seen: 657288, memory_level: 20000\n",
      "episode: 161/1000, frames: 6012, epsilon: 0.472, reward: -20.0\n",
      "model_loss: 6.368864059448242, frames_seen: 663300, memory_level: 20000\n",
      "episode: 162/1000, frames: 6012, epsilon: 0.4687, reward: -20.0\n",
      "model_loss: 6.413235664367676, frames_seen: 669312, memory_level: 20000\n",
      "episode: 163/1000, frames: 6020, epsilon: 0.46540000000000004, reward: -20.0\n",
      "model_loss: 6.399026870727539, frames_seen: 675332, memory_level: 20000\n",
      "episode: 164/1000, frames: 6000, epsilon: 0.46209999999999996, reward: -20.0\n",
      "model_loss: 6.398692607879639, frames_seen: 681332, memory_level: 20000\n",
      "episode: 165/1000, frames: 5992, epsilon: 0.4588, reward: -20.0\n",
      "model_loss: 6.404983997344971, frames_seen: 687324, memory_level: 20000\n",
      "episode: 166/1000, frames: 6032, epsilon: 0.4555, reward: -20.0\n",
      "model_loss: 6.349316120147705, frames_seen: 693356, memory_level: 20000\n",
      "episode: 167/1000, frames: 6032, epsilon: 0.45220000000000005, reward: -20.0\n",
      "model_loss: 6.412153720855713, frames_seen: 699388, memory_level: 20000\n",
      "episode: 168/1000, frames: 5996, epsilon: 0.44889999999999997, reward: -20.0\n",
      "model_loss: 6.406066417694092, frames_seen: 705384, memory_level: 20000\n",
      "episode: 169/1000, frames: 5988, epsilon: 0.4456, reward: -20.0\n",
      "model_loss: 6.351547718048096, frames_seen: 711372, memory_level: 20000\n",
      "episode: 170/1000, frames: 6012, epsilon: 0.4423, reward: -20.0\n",
      "model_loss: 6.406945705413818, frames_seen: 717384, memory_level: 20000\n",
      "episode: 171/1000, frames: 5976, epsilon: 0.43900000000000006, reward: -20.0\n",
      "model_loss: 6.359114170074463, frames_seen: 723360, memory_level: 20000\n",
      "episode: 172/1000, frames: 5984, epsilon: 0.4357, reward: -20.0\n",
      "model_loss: 6.455642223358154, frames_seen: 729344, memory_level: 20000\n",
      "episode: 173/1000, frames: 6016, epsilon: 0.4324, reward: -20.0\n",
      "model_loss: 6.432310581207275, frames_seen: 735360, memory_level: 20000\n",
      "episode: 174/1000, frames: 6024, epsilon: 0.42910000000000004, reward: -20.0\n",
      "model_loss: 6.453747749328613, frames_seen: 741384, memory_level: 20000\n",
      "episode: 175/1000, frames: 6016, epsilon: 0.42579999999999996, reward: -20.0\n",
      "model_loss: 6.457671642303467, frames_seen: 747400, memory_level: 20000\n",
      "episode: 176/1000, frames: 6020, epsilon: 0.4225, reward: -20.0\n",
      "model_loss: 6.340927600860596, frames_seen: 753420, memory_level: 20000\n",
      "episode: 177/1000, frames: 6008, epsilon: 0.4192, reward: -20.0\n",
      "model_loss: 6.402277946472168, frames_seen: 759428, memory_level: 20000\n",
      "episode: 178/1000, frames: 5996, epsilon: 0.41590000000000005, reward: -20.0\n",
      "model_loss: 6.382589817047119, frames_seen: 765424, memory_level: 20000\n",
      "episode: 179/1000, frames: 6020, epsilon: 0.41259999999999997, reward: -20.0\n",
      "model_loss: 6.380290508270264, frames_seen: 771444, memory_level: 20000\n"
     ]
    }
   ],
   "source": [
    "num_steps = 30000\n",
    "num_episodes = 1000\n",
    "logger = rl_metrics_logger()\n",
    "#start_replay_episode = 10\n",
    "frames_seen = 0\n",
    "for episode in range(num_episodes):\n",
    "    state = ski_env_w.reset()\n",
    "    total_reward = 0\n",
    "    for time_step in range(num_steps):\n",
    "        action = skiier.act(state)\n",
    "        next_state, reward, done, info = ski_env_w.step(action)\n",
    "        skiier.observe(state, action, reward, next_state, done)\n",
    "        state = next_state\n",
    "        skiier.episode = episode\n",
    "        total_reward += reward\n",
    "        if done:\n",
    "            average_reward = np.around(total_reward/time_step)\n",
    "            print(\"episode: {}/{}, frames: {}, epsilon: {}, reward: {}\".format(episode, \n",
    "                                                                  num_episodes, \n",
    "                                                                  time_step*repeat_freq, \n",
    "                                                                  skiier.epsilon,\n",
    "                                                                  average_reward))\n",
    "            break\n",
    "    \n",
    "    #if episode+1 >= start_replay_episode:\n",
    "    if skiier.memory.is_full():\n",
    "        skiier.replay()\n",
    "        model_loss = np.mean(skiier.brain.history.losses)\n",
    "    else:\n",
    "        model_loss = 0\n",
    "    #logging\n",
    "    frames_seen += time_step*repeat_freq\n",
    "    print(\"model_loss: {}, frames_seen: {}, memory_level: {}\".format(model_loss, \n",
    "                                                                     frames_seen, \n",
    "                                                                     skiier.memory.mem_size))\n",
    "    logger.store(episode, time_step*repeat_freq, skiier.epsilon, average_reward, model_loss)"
   ]
  },
  {
   "cell_type": "code",
   "execution_count": 6,
   "metadata": {},
   "outputs": [
    {
     "data": {
      "image/png": "[encoded data removed]",
      "text/plain": [
       "<Figure size 720x720 with 1 Axes>"
      ]
     },
     "metadata": {},
     "output_type": "display_data"
    },
    {
     "data": {
      "image/png": "[encoded data removed]",
      "text/plain": [
       "<Figure size 720x720 with 1 Axes>"
      ]
     },
     "metadata": {},
     "output_type": "display_data"
    },
    {
     "data": {
      "image/png": "[encoded data removed]",
      "text/plain": [
       "<Figure size 720x720 with 1 Axes>"
      ]
     },
     "metadata": {},
     "output_type": "display_data"
    }
   ],
   "source": [
    "logger.plot_metrics()"
   ]
  },
  {
   "cell_type": "code",
   "execution_count": null,
   "metadata": {
    "collapsed": true
   },
   "outputs": [],
   "source": [
    "file_name = \"model_{}.hdf5\".format(average_reward)\n",
    "skiier.brain.model.save(file_name)"
   ]
  },
  {
   "cell_type": "markdown",
   "metadata": {},
   "source": [
    "# Manually Playing Game to Check Reward Structure"
   ]
  },
  {
   "cell_type": "code",
   "execution_count": 2,
   "metadata": {},
   "outputs": [
    {
     "name": "stderr",
     "output_type": "stream",
     "text": [
      "/home/ai2-yoda/gym/gym/__init__.py:22: UserWarning: DEPRECATION WARNING: to improve load times, gym no longer automatically loads gym.spaces. Please run \"import gym.spaces\" to load gym.spaces on your own. This warning will turn into an error in a future version of gym.\n",
      "  warnings.warn('DEPRECATION WARNING: to improve load times, gym no longer automatically loads gym.spaces. Please run \"import gym.spaces\" to load gym.spaces on your own. This warning will turn into an error in a future version of gym.')\n"
     ]
    }
   ],
   "source": [
    "repeat_freq = 4\n",
    "ski_env = gym.make(\"Skiing-v0\")\n",
    "ski_env_w = Env_wrapper(ski_env, repeat_freq)\n",
    "skiier = Skiier(action_space = 3, LEARNING_RATE = 0.0001, LAMBDA = 0.075, GAMMA = 0.99, \n",
    "                MEMORY_CAPACITY = 10000, BATCH_SIZE = 1000, max_explore_game = 300, \n",
    "                repeat_freq = repeat_freq)"
   ]
  },
  {
   "cell_type": "code",
   "execution_count": 3,
   "metadata": {},
   "outputs": [],
   "source": [
    "state = ski_env_w.reset()\n",
    "total_reward = []"
   ]
  },
  {
   "cell_type": "code",
   "execution_count": 5,
   "metadata": {},
   "outputs": [
    {
     "data": {
      "text/plain": [
       "(125, 80, 10)"
      ]
     },
     "execution_count": 5,
     "metadata": {},
     "output_type": "execute_result"
    }
   ],
   "source": [
    "next_state.shape"
   ]
  },
  {
   "cell_type": "code",
   "execution_count": 30,
   "metadata": {},
   "outputs": [
    {
     "data": {
      "text/plain": [
       "<matplotlib.image.AxesImage at 0x7f0b75665198>"
      ]
     },
     "execution_count": 30,
     "metadata": {},
     "output_type": "execute_result"
    },
    {
     "data": {
      "image/png": "[encoded data removed]",
      "text/plain": [
       "<Figure size 1080x1080 with 1 Axes>"
      ]
     },
     "metadata": {},
     "output_type": "display_data"
    }
   ],
   "source": [
    "plt.figure(figsize=(15,15))\n",
    "plt.imshow(np.mean(next_state,axis=2),cmap=\"gray\")"
   ]
  },
  {
   "cell_type": "code",
   "execution_count": 27,
   "metadata": {
    "scrolled": false
   },
   "outputs": [
    {
     "name": "stdout",
     "output_type": "stream",
     "text": [
      "-50.0\n"
     ]
    },
    {
     "data": {
      "text/plain": [
       "<matplotlib.image.AxesImage at 0x7f0b756ec4e0>"
      ]
     },
     "execution_count": 27,
     "metadata": {},
     "output_type": "execute_result"
    },
    {
     "data": {
      "image/png": "[encoded data removed]",
      "text/plain": [
       "<Figure size 1080x1080 with 1 Axes>"
      ]
     },
     "metadata": {},
     "output_type": "display_data"
    }
   ],
   "source": [
    "action = 1 #0 nothing, 1 right, 2 left\n",
    "next_state, reward, done, info = ski_env_w.step(action)\n",
    "total_reward.append(reward)\n",
    "print(reward)\n",
    "plt.figure(figsize=(15,15))\n",
    "plt.imshow(next_state[:,:,7:],cmap=\"gray\")"
   ]
  },
  {
   "cell_type": "code",
   "execution_count": 26,
   "metadata": {},
   "outputs": [
    {
     "data": {
      "text/plain": [
       "[-20.0,\n",
       " -18.0,\n",
       " -20.0,\n",
       " -22.0,\n",
       " -22.0,\n",
       " -20.0,\n",
       " -23.0,\n",
       " -23.0,\n",
       " -20.0,\n",
       " -23.0,\n",
       " -24.0,\n",
       " -23.0,\n",
       " -20.0,\n",
       " -17.0,\n",
       " -21.0,\n",
       " -19.0,\n",
       " -19.0,\n",
       " -15.0,\n",
       " -19.0,\n",
       " -18.0]"
      ]
     },
     "execution_count": 26,
     "metadata": {},
     "output_type": "execute_result"
    }
   ],
   "source": [
    "total_reward"
   ]
  },
  {
   "cell_type": "markdown",
   "metadata": {},
   "source": [
    "# CODE GRAVEYARD"
   ]
  },
  {
   "cell_type": "code",
   "execution_count": 6,
   "metadata": {
    "collapsed": true
   },
   "outputs": [],
   "source": [
    "LAMBDA = 0.075\n",
    "MIN_EPSILON = 0.01\n",
    "MAX_EPSILON = 1.0"
   ]
  },
  {
   "cell_type": "code",
   "execution_count": 7,
   "metadata": {
    "collapsed": true
   },
   "outputs": [],
   "source": [
    "import math"
   ]
  },
  {
   "cell_type": "code",
   "execution_count": 14,
   "metadata": {
    "collapsed": true
   },
   "outputs": [],
   "source": [
    "min_explore_game = 100"
   ]
  },
  {
   "cell_type": "code",
   "execution_count": 19,
   "metadata": {
    "scrolled": true
   },
   "outputs": [
    {
     "name": "stdout",
     "output_type": "stream",
     "text": [
      "1.0\n",
      "0.9901\n",
      "0.9802\n",
      "0.9703\n",
      "0.9604\n",
      "0.9505\n",
      "0.9406\n",
      "0.9307\n",
      "0.9208000000000001\n",
      "0.9109\n",
      "0.901\n",
      "0.8911\n",
      "0.8812\n",
      "0.8713\n",
      "0.8613999999999999\n",
      "0.8515\n",
      "0.8416\n",
      "0.8317\n",
      "0.8218000000000001\n",
      "0.8119000000000001\n",
      "0.802\n",
      "0.7921\n",
      "0.7822\n",
      "0.7723\n",
      "0.7624\n",
      "0.7525000000000001\n",
      "0.7426\n",
      "0.7327\n",
      "0.7228\n",
      "0.7129000000000001\n",
      "0.7030000000000001\n",
      "0.6931\n",
      "0.6832\n",
      "0.6733\n",
      "0.6634\n",
      "0.6535\n",
      "0.6436000000000001\n",
      "0.6337\n",
      "0.6238\n",
      "0.6139000000000001\n",
      "0.6040000000000001\n",
      "0.5941000000000001\n",
      "0.5842\n",
      "0.5743\n",
      "0.5644\n",
      "0.5545\n",
      "0.5446\n",
      "0.5347000000000001\n",
      "0.5248\n",
      "0.5149\n",
      "0.5050000000000001\n",
      "0.4951000000000001\n",
      "0.4852000000000001\n",
      "0.47530000000000006\n",
      "0.46540000000000004\n",
      "0.4555\n",
      "0.4456\n",
      "0.4357000000000001\n",
      "0.42580000000000007\n",
      "0.41590000000000005\n",
      "0.406\n",
      "0.3961\n",
      "0.3862000000000001\n",
      "0.3763000000000001\n",
      "0.36640000000000006\n",
      "0.35650000000000004\n",
      "0.3466\n",
      "0.3367000000000001\n",
      "0.3268000000000001\n",
      "0.31690000000000007\n",
      "0.30700000000000005\n",
      "0.29710000000000003\n",
      "0.2872000000000001\n",
      "0.2773000000000001\n",
      "0.2674000000000001\n",
      "0.25750000000000006\n",
      "0.24760000000000004\n",
      "0.23770000000000002\n",
      "0.2278000000000001\n",
      "0.2179000000000001\n",
      "0.20800000000000007\n",
      "0.19810000000000005\n",
      "0.18820000000000003\n",
      "0.17830000000000013\n",
      "0.1684000000000001\n",
      "0.15850000000000009\n",
      "0.14860000000000007\n",
      "0.13870000000000005\n",
      "0.12880000000000003\n",
      "0.11890000000000012\n",
      "0.1090000000000001\n",
      "0.09910000000000008\n",
      "0.08920000000000006\n",
      "0.07930000000000004\n",
      "0.06940000000000013\n",
      "0.05950000000000011\n",
      "0.04960000000000009\n",
      "0.03970000000000007\n",
      "0.02980000000000005\n",
      "0.01990000000000014\n",
      "0.01000000000000012\n",
      "0.01\n",
      "0.01\n",
      "0.01\n",
      "0.01\n",
      "0.01\n",
      "0.01\n",
      "0.01\n",
      "0.01\n",
      "0.01\n",
      "0.01\n",
      "0.01\n",
      "0.01\n",
      "0.01\n",
      "0.01\n",
      "0.01\n",
      "0.01\n",
      "0.01\n",
      "0.01\n",
      "0.01\n",
      "0.01\n",
      "0.01\n",
      "0.01\n",
      "0.01\n",
      "0.01\n",
      "0.01\n",
      "0.01\n",
      "0.01\n",
      "0.01\n",
      "0.01\n",
      "0.01\n",
      "0.01\n",
      "0.01\n",
      "0.01\n",
      "0.01\n",
      "0.01\n",
      "0.01\n",
      "0.01\n",
      "0.01\n",
      "0.01\n",
      "0.01\n",
      "0.01\n",
      "0.01\n",
      "0.01\n",
      "0.01\n",
      "0.01\n",
      "0.01\n",
      "0.01\n",
      "0.01\n",
      "0.01\n",
      "0.01\n",
      "0.01\n",
      "0.01\n",
      "0.01\n",
      "0.01\n",
      "0.01\n",
      "0.01\n",
      "0.01\n",
      "0.01\n",
      "0.01\n",
      "0.01\n",
      "0.01\n",
      "0.01\n",
      "0.01\n",
      "0.01\n",
      "0.01\n",
      "0.01\n",
      "0.01\n",
      "0.01\n",
      "0.01\n",
      "0.01\n",
      "0.01\n",
      "0.01\n",
      "0.01\n",
      "0.01\n",
      "0.01\n",
      "0.01\n",
      "0.01\n",
      "0.01\n",
      "0.01\n",
      "0.01\n",
      "0.01\n",
      "0.01\n",
      "0.01\n",
      "0.01\n",
      "0.01\n",
      "0.01\n",
      "0.01\n",
      "0.01\n",
      "0.01\n",
      "0.01\n",
      "0.01\n",
      "0.01\n",
      "0.01\n",
      "0.01\n",
      "0.01\n",
      "0.01\n",
      "0.01\n",
      "0.01\n",
      "0.01\n"
     ]
    }
   ],
   "source": [
    "for i in range(200):\n",
    "#     print(MIN_EPSILON + (MAX_EPSILON - MIN_EPSILON) \n",
    "#                         * math.exp(-LAMBDA * i))\n",
    "    if i <= min_explore_game:\n",
    "        print( ((MIN_EPSILON-MAX_EPSILON)/min_explore_game)*i + MAX_EPSILON)\n",
    "    else:\n",
    "        print(MIN_EPSILON)"
   ]
  },
  {
   "cell_type": "markdown",
   "metadata": {},
   "source": [
    "# Outputs"
   ]
  },
  {
   "cell_type": "code",
   "execution_count": 5,
   "metadata": {
    "collapsed": true
   },
   "outputs": [],
   "source": [
    "def play_game(num_steps):\n",
    "    state = ski_env_w.reset()\n",
    "    state_list = [state]\n",
    "    reward_list = []\n",
    "    for time_step in range(num_steps):\n",
    "        action = skiier.act(state)\n",
    "        next_state, reward, done, info = ski_env_w.step(action)\n",
    "        skiier.observe(state, action, reward, next_state, done)\n",
    "        state = next_state\n",
    "        state_list.append(state)\n",
    "        reward_list.append(reward)\n",
    "        skiier.episode = episode\n",
    "        if done:\n",
    "            break\n",
    "    return state_list, reward_list"
   ]
  },
  {
   "cell_type": "code",
   "execution_count": null,
   "metadata": {
    "collapsed": true
   },
   "outputs": [],
   "source": [
    "states_out, rewards_out = play_game(num_steps = 10000)"
   ]
  },
  {
   "cell_type": "code",
   "execution_count": null,
   "metadata": {
    "collapsed": true
   },
   "outputs": [],
   "source": [
    "file_name = \"models/test_run.hdf5\"\n",
    "skiier.brain.model.save(file_name)"
   ]
  },
  {
   "cell_type": "code",
   "execution_count": 12,
   "metadata": {
    "collapsed": true
   },
   "outputs": [
    {
     "name": "stdout",
     "output_type": "stream",
     "text": [
      "0.00909090909090909\n",
      "0.008264462809917354\n",
      "0.007513148009015776\n",
      "0.006830134553650705\n",
      "0.00620921323059155\n",
      "0.005644739300537773\n",
      "0.005131581182307066\n",
      "0.004665073802097333\n",
      "0.0042409761837248474\n",
      "0.0038554328942953155\n",
      "0.003504938994813923\n",
      "0.0031863081771035663\n",
      "0.002896643797366878\n",
      "0.0026333125430607982\n",
      "0.002393920493691635\n",
      "0.002176291357901486\n",
      "0.001978446689001351\n",
      "0.001798587899092137\n",
      "0.001635079908265579\n",
      "0.0014864362802414354\n",
      "0.0013513057093103957\n",
      "0.0012284597357367234\n",
      "0.0011167815779424758\n",
      "0.0010152559799477053\n",
      "0.0009229599817706411\n",
      "0.000839054528882401\n",
      "0.0007627768444385463\n",
      "0.0006934334949441329\n",
      "0.0006303940863128481\n",
      "0.00057308553301168\n",
      "0.0005209868481924364\n",
      "0.0004736244074476694\n",
      "0.00043056764313424494\n",
      "0.00039142513012204084\n",
      "0.0003558410273836735\n",
      "0.0003234918430760668\n",
      "0.0002940834937055152\n",
      "0.00026734863064137743\n",
      "0.00024304420967397947\n",
      "0.0002209492815217995\n",
      "0.0002008629832016359\n",
      "0.0001826027120014872\n",
      "0.00016600246545589746\n",
      "0.00015091133223263406\n",
      "0.0001371921202114855\n",
      "0.00012472010928316863\n",
      "0.0001133819175301533\n",
      "0.00010307447048195755\n",
      "9.370406407450686e-05\n",
      "8.518551279500624e-05\n",
      "7.744137526818749e-05\n",
      "7.04012502438068e-05\n",
      "6.400113658527891e-05\n",
      "5.8182851441162644e-05\n",
      "5.2893501310147856e-05\n",
      "4.8085001191043505e-05\n",
      "4.3713637446403184e-05\n",
      "3.9739670405821074e-05\n",
      "3.6126973096200975e-05\n",
      "3.2842702814728156e-05\n",
      "2.9857002558843778e-05\n",
      "2.714272959894889e-05\n",
      "2.467520872631717e-05\n",
      "2.243200793301561e-05\n",
      "2.0392734484559646e-05\n",
      "1.853884953141786e-05\n",
      "1.6853499574016235e-05\n",
      "1.532136324910567e-05\n",
      "1.3928512044641516e-05\n",
      "1.2662283676946833e-05\n",
      "1.1511166979042576e-05\n",
      "1.0464697253675068e-05\n",
      "9.513361139704608e-06\n",
      "8.648510127004189e-06\n",
      "7.862281933640171e-06\n",
      "7.147529030581974e-06\n",
      "6.49775366416543e-06\n",
      "5.907048785604936e-06\n",
      "5.370044350549942e-06\n",
      "4.881858500499946e-06\n",
      "4.438053182272678e-06\n",
      "4.034593802066071e-06\n",
      "3.6678125473327914e-06\n",
      "3.33437504302981e-06\n",
      "3.031250039118009e-06\n",
      "2.7556818537436444e-06\n",
      "2.5051653215851313e-06\n",
      "2.2774230196228464e-06\n",
      "2.0703845632934966e-06\n",
      "1.8821677848122696e-06\n",
      "1.7110616225566088e-06\n",
      "1.5555105659605534e-06\n",
      "1.414100514509594e-06\n",
      "1.285545922281449e-06\n",
      "1.1686781111649538e-06\n",
      "1.0624346465135943e-06\n",
      "9.658496786487221e-07\n",
      "8.780451624079292e-07\n",
      "7.982228749162993e-07\n",
      "7.256571590148175e-07\n"
     ]
    }
   ],
   "source": [
    "GAMMA = 0.9\n",
    "MAX_EPSILON = 1\n",
    "MIN_EPSILON = 0.01\n",
    "LAMBDA = 0.03\n",
    "NUM_GAMES = 100\n",
    "lr = 0.01\n",
    "for game_num in range(NUM_GAMES):\n",
    "    #epsilon = (MIN_EPSILON + (MAX_EPSILON - MIN_EPSILON) \n",
    "    #        * (1-math.exp(-LAMBDA * game_num)))\n",
    "    #lr *= (1 / (1+lr_decay * num_games))\n",
    "    #print(MAX_EPSILON - MIN_EPSILON)\n",
    "    #print(math.exp(-LAMBDA * game_num))\n",
    "    #print(lr)"
   ]
  },
  {
   "cell_type": "code",
   "execution_count": null,
   "metadata": {
    "collapsed": true
   },
   "outputs": [],
   "source": [
    "num_steps = 10000\n",
    "num_episodes = 5 #converges around 30-45 with current hyper parameters\n",
    "\n",
    "for episode in range(num_episodes):\n",
    "    state = ski_env_w.reset()\n",
    "    total_reward = 0\n",
    "    for time_step in range(num_steps):\n",
    "        action = skiier.act(state)\n",
    "        #print(\"Action:\", action)\n",
    "        next_state, reward, done, info = ski_env_w.step(action)\n",
    "        if next_state.shape != (125, 80, 4):\n",
    "            print(next_state.shape)\n",
    "            break\n",
    "        if done:\n",
    "            print(done)\n",
    "            print(next_state.shape)\n",
    "            done = False\n",
    "            break"
   ]
  },
  {
   "cell_type": "code",
   "execution_count": 4,
   "metadata": {
    "collapsed": true
   },
   "outputs": [],
   "source": [
    "#woo! test was successful\n",
    "\n",
    "- #checking to make sure score increases over time\n",
    "- #make updates to epsilon\n",
    "- #pull out memory as hyper parameter"
   ]
  }
 ],
 "metadata": {
  "kernelspec": {
   "display_name": "Python 3",
   "language": "python",
   "name": "python3"
  },
  "language_info": {
   "codemirror_mode": {
    "name": "ipython",
    "version": 3
   },
   "file_extension": ".py",
   "mimetype": "text/x-python",
   "name": "python",
   "nbconvert_exporter": "python",
   "pygments_lexer": "ipython3",
   "version": "3.5.2"
  }
 },
 "nbformat": 4,
 "nbformat_minor": 2
}
