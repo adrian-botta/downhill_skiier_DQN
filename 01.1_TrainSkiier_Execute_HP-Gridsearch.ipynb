{
 "cells": [
  {
   "cell_type": "code",
   "execution_count": 1,
   "metadata": {
    "collapsed": true
   },
   "outputs": [],
   "source": [
    "import fnmatch\n",
    "import os\n",
    "import uuid\n",
    "import warnings\n",
    "import yaml\n",
    "import itertools\n",
    "\n",
    "warnings.filterwarnings('ignore')\n",
    "\n",
    "import papermill as pm"
   ]
  },
  {
   "cell_type": "code",
   "execution_count": 2,
   "metadata": {
    "collapsed": true
   },
   "outputs": [],
   "source": [
    "# grid search parameters\n",
    "LEARNING_RATE_range = [0.01, 0.001, 0.0001]\n",
    "GAMMA_range = [0.9, 0.75]\n",
    "MEMORY_CAPACITY_range = [10000,25000,50000]\n",
    "\n",
    "# # grid search parameters\n",
    "# LEARNING_RATE_range = [0.01, 0.001]\n",
    "# GAMMA_range = [0.9]\n",
    "# MEMORY_CAPACITY_range = [25000]"
   ]
  },
  {
   "cell_type": "code",
   "execution_count": 3,
   "metadata": {},
   "outputs": [],
   "source": [
    "grid_search_params = []\n",
    "for param_combo in itertools.product(LEARNING_RATE_range, GAMMA_range, MEMORY_CAPACITY_range):\n",
    "    combo_name = \"-\".join([str(i).replace(\".\",\"dot\") for i in param_combo])\n",
    "    param_dict = {\"LEARNING_RATE\":param_combo[0], \"GAMMA\":param_combo[1], \n",
    "                  \"MEMORY_CAPACITY\":param_combo[2], \"experiment\":combo_name}\n",
    "    grid_search_params.append(param_dict)"
   ]
  },
  {
   "cell_type": "code",
   "execution_count": 4,
   "metadata": {},
   "outputs": [
    {
     "data": {
      "text/plain": [
       "{'GAMMA': 0.9,\n",
       " 'LEARNING_RATE': 0.01,\n",
       " 'MEMORY_CAPACITY': 10000,\n",
       " 'experiment': '0dot01-0dot9-10000'}"
      ]
     },
     "execution_count": 4,
     "metadata": {},
     "output_type": "execute_result"
    }
   ],
   "source": [
    "grid_search_params[0]"
   ]
  },
  {
   "cell_type": "code",
   "execution_count": 5,
   "metadata": {
    "collapsed": true
   },
   "outputs": [],
   "source": [
    "# create yaml config files for experiment runs\n",
    "experiment_yaml_dir = \"hyper_parameter_yamls/\"\n",
    "experiment_file_list = []\n",
    "for params in grid_search_params:\n",
    "    experiment = params[\"experiment\"]\n",
    "    experiment_filename = '{}params_{}.yml'.format(experiment_yaml_dir,experiment)\n",
    "    experiment_file_list.append(experiment_filename)\n",
    "    with open(experiment_filename, 'w') as outfile:\n",
    "        yaml.dump(params, outfile, default_flow_style=False)"
   ]
  },
  {
   "cell_type": "code",
   "execution_count": 6,
   "metadata": {
    "collapsed": true
   },
   "outputs": [],
   "source": [
    "# baseline notebook\n",
    "notebook_filestub = \"01_TrainSkiier\"\n",
    "suffix = \".ipynb\"\n",
    "output_notebook_folder = \"HP_TrainSkiier_nbs/\"\n",
    "executable_notebook = notebook_filestub + suffix"
   ]
  },
  {
   "cell_type": "code",
   "execution_count": null,
   "metadata": {},
   "outputs": [
    {
     "name": "stderr",
     "output_type": "stream",
     "text": [
      "Input Notebook:  01_TrainSkiier.ipynb\n",
      "Output Notebook: HP_TrainSkiier_nbs/01_TrainSkiier_0dot01-0dot9-10000.ipynb\n",
      "100%|██████████| 9/9 [48:24<00:00, 209.34s/it]\n",
      "Input Notebook:  01_TrainSkiier.ipynb\n",
      "Output Notebook: HP_TrainSkiier_nbs/01_TrainSkiier_0dot0001-0dot75-25000.ipynb\n",
      "100%|██████████| 9/9 [08:40<00:00, 37.59s/it] \n",
      "Input Notebook:  01_TrainSkiier.ipynb\n",
      "Output Notebook: HP_TrainSkiier_nbs/01_TrainSkiier_0dot0001-0dot75-50000.ipynb\n",
      " 44%|████▍     | 4/9 [00:01<00:05,  1.05s/it]"
     ]
    }
   ],
   "source": [
    "# run all experiments against the baseline notebooks \n",
    "pm_return_dicts = []\n",
    "for exp in experiment_file_list:\n",
    "    exp_id = exp.split(\"_\")[-1].split(\".\")[0]\n",
    "    output_notebook = output_notebook_folder + notebook_filestub + \"_{}\".format(exp_id) + suffix\n",
    "    \n",
    "    temp_dict = pm.execute_notebook(executable_notebook, \n",
    "                        output_notebook,\n",
    "                        parameters='{}params_{}.yml'.format(experiment_yaml_dir,exp_id)\n",
    "                       )\n",
    "    \n",
    "    pm_return_dicts.append(temp_dict)"
   ]
  },
  {
   "cell_type": "code",
   "execution_count": null,
   "metadata": {
    "collapsed": true
   },
   "outputs": [],
   "source": []
  }
 ],
 "metadata": {
  "kernelspec": {
   "display_name": "Python 3",
   "language": "python",
   "name": "python3"
  },
  "language_info": {
   "codemirror_mode": {
    "name": "ipython",
    "version": 3
   },
   "file_extension": ".py",
   "mimetype": "text/x-python",
   "name": "python",
   "nbconvert_exporter": "python",
   "pygments_lexer": "ipython3",
   "version": "3.5.2"
  }
 },
 "nbformat": 4,
 "nbformat_minor": 2
}
