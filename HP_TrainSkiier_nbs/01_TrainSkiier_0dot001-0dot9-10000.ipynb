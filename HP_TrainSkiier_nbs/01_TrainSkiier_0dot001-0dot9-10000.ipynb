{
 "cells": [
  {
   "cell_type": "code",
   "execution_count": 1,
   "metadata": {
    "papermill": {
     "duration": 1.440285,
     "end_time": "2018-10-05T07:17:50.612582",
     "exception": false,
     "start_time": "2018-10-05T07:17:49.172297",
     "status": "completed"
    },
    "tags": []
   },
   "outputs": [
    {
     "name": "stderr",
     "output_type": "stream",
     "text": [
      "/home/ai2-yoda/.local/lib/python3.5/site-packages/h5py/__init__.py:36: FutureWarning: Conversion of the second argument of issubdtype from `float` to `np.floating` is deprecated. In future, it will be treated as `np.float64 == np.dtype(float).type`.\n",
      "  from ._conv import register_converters as _register_converters\n",
      "Using TensorFlow backend.\n"
     ]
    }
   ],
   "source": [
    "from skiier import *\n",
    "from ski_env import *\n",
    "import matplotlib.pyplot as plt\n",
    "import gym\n",
    "import papermill as pm\n",
    "%matplotlib inline"
   ]
  },
  {
   "cell_type": "code",
   "execution_count": 2,
   "metadata": {
    "collapsed": true,
    "papermill": {
     "duration": 0.015719,
     "end_time": "2018-10-05T07:17:50.629252",
     "exception": false,
     "start_time": "2018-10-05T07:17:50.613533",
     "status": "completed"
    },
    "tags": [
     "parameters"
    ]
   },
   "outputs": [],
   "source": [
    "#Hyper Parameters\n",
    "LEARNING_RATE = 0.001\n",
    "GAMMA = 0.9\n",
    "MEMORY_CAPACITY = 25000"
   ]
  },
  {
   "cell_type": "code",
   "execution_count": 3,
   "metadata": {
    "papermill": {
     "duration": 0.033937,
     "end_time": "2018-10-05T07:17:50.663319",
     "exception": false,
     "start_time": "2018-10-05T07:17:50.629382",
     "status": "completed"
    },
    "tags": [
     "injected-parameters"
    ]
   },
   "outputs": [],
   "source": [
    "# Parameters\n",
    "experiment = \"0dot001-0dot9-10000\"\n",
    "MEMORY_CAPACITY = 10000\n",
    "GAMMA = 0.9\n",
    "LEARNING_RATE = 0.001\n"
   ]
  },
  {
   "cell_type": "code",
   "execution_count": 4,
   "metadata": {
    "papermill": {
     "duration": 0.364882,
     "end_time": "2018-10-05T07:17:51.028321",
     "exception": false,
     "start_time": "2018-10-05T07:17:50.663439",
     "status": "completed"
    },
    "scrolled": true,
    "tags": []
   },
   "outputs": [
    {
     "name": "stderr",
     "output_type": "stream",
     "text": [
      "/home/ai2-yoda/gym/gym/__init__.py:22: UserWarning: DEPRECATION WARNING: to improve load times, gym no longer automatically loads gym.spaces. Please run \"import gym.spaces\" to load gym.spaces on your own. This warning will turn into an error in a future version of gym.\n",
      "  warnings.warn('DEPRECATION WARNING: to improve load times, gym no longer automatically loads gym.spaces. Please run \"import gym.spaces\" to load gym.spaces on your own. This warning will turn into an error in a future version of gym.')\n"
     ]
    }
   ],
   "source": [
    "ski_env = gym.make(\"Skiing-v0\")\n",
    "ski_env_w = Env_wrapper(ski_env)\n",
    "skiier = Skiier(action_space = 3, learning_rate = LEARNING_RATE, LAMBDA = 0.5, \n",
    "                GAMMA = GAMMA, MEMORY_CAPACITY = MEMORY_CAPACITY)"
   ]
  },
  {
   "cell_type": "code",
   "execution_count": 5,
   "metadata": {
    "papermill": {
     "duration": 2883.923641,
     "end_time": "2018-10-05T08:05:54.952811",
     "exception": false,
     "start_time": "2018-10-05T07:17:51.029170",
     "status": "completed"
    },
    "tags": []
   },
   "outputs": [
    {
     "name": "stdout",
     "output_type": "stream",
     "text": [
      "episode: 0/100, score: 1282, final_epsilon: 1\n"
     ]
    },
    {
     "data": {
      "application/papermill.record+json": {
       "episode": 0
      }
     },
     "metadata": {},
     "output_type": "display_data"
    },
    {
     "data": {
      "application/papermill.record+json": {
       "time_step": 1282
      }
     },
     "metadata": {},
     "output_type": "display_data"
    },
    {
     "data": {
      "application/papermill.record+json": {
       "epsilon": 1
      }
     },
     "metadata": {},
     "output_type": "display_data"
    },
    {
     "name": "stdout",
     "output_type": "stream",
     "text": [
      "WARNING:tensorflow:Variable *= will be deprecated. Use variable.assign_mul if you want assignment to the variable value or 'x = x * y' if you want a new python Tensor object.\n"
     ]
    },
    {
     "name": "stdout",
     "output_type": "stream",
     "text": [
      "episode: 1/100, score: 1417, final_epsilon: 1.0\n"
     ]
    },
    {
     "data": {
      "application/papermill.record+json": {
       "episode": 1
      }
     },
     "metadata": {},
     "output_type": "display_data"
    },
    {
     "data": {
      "application/papermill.record+json": {
       "time_step": 1417
      }
     },
     "metadata": {},
     "output_type": "display_data"
    },
    {
     "data": {
      "application/papermill.record+json": {
       "epsilon": 1.0
      }
     },
     "metadata": {},
     "output_type": "display_data"
    },
    {
     "name": "stdout",
     "output_type": "stream",
     "text": [
      "episode: 2/100, score: 6004, final_epsilon: 0.6104653531155071\n"
     ]
    },
    {
     "data": {
      "application/papermill.record+json": {
       "episode": 2
      }
     },
     "metadata": {},
     "output_type": "display_data"
    },
    {
     "data": {
      "application/papermill.record+json": {
       "time_step": 6004
      }
     },
     "metadata": {},
     "output_type": "display_data"
    },
    {
     "data": {
      "application/papermill.record+json": {
       "epsilon": 0.6104653531155071
      }
     },
     "metadata": {},
     "output_type": "display_data"
    },
    {
     "name": "stdout",
     "output_type": "stream",
     "text": [
      "episode: 3/100, score: 5990, final_epsilon: 0.3742006467597279\n"
     ]
    },
    {
     "data": {
      "application/papermill.record+json": {
       "episode": 3
      }
     },
     "metadata": {},
     "output_type": "display_data"
    },
    {
     "data": {
      "application/papermill.record+json": {
       "time_step": 5990
      }
     },
     "metadata": {},
     "output_type": "display_data"
    },
    {
     "data": {
      "application/papermill.record+json": {
       "epsilon": 0.3742006467597279
      }
     },
     "metadata": {},
     "output_type": "display_data"
    },
    {
     "name": "stdout",
     "output_type": "stream",
     "text": [
      "episode: 4/100, score: 5999, final_epsilon: 0.23089885854694553\n"
     ]
    },
    {
     "data": {
      "application/papermill.record+json": {
       "episode": 4
      }
     },
     "metadata": {},
     "output_type": "display_data"
    },
    {
     "data": {
      "application/papermill.record+json": {
       "time_step": 5999
      }
     },
     "metadata": {},
     "output_type": "display_data"
    },
    {
     "data": {
      "application/papermill.record+json": {
       "epsilon": 0.23089885854694553
      }
     },
     "metadata": {},
     "output_type": "display_data"
    },
    {
     "name": "stdout",
     "output_type": "stream",
     "text": [
      "episode: 5/100, score: 5988, final_epsilon: 0.1439819304042466\n"
     ]
    },
    {
     "data": {
      "application/papermill.record+json": {
       "episode": 5
      }
     },
     "metadata": {},
     "output_type": "display_data"
    },
    {
     "data": {
      "application/papermill.record+json": {
       "time_step": 5988
      }
     },
     "metadata": {},
     "output_type": "display_data"
    },
    {
     "data": {
      "application/papermill.record+json": {
       "epsilon": 0.1439819304042466
      }
     },
     "metadata": {},
     "output_type": "display_data"
    },
    {
     "name": "stdout",
     "output_type": "stream",
     "text": [
      "episode: 6/100, score: 6035, final_epsilon: 0.0912641486376598\n"
     ]
    },
    {
     "data": {
      "application/papermill.record+json": {
       "episode": 6
      }
     },
     "metadata": {},
     "output_type": "display_data"
    },
    {
     "data": {
      "application/papermill.record+json": {
       "time_step": 6035
      }
     },
     "metadata": {},
     "output_type": "display_data"
    },
    {
     "data": {
      "application/papermill.record+json": {
       "epsilon": 0.0912641486376598
      }
     },
     "metadata": {},
     "output_type": "display_data"
    },
    {
     "name": "stdout",
     "output_type": "stream",
     "text": [
      "episode: 7/100, score: 6009, final_epsilon: 0.05928919768418531\n"
     ]
    },
    {
     "data": {
      "application/papermill.record+json": {
       "episode": 7
      }
     },
     "metadata": {},
     "output_type": "display_data"
    },
    {
     "data": {
      "application/papermill.record+json": {
       "time_step": 6009
      }
     },
     "metadata": {},
     "output_type": "display_data"
    },
    {
     "data": {
      "application/papermill.record+json": {
       "epsilon": 0.05928919768418531
      }
     },
     "metadata": {},
     "output_type": "display_data"
    },
    {
     "name": "stdout",
     "output_type": "stream",
     "text": [
      "episode: 8/100, score: 5992, final_epsilon: 0.039895409588095315\n"
     ]
    },
    {
     "data": {
      "application/papermill.record+json": {
       "episode": 8
      }
     },
     "metadata": {},
     "output_type": "display_data"
    },
    {
     "data": {
      "application/papermill.record+json": {
       "time_step": 5992
      }
     },
     "metadata": {},
     "output_type": "display_data"
    },
    {
     "data": {
      "application/papermill.record+json": {
       "epsilon": 0.039895409588095315
      }
     },
     "metadata": {},
     "output_type": "display_data"
    },
    {
     "name": "stdout",
     "output_type": "stream",
     "text": [
      "episode: 9/100, score: 5978, final_epsilon: 0.028132482499846838\n"
     ]
    },
    {
     "data": {
      "application/papermill.record+json": {
       "episode": 9
      }
     },
     "metadata": {},
     "output_type": "display_data"
    },
    {
     "data": {
      "application/papermill.record+json": {
       "time_step": 5978
      }
     },
     "metadata": {},
     "output_type": "display_data"
    },
    {
     "data": {
      "application/papermill.record+json": {
       "epsilon": 0.028132482499846838
      }
     },
     "metadata": {},
     "output_type": "display_data"
    },
    {
     "name": "stdout",
     "output_type": "stream",
     "text": [
      "episode: 10/100, score: 6032, final_epsilon: 0.02099790657285988\n"
     ]
    },
    {
     "data": {
      "application/papermill.record+json": {
       "episode": 10
      }
     },
     "metadata": {},
     "output_type": "display_data"
    },
    {
     "data": {
      "application/papermill.record+json": {
       "time_step": 6032
      }
     },
     "metadata": {},
     "output_type": "display_data"
    },
    {
     "data": {
      "application/papermill.record+json": {
       "epsilon": 0.02099790657285988
      }
     },
     "metadata": {},
     "output_type": "display_data"
    },
    {
     "name": "stdout",
     "output_type": "stream",
     "text": [
      "episode: 11/100, score: 6041, final_epsilon: 0.016670567529094613\n"
     ]
    },
    {
     "data": {
      "application/papermill.record+json": {
       "episode": 11
      }
     },
     "metadata": {},
     "output_type": "display_data"
    },
    {
     "data": {
      "application/papermill.record+json": {
       "time_step": 6041
      }
     },
     "metadata": {},
     "output_type": "display_data"
    },
    {
     "data": {
      "application/papermill.record+json": {
       "epsilon": 0.016670567529094613
      }
     },
     "metadata": {},
     "output_type": "display_data"
    },
    {
     "name": "stdout",
     "output_type": "stream",
     "text": [
      "episode: 12/100, score: 6012, final_epsilon: 0.014045903724079427\n"
     ]
    },
    {
     "data": {
      "application/papermill.record+json": {
       "episode": 12
      }
     },
     "metadata": {},
     "output_type": "display_data"
    },
    {
     "data": {
      "application/papermill.record+json": {
       "time_step": 6012
      }
     },
     "metadata": {},
     "output_type": "display_data"
    },
    {
     "data": {
      "application/papermill.record+json": {
       "epsilon": 0.014045903724079427
      }
     },
     "metadata": {},
     "output_type": "display_data"
    },
    {
     "name": "stdout",
     "output_type": "stream",
     "text": [
      "episode: 13/100, score: 6000, final_epsilon: 0.012453964654899695\n"
     ]
    },
    {
     "data": {
      "application/papermill.record+json": {
       "episode": 13
      }
     },
     "metadata": {},
     "output_type": "display_data"
    },
    {
     "data": {
      "application/papermill.record+json": {
       "time_step": 6000
      }
     },
     "metadata": {},
     "output_type": "display_data"
    },
    {
     "data": {
      "application/papermill.record+json": {
       "epsilon": 0.012453964654899695
      }
     },
     "metadata": {},
     "output_type": "display_data"
    },
    {
     "name": "stdout",
     "output_type": "stream",
     "text": [
      "episode: 14/100, score: 5994, final_epsilon: 0.011488404801047796\n"
     ]
    },
    {
     "data": {
      "application/papermill.record+json": {
       "episode": 14
      }
     },
     "metadata": {},
     "output_type": "display_data"
    },
    {
     "data": {
      "application/papermill.record+json": {
       "time_step": 5994
      }
     },
     "metadata": {},
     "output_type": "display_data"
    },
    {
     "data": {
      "application/papermill.record+json": {
       "epsilon": 0.011488404801047796
      }
     },
     "metadata": {},
     "output_type": "display_data"
    },
    {
     "name": "stdout",
     "output_type": "stream",
     "text": [
      "episode: 15/100, score: 6025, final_epsilon: 0.010902763145898971\n"
     ]
    },
    {
     "data": {
      "application/papermill.record+json": {
       "episode": 15
      }
     },
     "metadata": {},
     "output_type": "display_data"
    },
    {
     "data": {
      "application/papermill.record+json": {
       "time_step": 6025
      }
     },
     "metadata": {},
     "output_type": "display_data"
    },
    {
     "data": {
      "application/papermill.record+json": {
       "epsilon": 0.010902763145898971
      }
     },
     "metadata": {},
     "output_type": "display_data"
    },
    {
     "name": "stdout",
     "output_type": "stream",
     "text": [
      "episode: 16/100, score: 6028, final_epsilon: 0.010547553526446355\n"
     ]
    },
    {
     "data": {
      "application/papermill.record+json": {
       "episode": 16
      }
     },
     "metadata": {},
     "output_type": "display_data"
    },
    {
     "data": {
      "application/papermill.record+json": {
       "time_step": 6028
      }
     },
     "metadata": {},
     "output_type": "display_data"
    },
    {
     "data": {
      "application/papermill.record+json": {
       "epsilon": 0.010547553526446355
      }
     },
     "metadata": {},
     "output_type": "display_data"
    },
    {
     "name": "stdout",
     "output_type": "stream",
     "text": [
      "episode: 17/100, score: 5981, final_epsilon: 0.010332108001623487\n"
     ]
    },
    {
     "data": {
      "application/papermill.record+json": {
       "episode": 17
      }
     },
     "metadata": {},
     "output_type": "display_data"
    },
    {
     "data": {
      "application/papermill.record+json": {
       "time_step": 5981
      }
     },
     "metadata": {},
     "output_type": "display_data"
    },
    {
     "data": {
      "application/papermill.record+json": {
       "epsilon": 0.010332108001623487
      }
     },
     "metadata": {},
     "output_type": "display_data"
    },
    {
     "name": "stdout",
     "output_type": "stream",
     "text": [
      "episode: 18/100, score: 6004, final_epsilon: 0.010201433685320538\n"
     ]
    },
    {
     "data": {
      "application/papermill.record+json": {
       "episode": 18
      }
     },
     "metadata": {},
     "output_type": "display_data"
    },
    {
     "data": {
      "application/papermill.record+json": {
       "time_step": 6004
      }
     },
     "metadata": {},
     "output_type": "display_data"
    },
    {
     "data": {
      "application/papermill.record+json": {
       "epsilon": 0.010201433685320538
      }
     },
     "metadata": {},
     "output_type": "display_data"
    },
    {
     "name": "stdout",
     "output_type": "stream",
     "text": [
      "episode: 19/100, score: 6013, final_epsilon: 0.010122175706045813\n"
     ]
    },
    {
     "data": {
      "application/papermill.record+json": {
       "episode": 19
      }
     },
     "metadata": {},
     "output_type": "display_data"
    },
    {
     "data": {
      "application/papermill.record+json": {
       "time_step": 6013
      }
     },
     "metadata": {},
     "output_type": "display_data"
    },
    {
     "data": {
      "application/papermill.record+json": {
       "epsilon": 0.010122175706045813
      }
     },
     "metadata": {},
     "output_type": "display_data"
    },
    {
     "name": "stdout",
     "output_type": "stream",
     "text": [
      "episode: 20/100, score: 5996, final_epsilon: 0.010074103311588823\n"
     ]
    },
    {
     "data": {
      "application/papermill.record+json": {
       "episode": 20
      }
     },
     "metadata": {},
     "output_type": "display_data"
    },
    {
     "data": {
      "application/papermill.record+json": {
       "time_step": 5996
      }
     },
     "metadata": {},
     "output_type": "display_data"
    },
    {
     "data": {
      "application/papermill.record+json": {
       "epsilon": 0.010074103311588823
      }
     },
     "metadata": {},
     "output_type": "display_data"
    },
    {
     "name": "stdout",
     "output_type": "stream",
     "text": [
      "episode: 21/100, score: 6019, final_epsilon: 0.010044945930464861\n"
     ]
    },
    {
     "data": {
      "application/papermill.record+json": {
       "episode": 21
      }
     },
     "metadata": {},
     "output_type": "display_data"
    },
    {
     "data": {
      "application/papermill.record+json": {
       "time_step": 6019
      }
     },
     "metadata": {},
     "output_type": "display_data"
    },
    {
     "data": {
      "application/papermill.record+json": {
       "epsilon": 0.010044945930464861
      }
     },
     "metadata": {},
     "output_type": "display_data"
    },
    {
     "name": "stdout",
     "output_type": "stream",
     "text": [
      "episode: 22/100, score: 6020, final_epsilon: 0.01002726108485625\n"
     ]
    },
    {
     "data": {
      "application/papermill.record+json": {
       "episode": 22
      }
     },
     "metadata": {},
     "output_type": "display_data"
    },
    {
     "data": {
      "application/papermill.record+json": {
       "time_step": 6020
      }
     },
     "metadata": {},
     "output_type": "display_data"
    },
    {
     "data": {
      "application/papermill.record+json": {
       "epsilon": 0.01002726108485625
      }
     },
     "metadata": {},
     "output_type": "display_data"
    },
    {
     "name": "stdout",
     "output_type": "stream",
     "text": [
      "episode: 23/100, score: 6014, final_epsilon: 0.010016534683782344\n"
     ]
    },
    {
     "data": {
      "application/papermill.record+json": {
       "episode": 23
      }
     },
     "metadata": {},
     "output_type": "display_data"
    },
    {
     "data": {
      "application/papermill.record+json": {
       "time_step": 6014
      }
     },
     "metadata": {},
     "output_type": "display_data"
    },
    {
     "data": {
      "application/papermill.record+json": {
       "epsilon": 0.010016534683782344
      }
     },
     "metadata": {},
     "output_type": "display_data"
    },
    {
     "name": "stdout",
     "output_type": "stream",
     "text": [
      "episode: 24/100, score: 5994, final_epsilon: 0.010010028792662645\n"
     ]
    },
    {
     "data": {
      "application/papermill.record+json": {
       "episode": 24
      }
     },
     "metadata": {},
     "output_type": "display_data"
    },
    {
     "data": {
      "application/papermill.record+json": {
       "time_step": 5994
      }
     },
     "metadata": {},
     "output_type": "display_data"
    },
    {
     "data": {
      "application/papermill.record+json": {
       "epsilon": 0.010010028792662645
      }
     },
     "metadata": {},
     "output_type": "display_data"
    },
    {
     "name": "stdout",
     "output_type": "stream",
     "text": [
      "episode: 25/100, score: 6016, final_epsilon: 0.010006082770229794\n"
     ]
    },
    {
     "data": {
      "application/papermill.record+json": {
       "episode": 25
      }
     },
     "metadata": {},
     "output_type": "display_data"
    },
    {
     "data": {
      "application/papermill.record+json": {
       "time_step": 6016
      }
     },
     "metadata": {},
     "output_type": "display_data"
    },
    {
     "data": {
      "application/papermill.record+json": {
       "epsilon": 0.010006082770229794
      }
     },
     "metadata": {},
     "output_type": "display_data"
    },
    {
     "name": "stdout",
     "output_type": "stream",
     "text": [
      "episode: 26/100, score: 6029, final_epsilon: 0.010003689386640358\n"
     ]
    },
    {
     "data": {
      "application/papermill.record+json": {
       "episode": 26
      }
     },
     "metadata": {},
     "output_type": "display_data"
    },
    {
     "data": {
      "application/papermill.record+json": {
       "time_step": 6029
      }
     },
     "metadata": {},
     "output_type": "display_data"
    },
    {
     "data": {
      "application/papermill.record+json": {
       "epsilon": 0.010003689386640358
      }
     },
     "metadata": {},
     "output_type": "display_data"
    },
    {
     "name": "stdout",
     "output_type": "stream",
     "text": [
      "episode: 27/100, score: 5986, final_epsilon: 0.010002237726112912\n"
     ]
    },
    {
     "data": {
      "application/papermill.record+json": {
       "episode": 27
      }
     },
     "metadata": {},
     "output_type": "display_data"
    },
    {
     "data": {
      "application/papermill.record+json": {
       "time_step": 5986
      }
     },
     "metadata": {},
     "output_type": "display_data"
    },
    {
     "data": {
      "application/papermill.record+json": {
       "epsilon": 0.010002237726112912
      }
     },
     "metadata": {},
     "output_type": "display_data"
    },
    {
     "name": "stdout",
     "output_type": "stream",
     "text": [
      "episode: 28/100, score: 6002, final_epsilon: 0.01000135724949552\n"
     ]
    },
    {
     "data": {
      "application/papermill.record+json": {
       "episode": 28
      }
     },
     "metadata": {},
     "output_type": "display_data"
    },
    {
     "data": {
      "application/papermill.record+json": {
       "time_step": 6002
      }
     },
     "metadata": {},
     "output_type": "display_data"
    },
    {
     "data": {
      "application/papermill.record+json": {
       "epsilon": 0.01000135724949552
      }
     },
     "metadata": {},
     "output_type": "display_data"
    },
    {
     "name": "stdout",
     "output_type": "stream",
     "text": [
      "episode: 29/100, score: 6009, final_epsilon: 0.010000823213431913\n"
     ]
    },
    {
     "data": {
      "application/papermill.record+json": {
       "episode": 29
      }
     },
     "metadata": {},
     "output_type": "display_data"
    },
    {
     "data": {
      "application/papermill.record+json": {
       "time_step": 6009
      }
     },
     "metadata": {},
     "output_type": "display_data"
    },
    {
     "data": {
      "application/papermill.record+json": {
       "epsilon": 0.010000823213431913
      }
     },
     "metadata": {},
     "output_type": "display_data"
    },
    {
     "name": "stdout",
     "output_type": "stream",
     "text": [
      "episode: 30/100, score: 5985, final_epsilon: 0.010000499304185942\n"
     ]
    },
    {
     "data": {
      "application/papermill.record+json": {
       "episode": 30
      }
     },
     "metadata": {},
     "output_type": "display_data"
    },
    {
     "data": {
      "application/papermill.record+json": {
       "time_step": 5985
      }
     },
     "metadata": {},
     "output_type": "display_data"
    },
    {
     "data": {
      "application/papermill.record+json": {
       "epsilon": 0.010000499304185942
      }
     },
     "metadata": {},
     "output_type": "display_data"
    },
    {
     "name": "stdout",
     "output_type": "stream",
     "text": [
      "episode: 31/100, score: 6001, final_epsilon: 0.010000302843297297\n"
     ]
    },
    {
     "data": {
      "application/papermill.record+json": {
       "episode": 31
      }
     },
     "metadata": {},
     "output_type": "display_data"
    },
    {
     "data": {
      "application/papermill.record+json": {
       "time_step": 6001
      }
     },
     "metadata": {},
     "output_type": "display_data"
    },
    {
     "data": {
      "application/papermill.record+json": {
       "epsilon": 0.010000302843297297
      }
     },
     "metadata": {},
     "output_type": "display_data"
    },
    {
     "name": "stdout",
     "output_type": "stream",
     "text": [
      "episode: 32/100, score: 5988, final_epsilon: 0.010000183683744899\n"
     ]
    },
    {
     "data": {
      "application/papermill.record+json": {
       "episode": 32
      }
     },
     "metadata": {},
     "output_type": "display_data"
    },
    {
     "data": {
      "application/papermill.record+json": {
       "time_step": 5988
      }
     },
     "metadata": {},
     "output_type": "display_data"
    },
    {
     "data": {
      "application/papermill.record+json": {
       "epsilon": 0.010000183683744899
      }
     },
     "metadata": {},
     "output_type": "display_data"
    },
    {
     "name": "stdout",
     "output_type": "stream",
     "text": [
      "episode: 33/100, score: 5999, final_epsilon: 0.010000111409822971\n"
     ]
    },
    {
     "data": {
      "application/papermill.record+json": {
       "episode": 33
      }
     },
     "metadata": {},
     "output_type": "display_data"
    },
    {
     "data": {
      "application/papermill.record+json": {
       "time_step": 5999
      }
     },
     "metadata": {},
     "output_type": "display_data"
    },
    {
     "data": {
      "application/papermill.record+json": {
       "epsilon": 0.010000111409822971
      }
     },
     "metadata": {},
     "output_type": "display_data"
    },
    {
     "name": "stdout",
     "output_type": "stream",
     "text": [
      "episode: 34/100, score: 5996, final_epsilon: 0.010000067573473426\n"
     ]
    },
    {
     "data": {
      "application/papermill.record+json": {
       "episode": 34
      }
     },
     "metadata": {},
     "output_type": "display_data"
    },
    {
     "data": {
      "application/papermill.record+json": {
       "time_step": 5996
      }
     },
     "metadata": {},
     "output_type": "display_data"
    },
    {
     "data": {
      "application/papermill.record+json": {
       "epsilon": 0.010000067573473426
      }
     },
     "metadata": {},
     "output_type": "display_data"
    },
    {
     "name": "stdout",
     "output_type": "stream",
     "text": [
      "episode: 35/100, score: 5980, final_epsilon: 0.010000040985383415\n"
     ]
    },
    {
     "data": {
      "application/papermill.record+json": {
       "episode": 35
      }
     },
     "metadata": {},
     "output_type": "display_data"
    },
    {
     "data": {
      "application/papermill.record+json": {
       "time_step": 5980
      }
     },
     "metadata": {},
     "output_type": "display_data"
    },
    {
     "data": {
      "application/papermill.record+json": {
       "epsilon": 0.010000040985383415
      }
     },
     "metadata": {},
     "output_type": "display_data"
    },
    {
     "name": "stdout",
     "output_type": "stream",
     "text": [
      "episode: 36/100, score: 5992, final_epsilon: 0.010000024858891642\n"
     ]
    },
    {
     "data": {
      "application/papermill.record+json": {
       "episode": 36
      }
     },
     "metadata": {},
     "output_type": "display_data"
    },
    {
     "data": {
      "application/papermill.record+json": {
       "time_step": 5992
      }
     },
     "metadata": {},
     "output_type": "display_data"
    },
    {
     "data": {
      "application/papermill.record+json": {
       "epsilon": 0.010000024858891642
      }
     },
     "metadata": {},
     "output_type": "display_data"
    },
    {
     "name": "stdout",
     "output_type": "stream",
     "text": [
      "episode: 37/100, score: 6067, final_epsilon: 0.010000015077679947\n"
     ]
    },
    {
     "data": {
      "application/papermill.record+json": {
       "episode": 37
      }
     },
     "metadata": {},
     "output_type": "display_data"
    },
    {
     "data": {
      "application/papermill.record+json": {
       "time_step": 6067
      }
     },
     "metadata": {},
     "output_type": "display_data"
    },
    {
     "data": {
      "application/papermill.record+json": {
       "epsilon": 0.010000015077679947
      }
     },
     "metadata": {},
     "output_type": "display_data"
    },
    {
     "name": "stdout",
     "output_type": "stream",
     "text": [
      "episode: 38/100, score: 5996, final_epsilon: 0.010000009145075166\n"
     ]
    },
    {
     "data": {
      "application/papermill.record+json": {
       "episode": 38
      }
     },
     "metadata": {},
     "output_type": "display_data"
    },
    {
     "data": {
      "application/papermill.record+json": {
       "time_step": 5996
      }
     },
     "metadata": {},
     "output_type": "display_data"
    },
    {
     "data": {
      "application/papermill.record+json": {
       "epsilon": 0.010000009145075166
      }
     },
     "metadata": {},
     "output_type": "display_data"
    },
    {
     "name": "stdout",
     "output_type": "stream",
     "text": [
      "episode: 39/100, score: 6008, final_epsilon: 0.010000005546768474\n"
     ]
    },
    {
     "data": {
      "application/papermill.record+json": {
       "episode": 39
      }
     },
     "metadata": {},
     "output_type": "display_data"
    },
    {
     "data": {
      "application/papermill.record+json": {
       "time_step": 6008
      }
     },
     "metadata": {},
     "output_type": "display_data"
    },
    {
     "data": {
      "application/papermill.record+json": {
       "epsilon": 0.010000005546768474
      }
     },
     "metadata": {},
     "output_type": "display_data"
    },
    {
     "name": "stdout",
     "output_type": "stream",
     "text": [
      "episode: 40/100, score: 6013, final_epsilon: 0.010000003364285142\n"
     ]
    },
    {
     "data": {
      "application/papermill.record+json": {
       "episode": 40
      }
     },
     "metadata": {},
     "output_type": "display_data"
    },
    {
     "data": {
      "application/papermill.record+json": {
       "time_step": 6013
      }
     },
     "metadata": {},
     "output_type": "display_data"
    },
    {
     "data": {
      "application/papermill.record+json": {
       "epsilon": 0.010000003364285142
      }
     },
     "metadata": {},
     "output_type": "display_data"
    },
    {
     "name": "stdout",
     "output_type": "stream",
     "text": [
      "episode: 41/100, score: 6021, final_epsilon: 0.010000002040542086\n"
     ]
    },
    {
     "data": {
      "application/papermill.record+json": {
       "episode": 41
      }
     },
     "metadata": {},
     "output_type": "display_data"
    },
    {
     "data": {
      "application/papermill.record+json": {
       "time_step": 6021
      }
     },
     "metadata": {},
     "output_type": "display_data"
    },
    {
     "data": {
      "application/papermill.record+json": {
       "epsilon": 0.010000002040542086
      }
     },
     "metadata": {},
     "output_type": "display_data"
    },
    {
     "name": "stdout",
     "output_type": "stream",
     "text": [
      "episode: 42/100, score: 6009, final_epsilon: 0.010000001237651338\n"
     ]
    },
    {
     "data": {
      "application/papermill.record+json": {
       "episode": 42
      }
     },
     "metadata": {},
     "output_type": "display_data"
    },
    {
     "data": {
      "application/papermill.record+json": {
       "time_step": 6009
      }
     },
     "metadata": {},
     "output_type": "display_data"
    },
    {
     "data": {
      "application/papermill.record+json": {
       "epsilon": 0.010000001237651338
      }
     },
     "metadata": {},
     "output_type": "display_data"
    },
    {
     "name": "stdout",
     "output_type": "stream",
     "text": [
      "episode: 43/100, score: 6014, final_epsilon: 0.010000000750673482\n"
     ]
    },
    {
     "data": {
      "application/papermill.record+json": {
       "episode": 43
      }
     },
     "metadata": {},
     "output_type": "display_data"
    },
    {
     "data": {
      "application/papermill.record+json": {
       "time_step": 6014
      }
     },
     "metadata": {},
     "output_type": "display_data"
    },
    {
     "data": {
      "application/papermill.record+json": {
       "epsilon": 0.010000000750673482
      }
     },
     "metadata": {},
     "output_type": "display_data"
    },
    {
     "name": "stdout",
     "output_type": "stream",
     "text": [
      "episode: 44/100, score: 5971, final_epsilon: 0.010000000455306482\n"
     ]
    },
    {
     "data": {
      "application/papermill.record+json": {
       "episode": 44
      }
     },
     "metadata": {},
     "output_type": "display_data"
    },
    {
     "data": {
      "application/papermill.record+json": {
       "time_step": 5971
      }
     },
     "metadata": {},
     "output_type": "display_data"
    },
    {
     "data": {
      "application/papermill.record+json": {
       "epsilon": 0.010000000455306482
      }
     },
     "metadata": {},
     "output_type": "display_data"
    },
    {
     "name": "stdout",
     "output_type": "stream",
     "text": [
      "episode: 45/100, score: 6009, final_epsilon: 0.010000000276157342\n"
     ]
    },
    {
     "data": {
      "application/papermill.record+json": {
       "episode": 45
      }
     },
     "metadata": {},
     "output_type": "display_data"
    },
    {
     "data": {
      "application/papermill.record+json": {
       "time_step": 6009
      }
     },
     "metadata": {},
     "output_type": "display_data"
    },
    {
     "data": {
      "application/papermill.record+json": {
       "epsilon": 0.010000000276157342
      }
     },
     "metadata": {},
     "output_type": "display_data"
    },
    {
     "name": "stdout",
     "output_type": "stream",
     "text": [
      "episode: 46/100, score: 6001, final_epsilon: 0.010000000167497894\n"
     ]
    },
    {
     "data": {
      "application/papermill.record+json": {
       "episode": 46
      }
     },
     "metadata": {},
     "output_type": "display_data"
    },
    {
     "data": {
      "application/papermill.record+json": {
       "time_step": 6001
      }
     },
     "metadata": {},
     "output_type": "display_data"
    },
    {
     "data": {
      "application/papermill.record+json": {
       "epsilon": 0.010000000167497894
      }
     },
     "metadata": {},
     "output_type": "display_data"
    },
    {
     "name": "stdout",
     "output_type": "stream",
     "text": [
      "episode: 47/100, score: 6052, final_epsilon: 0.010000000101592608\n"
     ]
    },
    {
     "data": {
      "application/papermill.record+json": {
       "episode": 47
      }
     },
     "metadata": {},
     "output_type": "display_data"
    },
    {
     "data": {
      "application/papermill.record+json": {
       "time_step": 6052
      }
     },
     "metadata": {},
     "output_type": "display_data"
    },
    {
     "data": {
      "application/papermill.record+json": {
       "epsilon": 0.010000000101592608
      }
     },
     "metadata": {},
     "output_type": "display_data"
    },
    {
     "name": "stdout",
     "output_type": "stream",
     "text": [
      "episode: 48/100, score: 6002, final_epsilon: 0.010000000061619031\n"
     ]
    },
    {
     "data": {
      "application/papermill.record+json": {
       "episode": 48
      }
     },
     "metadata": {},
     "output_type": "display_data"
    },
    {
     "data": {
      "application/papermill.record+json": {
       "time_step": 6002
      }
     },
     "metadata": {},
     "output_type": "display_data"
    },
    {
     "data": {
      "application/papermill.record+json": {
       "epsilon": 0.010000000061619031
      }
     },
     "metadata": {},
     "output_type": "display_data"
    },
    {
     "name": "stdout",
     "output_type": "stream",
     "text": [
      "episode: 49/100, score: 5976, final_epsilon: 0.010000000037373832\n"
     ]
    },
    {
     "data": {
      "application/papermill.record+json": {
       "episode": 49
      }
     },
     "metadata": {},
     "output_type": "display_data"
    },
    {
     "data": {
      "application/papermill.record+json": {
       "time_step": 5976
      }
     },
     "metadata": {},
     "output_type": "display_data"
    },
    {
     "data": {
      "application/papermill.record+json": {
       "epsilon": 0.010000000037373832
      }
     },
     "metadata": {},
     "output_type": "display_data"
    },
    {
     "name": "stdout",
     "output_type": "stream",
     "text": [
      "episode: 50/100, score: 5978, final_epsilon: 0.010000000022668374\n"
     ]
    },
    {
     "data": {
      "application/papermill.record+json": {
       "episode": 50
      }
     },
     "metadata": {},
     "output_type": "display_data"
    },
    {
     "data": {
      "application/papermill.record+json": {
       "time_step": 5978
      }
     },
     "metadata": {},
     "output_type": "display_data"
    },
    {
     "data": {
      "application/papermill.record+json": {
       "epsilon": 0.010000000022668374
      }
     },
     "metadata": {},
     "output_type": "display_data"
    },
    {
     "name": "stdout",
     "output_type": "stream",
     "text": [
      "episode: 51/100, score: 6009, final_epsilon: 0.010000000013749065\n"
     ]
    },
    {
     "data": {
      "application/papermill.record+json": {
       "episode": 51
      }
     },
     "metadata": {},
     "output_type": "display_data"
    },
    {
     "data": {
      "application/papermill.record+json": {
       "time_step": 6009
      }
     },
     "metadata": {},
     "output_type": "display_data"
    },
    {
     "data": {
      "application/papermill.record+json": {
       "epsilon": 0.010000000013749065
      }
     },
     "metadata": {},
     "output_type": "display_data"
    },
    {
     "name": "stdout",
     "output_type": "stream",
     "text": [
      "episode: 52/100, score: 5987, final_epsilon: 0.010000000008339229\n"
     ]
    },
    {
     "data": {
      "application/papermill.record+json": {
       "episode": 52
      }
     },
     "metadata": {},
     "output_type": "display_data"
    },
    {
     "data": {
      "application/papermill.record+json": {
       "time_step": 5987
      }
     },
     "metadata": {},
     "output_type": "display_data"
    },
    {
     "data": {
      "application/papermill.record+json": {
       "epsilon": 0.010000000008339229
      }
     },
     "metadata": {},
     "output_type": "display_data"
    },
    {
     "name": "stdout",
     "output_type": "stream",
     "text": [
      "episode: 53/100, score: 5953, final_epsilon: 0.010000000005057998\n"
     ]
    },
    {
     "data": {
      "application/papermill.record+json": {
       "episode": 53
      }
     },
     "metadata": {},
     "output_type": "display_data"
    },
    {
     "data": {
      "application/papermill.record+json": {
       "time_step": 5953
      }
     },
     "metadata": {},
     "output_type": "display_data"
    },
    {
     "data": {
      "application/papermill.record+json": {
       "epsilon": 0.010000000005057998
      }
     },
     "metadata": {},
     "output_type": "display_data"
    },
    {
     "name": "stdout",
     "output_type": "stream",
     "text": [
      "episode: 54/100, score: 6028, final_epsilon: 0.010000000003067831\n"
     ]
    },
    {
     "data": {
      "application/papermill.record+json": {
       "episode": 54
      }
     },
     "metadata": {},
     "output_type": "display_data"
    },
    {
     "data": {
      "application/papermill.record+json": {
       "time_step": 6028
      }
     },
     "metadata": {},
     "output_type": "display_data"
    },
    {
     "data": {
      "application/papermill.record+json": {
       "epsilon": 0.010000000003067831
      }
     },
     "metadata": {},
     "output_type": "display_data"
    },
    {
     "name": "stdout",
     "output_type": "stream",
     "text": [
      "episode: 55/100, score: 6012, final_epsilon: 0.010000000001860734\n"
     ]
    },
    {
     "data": {
      "application/papermill.record+json": {
       "episode": 55
      }
     },
     "metadata": {},
     "output_type": "display_data"
    },
    {
     "data": {
      "application/papermill.record+json": {
       "time_step": 6012
      }
     },
     "metadata": {},
     "output_type": "display_data"
    },
    {
     "data": {
      "application/papermill.record+json": {
       "epsilon": 0.010000000001860734
      }
     },
     "metadata": {},
     "output_type": "display_data"
    },
    {
     "name": "stdout",
     "output_type": "stream",
     "text": [
      "episode: 56/100, score: 5988, final_epsilon: 0.010000000001128592\n"
     ]
    },
    {
     "data": {
      "application/papermill.record+json": {
       "episode": 56
      }
     },
     "metadata": {},
     "output_type": "display_data"
    },
    {
     "data": {
      "application/papermill.record+json": {
       "time_step": 5988
      }
     },
     "metadata": {},
     "output_type": "display_data"
    },
    {
     "data": {
      "application/papermill.record+json": {
       "epsilon": 0.010000000001128592
      }
     },
     "metadata": {},
     "output_type": "display_data"
    },
    {
     "name": "stdout",
     "output_type": "stream",
     "text": [
      "episode: 57/100, score: 6010, final_epsilon: 0.010000000000684526\n"
     ]
    },
    {
     "data": {
      "application/papermill.record+json": {
       "episode": 57
      }
     },
     "metadata": {},
     "output_type": "display_data"
    },
    {
     "data": {
      "application/papermill.record+json": {
       "time_step": 6010
      }
     },
     "metadata": {},
     "output_type": "display_data"
    },
    {
     "data": {
      "application/papermill.record+json": {
       "epsilon": 0.010000000000684526
      }
     },
     "metadata": {},
     "output_type": "display_data"
    },
    {
     "name": "stdout",
     "output_type": "stream",
     "text": [
      "episode: 58/100, score: 5987, final_epsilon: 0.010000000000415185\n"
     ]
    },
    {
     "data": {
      "application/papermill.record+json": {
       "episode": 58
      }
     },
     "metadata": {},
     "output_type": "display_data"
    },
    {
     "data": {
      "application/papermill.record+json": {
       "time_step": 5987
      }
     },
     "metadata": {},
     "output_type": "display_data"
    },
    {
     "data": {
      "application/papermill.record+json": {
       "epsilon": 0.010000000000415185
      }
     },
     "metadata": {},
     "output_type": "display_data"
    },
    {
     "name": "stdout",
     "output_type": "stream",
     "text": [
      "episode: 59/100, score: 5989, final_epsilon: 0.010000000000251823\n"
     ]
    },
    {
     "data": {
      "application/papermill.record+json": {
       "episode": 59
      }
     },
     "metadata": {},
     "output_type": "display_data"
    },
    {
     "data": {
      "application/papermill.record+json": {
       "time_step": 5989
      }
     },
     "metadata": {},
     "output_type": "display_data"
    },
    {
     "data": {
      "application/papermill.record+json": {
       "epsilon": 0.010000000000251823
      }
     },
     "metadata": {},
     "output_type": "display_data"
    },
    {
     "name": "stdout",
     "output_type": "stream",
     "text": [
      "episode: 60/100, score: 6053, final_epsilon: 0.01000000000015274\n"
     ]
    },
    {
     "data": {
      "application/papermill.record+json": {
       "episode": 60
      }
     },
     "metadata": {},
     "output_type": "display_data"
    },
    {
     "data": {
      "application/papermill.record+json": {
       "time_step": 6053
      }
     },
     "metadata": {},
     "output_type": "display_data"
    },
    {
     "data": {
      "application/papermill.record+json": {
       "epsilon": 0.01000000000015274
      }
     },
     "metadata": {},
     "output_type": "display_data"
    },
    {
     "name": "stdout",
     "output_type": "stream",
     "text": [
      "episode: 61/100, score: 6035, final_epsilon: 0.010000000000092641\n"
     ]
    },
    {
     "data": {
      "application/papermill.record+json": {
       "episode": 61
      }
     },
     "metadata": {},
     "output_type": "display_data"
    },
    {
     "data": {
      "application/papermill.record+json": {
       "time_step": 6035
      }
     },
     "metadata": {},
     "output_type": "display_data"
    },
    {
     "data": {
      "application/papermill.record+json": {
       "epsilon": 0.010000000000092641
      }
     },
     "metadata": {},
     "output_type": "display_data"
    },
    {
     "name": "stdout",
     "output_type": "stream",
     "text": [
      "episode: 62/100, score: 6018, final_epsilon: 0.01000000000005619\n"
     ]
    },
    {
     "data": {
      "application/papermill.record+json": {
       "episode": 62
      }
     },
     "metadata": {},
     "output_type": "display_data"
    },
    {
     "data": {
      "application/papermill.record+json": {
       "time_step": 6018
      }
     },
     "metadata": {},
     "output_type": "display_data"
    },
    {
     "data": {
      "application/papermill.record+json": {
       "epsilon": 0.01000000000005619
      }
     },
     "metadata": {},
     "output_type": "display_data"
    },
    {
     "name": "stdout",
     "output_type": "stream",
     "text": [
      "episode: 63/100, score: 6014, final_epsilon: 0.01000000000003408\n"
     ]
    },
    {
     "data": {
      "application/papermill.record+json": {
       "episode": 63
      }
     },
     "metadata": {},
     "output_type": "display_data"
    },
    {
     "data": {
      "application/papermill.record+json": {
       "time_step": 6014
      }
     },
     "metadata": {},
     "output_type": "display_data"
    },
    {
     "data": {
      "application/papermill.record+json": {
       "epsilon": 0.01000000000003408
      }
     },
     "metadata": {},
     "output_type": "display_data"
    },
    {
     "name": "stdout",
     "output_type": "stream",
     "text": [
      "episode: 64/100, score: 6010, final_epsilon: 0.010000000000020671\n"
     ]
    },
    {
     "data": {
      "application/papermill.record+json": {
       "episode": 64
      }
     },
     "metadata": {},
     "output_type": "display_data"
    },
    {
     "data": {
      "application/papermill.record+json": {
       "time_step": 6010
      }
     },
     "metadata": {},
     "output_type": "display_data"
    },
    {
     "data": {
      "application/papermill.record+json": {
       "epsilon": 0.010000000000020671
      }
     },
     "metadata": {},
     "output_type": "display_data"
    },
    {
     "name": "stdout",
     "output_type": "stream",
     "text": [
      "episode: 65/100, score: 5975, final_epsilon: 0.010000000000012537\n"
     ]
    },
    {
     "data": {
      "application/papermill.record+json": {
       "episode": 65
      }
     },
     "metadata": {},
     "output_type": "display_data"
    },
    {
     "data": {
      "application/papermill.record+json": {
       "time_step": 5975
      }
     },
     "metadata": {},
     "output_type": "display_data"
    },
    {
     "data": {
      "application/papermill.record+json": {
       "epsilon": 0.010000000000012537
      }
     },
     "metadata": {},
     "output_type": "display_data"
    },
    {
     "name": "stdout",
     "output_type": "stream",
     "text": [
      "episode: 66/100, score: 5960, final_epsilon: 0.010000000000007605\n"
     ]
    },
    {
     "data": {
      "application/papermill.record+json": {
       "episode": 66
      }
     },
     "metadata": {},
     "output_type": "display_data"
    },
    {
     "data": {
      "application/papermill.record+json": {
       "time_step": 5960
      }
     },
     "metadata": {},
     "output_type": "display_data"
    },
    {
     "data": {
      "application/papermill.record+json": {
       "epsilon": 0.010000000000007605
      }
     },
     "metadata": {},
     "output_type": "display_data"
    },
    {
     "name": "stdout",
     "output_type": "stream",
     "text": [
      "episode: 67/100, score: 6025, final_epsilon: 0.010000000000004613\n"
     ]
    },
    {
     "data": {
      "application/papermill.record+json": {
       "episode": 67
      }
     },
     "metadata": {},
     "output_type": "display_data"
    },
    {
     "data": {
      "application/papermill.record+json": {
       "time_step": 6025
      }
     },
     "metadata": {},
     "output_type": "display_data"
    },
    {
     "data": {
      "application/papermill.record+json": {
       "epsilon": 0.010000000000004613
      }
     },
     "metadata": {},
     "output_type": "display_data"
    },
    {
     "name": "stdout",
     "output_type": "stream",
     "text": [
      "episode: 68/100, score: 6007, final_epsilon: 0.010000000000002798\n"
     ]
    },
    {
     "data": {
      "application/papermill.record+json": {
       "episode": 68
      }
     },
     "metadata": {},
     "output_type": "display_data"
    },
    {
     "data": {
      "application/papermill.record+json": {
       "time_step": 6007
      }
     },
     "metadata": {},
     "output_type": "display_data"
    },
    {
     "data": {
      "application/papermill.record+json": {
       "epsilon": 0.010000000000002798
      }
     },
     "metadata": {},
     "output_type": "display_data"
    },
    {
     "name": "stdout",
     "output_type": "stream",
     "text": [
      "episode: 69/100, score: 5991, final_epsilon: 0.010000000000001697\n"
     ]
    },
    {
     "data": {
      "application/papermill.record+json": {
       "episode": 69
      }
     },
     "metadata": {},
     "output_type": "display_data"
    },
    {
     "data": {
      "application/papermill.record+json": {
       "time_step": 5991
      }
     },
     "metadata": {},
     "output_type": "display_data"
    },
    {
     "data": {
      "application/papermill.record+json": {
       "epsilon": 0.010000000000001697
      }
     },
     "metadata": {},
     "output_type": "display_data"
    },
    {
     "name": "stdout",
     "output_type": "stream",
     "text": [
      "episode: 70/100, score: 6017, final_epsilon: 0.010000000000001029\n"
     ]
    },
    {
     "data": {
      "application/papermill.record+json": {
       "episode": 70
      }
     },
     "metadata": {},
     "output_type": "display_data"
    },
    {
     "data": {
      "application/papermill.record+json": {
       "time_step": 6017
      }
     },
     "metadata": {},
     "output_type": "display_data"
    },
    {
     "data": {
      "application/papermill.record+json": {
       "epsilon": 0.010000000000001029
      }
     },
     "metadata": {},
     "output_type": "display_data"
    },
    {
     "name": "stdout",
     "output_type": "stream",
     "text": [
      "episode: 71/100, score: 6030, final_epsilon: 0.010000000000000625\n"
     ]
    },
    {
     "data": {
      "application/papermill.record+json": {
       "episode": 71
      }
     },
     "metadata": {},
     "output_type": "display_data"
    },
    {
     "data": {
      "application/papermill.record+json": {
       "time_step": 6030
      }
     },
     "metadata": {},
     "output_type": "display_data"
    },
    {
     "data": {
      "application/papermill.record+json": {
       "epsilon": 0.010000000000000625
      }
     },
     "metadata": {},
     "output_type": "display_data"
    },
    {
     "name": "stdout",
     "output_type": "stream",
     "text": [
      "episode: 72/100, score: 5994, final_epsilon: 0.010000000000000378\n"
     ]
    },
    {
     "data": {
      "application/papermill.record+json": {
       "episode": 72
      }
     },
     "metadata": {},
     "output_type": "display_data"
    },
    {
     "data": {
      "application/papermill.record+json": {
       "time_step": 5994
      }
     },
     "metadata": {},
     "output_type": "display_data"
    },
    {
     "data": {
      "application/papermill.record+json": {
       "epsilon": 0.010000000000000378
      }
     },
     "metadata": {},
     "output_type": "display_data"
    },
    {
     "name": "stdout",
     "output_type": "stream",
     "text": [
      "episode: 73/100, score: 6017, final_epsilon: 0.01000000000000023\n"
     ]
    },
    {
     "data": {
      "application/papermill.record+json": {
       "episode": 73
      }
     },
     "metadata": {},
     "output_type": "display_data"
    },
    {
     "data": {
      "application/papermill.record+json": {
       "time_step": 6017
      }
     },
     "metadata": {},
     "output_type": "display_data"
    },
    {
     "data": {
      "application/papermill.record+json": {
       "epsilon": 0.01000000000000023
      }
     },
     "metadata": {},
     "output_type": "display_data"
    },
    {
     "name": "stdout",
     "output_type": "stream",
     "text": [
      "episode: 74/100, score: 5998, final_epsilon: 0.010000000000000139\n"
     ]
    },
    {
     "data": {
      "application/papermill.record+json": {
       "episode": 74
      }
     },
     "metadata": {},
     "output_type": "display_data"
    },
    {
     "data": {
      "application/papermill.record+json": {
       "time_step": 5998
      }
     },
     "metadata": {},
     "output_type": "display_data"
    },
    {
     "data": {
      "application/papermill.record+json": {
       "epsilon": 0.010000000000000139
      }
     },
     "metadata": {},
     "output_type": "display_data"
    },
    {
     "name": "stdout",
     "output_type": "stream",
     "text": [
      "episode: 75/100, score: 5995, final_epsilon: 0.010000000000000085\n"
     ]
    },
    {
     "data": {
      "application/papermill.record+json": {
       "episode": 75
      }
     },
     "metadata": {},
     "output_type": "display_data"
    },
    {
     "data": {
      "application/papermill.record+json": {
       "time_step": 5995
      }
     },
     "metadata": {},
     "output_type": "display_data"
    },
    {
     "data": {
      "application/papermill.record+json": {
       "epsilon": 0.010000000000000085
      }
     },
     "metadata": {},
     "output_type": "display_data"
    },
    {
     "name": "stdout",
     "output_type": "stream",
     "text": [
      "episode: 76/100, score: 6023, final_epsilon: 0.010000000000000052\n"
     ]
    },
    {
     "data": {
      "application/papermill.record+json": {
       "episode": 76
      }
     },
     "metadata": {},
     "output_type": "display_data"
    },
    {
     "data": {
      "application/papermill.record+json": {
       "time_step": 6023
      }
     },
     "metadata": {},
     "output_type": "display_data"
    },
    {
     "data": {
      "application/papermill.record+json": {
       "epsilon": 0.010000000000000052
      }
     },
     "metadata": {},
     "output_type": "display_data"
    },
    {
     "name": "stdout",
     "output_type": "stream",
     "text": [
      "episode: 77/100, score: 6012, final_epsilon: 0.010000000000000031\n"
     ]
    },
    {
     "data": {
      "application/papermill.record+json": {
       "episode": 77
      }
     },
     "metadata": {},
     "output_type": "display_data"
    },
    {
     "data": {
      "application/papermill.record+json": {
       "time_step": 6012
      }
     },
     "metadata": {},
     "output_type": "display_data"
    },
    {
     "data": {
      "application/papermill.record+json": {
       "epsilon": 0.010000000000000031
      }
     },
     "metadata": {},
     "output_type": "display_data"
    },
    {
     "name": "stdout",
     "output_type": "stream",
     "text": [
      "episode: 78/100, score: 5991, final_epsilon: 0.01000000000000002\n"
     ]
    },
    {
     "data": {
      "application/papermill.record+json": {
       "episode": 78
      }
     },
     "metadata": {},
     "output_type": "display_data"
    },
    {
     "data": {
      "application/papermill.record+json": {
       "time_step": 5991
      }
     },
     "metadata": {},
     "output_type": "display_data"
    },
    {
     "data": {
      "application/papermill.record+json": {
       "epsilon": 0.01000000000000002
      }
     },
     "metadata": {},
     "output_type": "display_data"
    },
    {
     "name": "stdout",
     "output_type": "stream",
     "text": [
      "episode: 79/100, score: 6009, final_epsilon: 0.010000000000000012\n"
     ]
    },
    {
     "data": {
      "application/papermill.record+json": {
       "episode": 79
      }
     },
     "metadata": {},
     "output_type": "display_data"
    },
    {
     "data": {
      "application/papermill.record+json": {
       "time_step": 6009
      }
     },
     "metadata": {},
     "output_type": "display_data"
    },
    {
     "data": {
      "application/papermill.record+json": {
       "epsilon": 0.010000000000000012
      }
     },
     "metadata": {},
     "output_type": "display_data"
    },
    {
     "name": "stdout",
     "output_type": "stream",
     "text": [
      "episode: 80/100, score: 6009, final_epsilon: 0.010000000000000007\n"
     ]
    },
    {
     "data": {
      "application/papermill.record+json": {
       "episode": 80
      }
     },
     "metadata": {},
     "output_type": "display_data"
    },
    {
     "data": {
      "application/papermill.record+json": {
       "time_step": 6009
      }
     },
     "metadata": {},
     "output_type": "display_data"
    },
    {
     "data": {
      "application/papermill.record+json": {
       "epsilon": 0.010000000000000007
      }
     },
     "metadata": {},
     "output_type": "display_data"
    },
    {
     "name": "stdout",
     "output_type": "stream",
     "text": [
      "episode: 81/100, score: 5985, final_epsilon: 0.010000000000000004\n"
     ]
    },
    {
     "data": {
      "application/papermill.record+json": {
       "episode": 81
      }
     },
     "metadata": {},
     "output_type": "display_data"
    },
    {
     "data": {
      "application/papermill.record+json": {
       "time_step": 5985
      }
     },
     "metadata": {},
     "output_type": "display_data"
    },
    {
     "data": {
      "application/papermill.record+json": {
       "epsilon": 0.010000000000000004
      }
     },
     "metadata": {},
     "output_type": "display_data"
    },
    {
     "name": "stdout",
     "output_type": "stream",
     "text": [
      "episode: 82/100, score: 6024, final_epsilon: 0.010000000000000002\n"
     ]
    },
    {
     "data": {
      "application/papermill.record+json": {
       "episode": 82
      }
     },
     "metadata": {},
     "output_type": "display_data"
    },
    {
     "data": {
      "application/papermill.record+json": {
       "time_step": 6024
      }
     },
     "metadata": {},
     "output_type": "display_data"
    },
    {
     "data": {
      "application/papermill.record+json": {
       "epsilon": 0.010000000000000002
      }
     },
     "metadata": {},
     "output_type": "display_data"
    },
    {
     "name": "stdout",
     "output_type": "stream",
     "text": [
      "episode: 83/100, score: 6001, final_epsilon: 0.010000000000000002\n"
     ]
    },
    {
     "data": {
      "application/papermill.record+json": {
       "episode": 83
      }
     },
     "metadata": {},
     "output_type": "display_data"
    },
    {
     "data": {
      "application/papermill.record+json": {
       "time_step": 6001
      }
     },
     "metadata": {},
     "output_type": "display_data"
    },
    {
     "data": {
      "application/papermill.record+json": {
       "epsilon": 0.010000000000000002
      }
     },
     "metadata": {},
     "output_type": "display_data"
    },
    {
     "name": "stdout",
     "output_type": "stream",
     "text": [
      "episode: 84/100, score: 6044, final_epsilon: 0.010000000000000002\n"
     ]
    },
    {
     "data": {
      "application/papermill.record+json": {
       "episode": 84
      }
     },
     "metadata": {},
     "output_type": "display_data"
    },
    {
     "data": {
      "application/papermill.record+json": {
       "time_step": 6044
      }
     },
     "metadata": {},
     "output_type": "display_data"
    },
    {
     "data": {
      "application/papermill.record+json": {
       "epsilon": 0.010000000000000002
      }
     },
     "metadata": {},
     "output_type": "display_data"
    },
    {
     "name": "stdout",
     "output_type": "stream",
     "text": [
      "episode: 85/100, score: 5998, final_epsilon: 0.01\n"
     ]
    },
    {
     "data": {
      "application/papermill.record+json": {
       "episode": 85
      }
     },
     "metadata": {},
     "output_type": "display_data"
    },
    {
     "data": {
      "application/papermill.record+json": {
       "time_step": 5998
      }
     },
     "metadata": {},
     "output_type": "display_data"
    },
    {
     "data": {
      "application/papermill.record+json": {
       "epsilon": 0.01
      }
     },
     "metadata": {},
     "output_type": "display_data"
    },
    {
     "name": "stdout",
     "output_type": "stream",
     "text": [
      "episode: 86/100, score: 6009, final_epsilon: 0.01\n"
     ]
    },
    {
     "data": {
      "application/papermill.record+json": {
       "episode": 86
      }
     },
     "metadata": {},
     "output_type": "display_data"
    },
    {
     "data": {
      "application/papermill.record+json": {
       "time_step": 6009
      }
     },
     "metadata": {},
     "output_type": "display_data"
    },
    {
     "data": {
      "application/papermill.record+json": {
       "epsilon": 0.01
      }
     },
     "metadata": {},
     "output_type": "display_data"
    },
    {
     "name": "stdout",
     "output_type": "stream",
     "text": [
      "episode: 87/100, score: 5993, final_epsilon: 0.01\n"
     ]
    },
    {
     "data": {
      "application/papermill.record+json": {
       "episode": 87
      }
     },
     "metadata": {},
     "output_type": "display_data"
    },
    {
     "data": {
      "application/papermill.record+json": {
       "time_step": 5993
      }
     },
     "metadata": {},
     "output_type": "display_data"
    },
    {
     "data": {
      "application/papermill.record+json": {
       "epsilon": 0.01
      }
     },
     "metadata": {},
     "output_type": "display_data"
    },
    {
     "name": "stdout",
     "output_type": "stream",
     "text": [
      "episode: 88/100, score: 5983, final_epsilon: 0.01\n"
     ]
    },
    {
     "data": {
      "application/papermill.record+json": {
       "episode": 88
      }
     },
     "metadata": {},
     "output_type": "display_data"
    },
    {
     "data": {
      "application/papermill.record+json": {
       "time_step": 5983
      }
     },
     "metadata": {},
     "output_type": "display_data"
    },
    {
     "data": {
      "application/papermill.record+json": {
       "epsilon": 0.01
      }
     },
     "metadata": {},
     "output_type": "display_data"
    },
    {
     "name": "stdout",
     "output_type": "stream",
     "text": [
      "episode: 89/100, score: 6055, final_epsilon: 0.01\n"
     ]
    },
    {
     "data": {
      "application/papermill.record+json": {
       "episode": 89
      }
     },
     "metadata": {},
     "output_type": "display_data"
    },
    {
     "data": {
      "application/papermill.record+json": {
       "time_step": 6055
      }
     },
     "metadata": {},
     "output_type": "display_data"
    },
    {
     "data": {
      "application/papermill.record+json": {
       "epsilon": 0.01
      }
     },
     "metadata": {},
     "output_type": "display_data"
    },
    {
     "name": "stdout",
     "output_type": "stream",
     "text": [
      "episode: 90/100, score: 6022, final_epsilon: 0.01\n"
     ]
    },
    {
     "data": {
      "application/papermill.record+json": {
       "episode": 90
      }
     },
     "metadata": {},
     "output_type": "display_data"
    },
    {
     "data": {
      "application/papermill.record+json": {
       "time_step": 6022
      }
     },
     "metadata": {},
     "output_type": "display_data"
    },
    {
     "data": {
      "application/papermill.record+json": {
       "epsilon": 0.01
      }
     },
     "metadata": {},
     "output_type": "display_data"
    },
    {
     "name": "stdout",
     "output_type": "stream",
     "text": [
      "episode: 91/100, score: 5993, final_epsilon: 0.01\n"
     ]
    },
    {
     "data": {
      "application/papermill.record+json": {
       "episode": 91
      }
     },
     "metadata": {},
     "output_type": "display_data"
    },
    {
     "data": {
      "application/papermill.record+json": {
       "time_step": 5993
      }
     },
     "metadata": {},
     "output_type": "display_data"
    },
    {
     "data": {
      "application/papermill.record+json": {
       "epsilon": 0.01
      }
     },
     "metadata": {},
     "output_type": "display_data"
    },
    {
     "name": "stdout",
     "output_type": "stream",
     "text": [
      "episode: 92/100, score: 6033, final_epsilon: 0.01\n"
     ]
    },
    {
     "data": {
      "application/papermill.record+json": {
       "episode": 92
      }
     },
     "metadata": {},
     "output_type": "display_data"
    },
    {
     "data": {
      "application/papermill.record+json": {
       "time_step": 6033
      }
     },
     "metadata": {},
     "output_type": "display_data"
    },
    {
     "data": {
      "application/papermill.record+json": {
       "epsilon": 0.01
      }
     },
     "metadata": {},
     "output_type": "display_data"
    },
    {
     "name": "stdout",
     "output_type": "stream",
     "text": [
      "episode: 93/100, score: 5966, final_epsilon: 0.01\n"
     ]
    },
    {
     "data": {
      "application/papermill.record+json": {
       "episode": 93
      }
     },
     "metadata": {},
     "output_type": "display_data"
    },
    {
     "data": {
      "application/papermill.record+json": {
       "time_step": 5966
      }
     },
     "metadata": {},
     "output_type": "display_data"
    },
    {
     "data": {
      "application/papermill.record+json": {
       "epsilon": 0.01
      }
     },
     "metadata": {},
     "output_type": "display_data"
    },
    {
     "name": "stdout",
     "output_type": "stream",
     "text": [
      "episode: 94/100, score: 6015, final_epsilon: 0.01\n"
     ]
    },
    {
     "data": {
      "application/papermill.record+json": {
       "episode": 94
      }
     },
     "metadata": {},
     "output_type": "display_data"
    },
    {
     "data": {
      "application/papermill.record+json": {
       "time_step": 6015
      }
     },
     "metadata": {},
     "output_type": "display_data"
    },
    {
     "data": {
      "application/papermill.record+json": {
       "epsilon": 0.01
      }
     },
     "metadata": {},
     "output_type": "display_data"
    },
    {
     "name": "stdout",
     "output_type": "stream",
     "text": [
      "episode: 95/100, score: 6018, final_epsilon: 0.01\n"
     ]
    },
    {
     "data": {
      "application/papermill.record+json": {
       "episode": 95
      }
     },
     "metadata": {},
     "output_type": "display_data"
    },
    {
     "data": {
      "application/papermill.record+json": {
       "time_step": 6018
      }
     },
     "metadata": {},
     "output_type": "display_data"
    },
    {
     "data": {
      "application/papermill.record+json": {
       "epsilon": 0.01
      }
     },
     "metadata": {},
     "output_type": "display_data"
    },
    {
     "name": "stdout",
     "output_type": "stream",
     "text": [
      "episode: 96/100, score: 6031, final_epsilon: 0.01\n"
     ]
    },
    {
     "data": {
      "application/papermill.record+json": {
       "episode": 96
      }
     },
     "metadata": {},
     "output_type": "display_data"
    },
    {
     "data": {
      "application/papermill.record+json": {
       "time_step": 6031
      }
     },
     "metadata": {},
     "output_type": "display_data"
    },
    {
     "data": {
      "application/papermill.record+json": {
       "epsilon": 0.01
      }
     },
     "metadata": {},
     "output_type": "display_data"
    },
    {
     "name": "stdout",
     "output_type": "stream",
     "text": [
      "episode: 97/100, score: 5980, final_epsilon: 0.01\n"
     ]
    },
    {
     "data": {
      "application/papermill.record+json": {
       "episode": 97
      }
     },
     "metadata": {},
     "output_type": "display_data"
    },
    {
     "data": {
      "application/papermill.record+json": {
       "time_step": 5980
      }
     },
     "metadata": {},
     "output_type": "display_data"
    },
    {
     "data": {
      "application/papermill.record+json": {
       "epsilon": 0.01
      }
     },
     "metadata": {},
     "output_type": "display_data"
    },
    {
     "name": "stdout",
     "output_type": "stream",
     "text": [
      "episode: 98/100, score: 6045, final_epsilon: 0.01\n"
     ]
    },
    {
     "data": {
      "application/papermill.record+json": {
       "episode": 98
      }
     },
     "metadata": {},
     "output_type": "display_data"
    },
    {
     "data": {
      "application/papermill.record+json": {
       "time_step": 6045
      }
     },
     "metadata": {},
     "output_type": "display_data"
    },
    {
     "data": {
      "application/papermill.record+json": {
       "epsilon": 0.01
      }
     },
     "metadata": {},
     "output_type": "display_data"
    },
    {
     "name": "stdout",
     "output_type": "stream",
     "text": [
      "episode: 99/100, score: 6015, final_epsilon: 0.01\n"
     ]
    },
    {
     "data": {
      "application/papermill.record+json": {
       "episode": 99
      }
     },
     "metadata": {},
     "output_type": "display_data"
    },
    {
     "data": {
      "application/papermill.record+json": {
       "time_step": 6015
      }
     },
     "metadata": {},
     "output_type": "display_data"
    },
    {
     "data": {
      "application/papermill.record+json": {
       "epsilon": 0.01
      }
     },
     "metadata": {},
     "output_type": "display_data"
    }
   ],
   "source": [
    "num_steps = 10000\n",
    "num_episodes = 100 #converges around 30-45 with current hyper parameters\n",
    "\n",
    "for episode in range(num_episodes):\n",
    "    state = ski_env_w.reset()\n",
    "    \n",
    "    for time_step in range(num_steps):\n",
    "        action = skiier.act(state)\n",
    "        #print(\"Action:\", action)\n",
    "        next_state, reward, done, info = ski_env_w.step(action)\n",
    "        skiier.observe(state, action, reward, next_state, done)\n",
    "        state = next_state\n",
    "        skiier.episode = episode\n",
    "        if done:\n",
    "            print(\"episode: {}/{}, score: {}, final_epsilon: {}\".format(episode, num_episodes, time_step, skiier.epsilon))\n",
    "            pm.record(\"episode\", episode)\n",
    "            pm.record(\"time_step\", time_step)\n",
    "            pm.record(\"epsilon\", skiier.epsilon)\n",
    "            break\n",
    "            \n",
    "    skiier.replay()"
   ]
  },
  {
   "cell_type": "markdown",
   "metadata": {
    "papermill": {
     "duration": 2.2e-05,
     "end_time": "2018-10-05T08:05:54.954072",
     "exception": false,
     "start_time": "2018-10-05T08:05:54.954050",
     "status": "completed"
    },
    "tags": []
   },
   "source": [
    "# Outputs"
   ]
  },
  {
   "cell_type": "code",
   "execution_count": 6,
   "metadata": {
    "collapsed": true,
    "papermill": {
     "duration": 0.038418,
     "end_time": "2018-10-05T08:05:55.121237",
     "exception": false,
     "start_time": "2018-10-05T08:05:55.082819",
     "status": "completed"
    },
    "tags": []
   },
   "outputs": [],
   "source": [
    "def play_game(num_steps):\n",
    "    state = ski_env_w.reset()\n",
    "    state_list = [state]\n",
    "    reward_list = []\n",
    "    for time_step in range(num_steps):\n",
    "        action = skiier.act(state)\n",
    "        next_state, reward, done, info = ski_env_w.step(action)\n",
    "        skiier.observe(state, action, reward, next_state, done)\n",
    "        state = next_state\n",
    "        state_list.append(state)\n",
    "        reward_list.append(reward)\n",
    "        skiier.episode = episode\n",
    "        if done:\n",
    "            break\n",
    "    return state_list, reward_list"
   ]
  },
  {
   "cell_type": "code",
   "execution_count": 7,
   "metadata": {
    "collapsed": true,
    "papermill": {
     "duration": 0.11322,
     "end_time": "2018-10-05T08:05:55.307144",
     "exception": false,
     "start_time": "2018-10-05T08:05:55.193924",
     "status": "completed"
    },
    "tags": []
   },
   "outputs": [],
   "source": [
    "#states_out, rewards_out = play_game(num_steps = 10000)"
   ]
  },
  {
   "cell_type": "code",
   "execution_count": 8,
   "metadata": {
    "collapsed": true,
    "papermill": {
     "duration": 0.189516,
     "end_time": "2018-10-05T08:05:55.498272",
     "exception": false,
     "start_time": "2018-10-05T08:05:55.308756",
     "status": "completed"
    },
    "scrolled": true,
    "tags": []
   },
   "outputs": [],
   "source": [
    "file_params = \"-\".join([str(LEARNING_RATE), str(GAMMA), str(MEMORY_CAPACITY)]).replace(\".\",\"dot\")\n",
    "file_name = \"models/model_HP_{}_at_{}.hdf5\".format(file_params, time_step)\n",
    "skiier.brain.model.save(file_name)"
   ]
  }
 ],
 "metadata": {
  "celltoolbar": "Tags",
  "kernelspec": {
   "display_name": "Python 3",
   "language": "python",
   "name": "python3"
  },
  "language_info": {
   "codemirror_mode": {
    "name": "ipython",
    "version": 3
   },
   "file_extension": ".py",
   "mimetype": "text/x-python",
   "name": "python",
   "nbconvert_exporter": "python",
   "pygments_lexer": "ipython3",
   "version": "3.5.2"
  },
  "papermill": {
   "duration": 2887.869782,
   "end_time": "2018-10-05T08:05:56.434442",
   "environment_variables": {},
   "exception": false,
   "output_path": "HP_TrainSkiier_nbs/01_TrainSkiier_0dot001-0dot9-10000.ipynb",
   "parameters": {
    "GAMMA": 0.9,
    "LEARNING_RATE": 0.001,
    "MEMORY_CAPACITY": 10000,
    "experiment": "0dot001-0dot9-10000"
   },
   "start_time": "2018-10-05T07:17:48.564660",
   "version": "0.15.0"
  }
 },
 "nbformat": 4,
 "nbformat_minor": 2
}