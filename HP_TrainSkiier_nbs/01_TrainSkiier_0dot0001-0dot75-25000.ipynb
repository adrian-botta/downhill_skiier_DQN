{
 "cells": [
  {
   "cell_type": "code",
   "execution_count": 1,
   "metadata": {
    "papermill": {
     "duration": 1.480898,
     "end_time": "2018-10-05T13:36:19.416478",
     "exception": false,
     "start_time": "2018-10-05T13:36:17.935580",
     "status": "completed"
    },
    "tags": []
   },
   "outputs": [
    {
     "name": "stderr",
     "output_type": "stream",
     "text": [
      "/home/ai2-yoda/.local/lib/python3.5/site-packages/h5py/__init__.py:36: FutureWarning: Conversion of the second argument of issubdtype from `float` to `np.floating` is deprecated. In future, it will be treated as `np.float64 == np.dtype(float).type`.\n",
      "  from ._conv import register_converters as _register_converters\n",
      "Using TensorFlow backend.\n"
     ]
    }
   ],
   "source": [
    "from skiier import *\n",
    "from ski_env import *\n",
    "import matplotlib.pyplot as plt\n",
    "import gym\n",
    "import papermill as pm\n",
    "%matplotlib inline"
   ]
  },
  {
   "cell_type": "code",
   "execution_count": 2,
   "metadata": {
    "collapsed": true,
    "papermill": {
     "duration": 0.019303,
     "end_time": "2018-10-05T13:36:19.436629",
     "exception": false,
     "start_time": "2018-10-05T13:36:19.417326",
     "status": "completed"
    },
    "tags": [
     "parameters"
    ]
   },
   "outputs": [],
   "source": [
    "#Hyper Parameters\n",
    "LEARNING_RATE = 0.001\n",
    "GAMMA = 0.9\n",
    "MEMORY_CAPACITY = 25000"
   ]
  },
  {
   "cell_type": "code",
   "execution_count": 3,
   "metadata": {
    "papermill": {
     "duration": 0.041102,
     "end_time": "2018-10-05T13:36:19.477785",
     "exception": false,
     "start_time": "2018-10-05T13:36:19.436683",
     "status": "completed"
    },
    "tags": [
     "injected-parameters"
    ]
   },
   "outputs": [],
   "source": [
    "# Parameters\n",
    "experiment = \"0dot0001-0dot75-25000\"\n",
    "MEMORY_CAPACITY = 25000\n",
    "GAMMA = 0.75\n",
    "LEARNING_RATE = 0.0001\n"
   ]
  },
  {
   "cell_type": "code",
   "execution_count": 4,
   "metadata": {
    "papermill": {
     "duration": 0.347451,
     "end_time": "2018-10-05T13:36:19.825291",
     "exception": false,
     "start_time": "2018-10-05T13:36:19.477840",
     "status": "completed"
    },
    "scrolled": true,
    "tags": []
   },
   "outputs": [
    {
     "name": "stderr",
     "output_type": "stream",
     "text": [
      "/home/ai2-yoda/gym/gym/__init__.py:22: UserWarning: DEPRECATION WARNING: to improve load times, gym no longer automatically loads gym.spaces. Please run \"import gym.spaces\" to load gym.spaces on your own. This warning will turn into an error in a future version of gym.\n",
      "  warnings.warn('DEPRECATION WARNING: to improve load times, gym no longer automatically loads gym.spaces. Please run \"import gym.spaces\" to load gym.spaces on your own. This warning will turn into an error in a future version of gym.')\n"
     ]
    }
   ],
   "source": [
    "ski_env = gym.make(\"Skiing-v0\")\n",
    "ski_env_w = Env_wrapper(ski_env)\n",
    "skiier = Skiier(action_space = 3, learning_rate = LEARNING_RATE, LAMBDA = 0.5, \n",
    "                GAMMA = GAMMA, MEMORY_CAPACITY = MEMORY_CAPACITY)"
   ]
  },
  {
   "cell_type": "code",
   "execution_count": 5,
   "metadata": {
    "papermill": {
     "duration": 517.934932,
     "end_time": "2018-10-05T13:44:57.761103",
     "exception": false,
     "start_time": "2018-10-05T13:36:19.826171",
     "status": "completed"
    },
    "tags": []
   },
   "outputs": [
    {
     "name": "stdout",
     "output_type": "stream",
     "text": [
      "episode: 0/100, score: 1448, final_epsilon: 1\n"
     ]
    },
    {
     "data": {
      "application/papermill.record+json": {
       "episode": 0
      }
     },
     "metadata": {},
     "output_type": "display_data"
    },
    {
     "data": {
      "application/papermill.record+json": {
       "time_step": 1448
      }
     },
     "metadata": {},
     "output_type": "display_data"
    },
    {
     "data": {
      "application/papermill.record+json": {
       "epsilon": 1
      }
     },
     "metadata": {},
     "output_type": "display_data"
    },
    {
     "name": "stdout",
     "output_type": "stream",
     "text": [
      "WARNING:tensorflow:Variable *= will be deprecated. Use variable.assign_mul if you want assignment to the variable value or 'x = x * y' if you want a new python Tensor object.\n"
     ]
    },
    {
     "name": "stdout",
     "output_type": "stream",
     "text": [
      "episode: 1/100, score: 1794, final_epsilon: 1.0\n"
     ]
    },
    {
     "data": {
      "application/papermill.record+json": {
       "episode": 1
      }
     },
     "metadata": {},
     "output_type": "display_data"
    },
    {
     "data": {
      "application/papermill.record+json": {
       "time_step": 1794
      }
     },
     "metadata": {},
     "output_type": "display_data"
    },
    {
     "data": {
      "application/papermill.record+json": {
       "epsilon": 1.0
      }
     },
     "metadata": {},
     "output_type": "display_data"
    },
    {
     "name": "stdout",
     "output_type": "stream",
     "text": [
      "episode: 2/100, score: 1612, final_epsilon: 0.6104653531155071\n"
     ]
    },
    {
     "data": {
      "application/papermill.record+json": {
       "episode": 2
      }
     },
     "metadata": {},
     "output_type": "display_data"
    },
    {
     "data": {
      "application/papermill.record+json": {
       "time_step": 1612
      }
     },
     "metadata": {},
     "output_type": "display_data"
    },
    {
     "data": {
      "application/papermill.record+json": {
       "epsilon": 0.6104653531155071
      }
     },
     "metadata": {},
     "output_type": "display_data"
    },
    {
     "name": "stdout",
     "output_type": "stream",
     "text": [
      "episode: 3/100, score: 2329, final_epsilon: 0.3742006467597279\n"
     ]
    },
    {
     "data": {
      "application/papermill.record+json": {
       "episode": 3
      }
     },
     "metadata": {},
     "output_type": "display_data"
    },
    {
     "data": {
      "application/papermill.record+json": {
       "time_step": 2329
      }
     },
     "metadata": {},
     "output_type": "display_data"
    },
    {
     "data": {
      "application/papermill.record+json": {
       "epsilon": 0.3742006467597279
      }
     },
     "metadata": {},
     "output_type": "display_data"
    },
    {
     "name": "stdout",
     "output_type": "stream",
     "text": [
      "episode: 4/100, score: 1211, final_epsilon: 0.23089885854694553\n"
     ]
    },
    {
     "data": {
      "application/papermill.record+json": {
       "episode": 4
      }
     },
     "metadata": {},
     "output_type": "display_data"
    },
    {
     "data": {
      "application/papermill.record+json": {
       "time_step": 1211
      }
     },
     "metadata": {},
     "output_type": "display_data"
    },
    {
     "data": {
      "application/papermill.record+json": {
       "epsilon": 0.23089885854694553
      }
     },
     "metadata": {},
     "output_type": "display_data"
    },
    {
     "name": "stdout",
     "output_type": "stream",
     "text": [
      "episode: 5/100, score: 1562, final_epsilon: 0.1439819304042466\n"
     ]
    },
    {
     "data": {
      "application/papermill.record+json": {
       "episode": 5
      }
     },
     "metadata": {},
     "output_type": "display_data"
    },
    {
     "data": {
      "application/papermill.record+json": {
       "time_step": 1562
      }
     },
     "metadata": {},
     "output_type": "display_data"
    },
    {
     "data": {
      "application/papermill.record+json": {
       "epsilon": 0.1439819304042466
      }
     },
     "metadata": {},
     "output_type": "display_data"
    },
    {
     "name": "stdout",
     "output_type": "stream",
     "text": [
      "episode: 6/100, score: 1161, final_epsilon: 0.0912641486376598\n"
     ]
    },
    {
     "data": {
      "application/papermill.record+json": {
       "episode": 6
      }
     },
     "metadata": {},
     "output_type": "display_data"
    },
    {
     "data": {
      "application/papermill.record+json": {
       "time_step": 1161
      }
     },
     "metadata": {},
     "output_type": "display_data"
    },
    {
     "data": {
      "application/papermill.record+json": {
       "epsilon": 0.0912641486376598
      }
     },
     "metadata": {},
     "output_type": "display_data"
    },
    {
     "name": "stdout",
     "output_type": "stream",
     "text": [
      "episode: 7/100, score: 1341, final_epsilon: 0.05928919768418531\n"
     ]
    },
    {
     "data": {
      "application/papermill.record+json": {
       "episode": 7
      }
     },
     "metadata": {},
     "output_type": "display_data"
    },
    {
     "data": {
      "application/papermill.record+json": {
       "time_step": 1341
      }
     },
     "metadata": {},
     "output_type": "display_data"
    },
    {
     "data": {
      "application/papermill.record+json": {
       "epsilon": 0.05928919768418531
      }
     },
     "metadata": {},
     "output_type": "display_data"
    },
    {
     "name": "stdout",
     "output_type": "stream",
     "text": [
      "episode: 8/100, score: 1238, final_epsilon: 0.039895409588095315\n"
     ]
    },
    {
     "data": {
      "application/papermill.record+json": {
       "episode": 8
      }
     },
     "metadata": {},
     "output_type": "display_data"
    },
    {
     "data": {
      "application/papermill.record+json": {
       "time_step": 1238
      }
     },
     "metadata": {},
     "output_type": "display_data"
    },
    {
     "data": {
      "application/papermill.record+json": {
       "epsilon": 0.039895409588095315
      }
     },
     "metadata": {},
     "output_type": "display_data"
    },
    {
     "name": "stdout",
     "output_type": "stream",
     "text": [
      "episode: 9/100, score: 815, final_epsilon: 0.028132482499846838\n"
     ]
    },
    {
     "data": {
      "application/papermill.record+json": {
       "episode": 9
      }
     },
     "metadata": {},
     "output_type": "display_data"
    },
    {
     "data": {
      "application/papermill.record+json": {
       "time_step": 815
      }
     },
     "metadata": {},
     "output_type": "display_data"
    },
    {
     "data": {
      "application/papermill.record+json": {
       "epsilon": 0.028132482499846838
      }
     },
     "metadata": {},
     "output_type": "display_data"
    },
    {
     "name": "stdout",
     "output_type": "stream",
     "text": [
      "episode: 10/100, score: 799, final_epsilon: 0.02099790657285988\n"
     ]
    },
    {
     "data": {
      "application/papermill.record+json": {
       "episode": 10
      }
     },
     "metadata": {},
     "output_type": "display_data"
    },
    {
     "data": {
      "application/papermill.record+json": {
       "time_step": 799
      }
     },
     "metadata": {},
     "output_type": "display_data"
    },
    {
     "data": {
      "application/papermill.record+json": {
       "epsilon": 0.02099790657285988
      }
     },
     "metadata": {},
     "output_type": "display_data"
    },
    {
     "name": "stdout",
     "output_type": "stream",
     "text": [
      "episode: 11/100, score: 820, final_epsilon: 0.016670567529094613\n"
     ]
    },
    {
     "data": {
      "application/papermill.record+json": {
       "episode": 11
      }
     },
     "metadata": {},
     "output_type": "display_data"
    },
    {
     "data": {
      "application/papermill.record+json": {
       "time_step": 820
      }
     },
     "metadata": {},
     "output_type": "display_data"
    },
    {
     "data": {
      "application/papermill.record+json": {
       "epsilon": 0.016670567529094613
      }
     },
     "metadata": {},
     "output_type": "display_data"
    },
    {
     "name": "stdout",
     "output_type": "stream",
     "text": [
      "episode: 12/100, score: 1202, final_epsilon: 0.014045903724079427\n"
     ]
    },
    {
     "data": {
      "application/papermill.record+json": {
       "episode": 12
      }
     },
     "metadata": {},
     "output_type": "display_data"
    },
    {
     "data": {
      "application/papermill.record+json": {
       "time_step": 1202
      }
     },
     "metadata": {},
     "output_type": "display_data"
    },
    {
     "data": {
      "application/papermill.record+json": {
       "epsilon": 0.014045903724079427
      }
     },
     "metadata": {},
     "output_type": "display_data"
    },
    {
     "name": "stdout",
     "output_type": "stream",
     "text": [
      "episode: 13/100, score: 712, final_epsilon: 0.012453964654899695\n"
     ]
    },
    {
     "data": {
      "application/papermill.record+json": {
       "episode": 13
      }
     },
     "metadata": {},
     "output_type": "display_data"
    },
    {
     "data": {
      "application/papermill.record+json": {
       "time_step": 712
      }
     },
     "metadata": {},
     "output_type": "display_data"
    },
    {
     "data": {
      "application/papermill.record+json": {
       "epsilon": 0.012453964654899695
      }
     },
     "metadata": {},
     "output_type": "display_data"
    },
    {
     "name": "stdout",
     "output_type": "stream",
     "text": [
      "episode: 14/100, score: 1326, final_epsilon: 0.011488404801047796\n"
     ]
    },
    {
     "data": {
      "application/papermill.record+json": {
       "episode": 14
      }
     },
     "metadata": {},
     "output_type": "display_data"
    },
    {
     "data": {
      "application/papermill.record+json": {
       "time_step": 1326
      }
     },
     "metadata": {},
     "output_type": "display_data"
    },
    {
     "data": {
      "application/papermill.record+json": {
       "epsilon": 0.011488404801047796
      }
     },
     "metadata": {},
     "output_type": "display_data"
    },
    {
     "name": "stdout",
     "output_type": "stream",
     "text": [
      "episode: 15/100, score: 722, final_epsilon: 0.010902763145898971\n"
     ]
    },
    {
     "data": {
      "application/papermill.record+json": {
       "episode": 15
      }
     },
     "metadata": {},
     "output_type": "display_data"
    },
    {
     "data": {
      "application/papermill.record+json": {
       "time_step": 722
      }
     },
     "metadata": {},
     "output_type": "display_data"
    },
    {
     "data": {
      "application/papermill.record+json": {
       "epsilon": 0.010902763145898971
      }
     },
     "metadata": {},
     "output_type": "display_data"
    },
    {
     "name": "stdout",
     "output_type": "stream",
     "text": [
      "episode: 16/100, score: 850, final_epsilon: 0.010547553526446355\n"
     ]
    },
    {
     "data": {
      "application/papermill.record+json": {
       "episode": 16
      }
     },
     "metadata": {},
     "output_type": "display_data"
    },
    {
     "data": {
      "application/papermill.record+json": {
       "time_step": 850
      }
     },
     "metadata": {},
     "output_type": "display_data"
    },
    {
     "data": {
      "application/papermill.record+json": {
       "epsilon": 0.010547553526446355
      }
     },
     "metadata": {},
     "output_type": "display_data"
    },
    {
     "name": "stdout",
     "output_type": "stream",
     "text": [
      "episode: 17/100, score: 696, final_epsilon: 0.010332108001623487\n"
     ]
    },
    {
     "data": {
      "application/papermill.record+json": {
       "episode": 17
      }
     },
     "metadata": {},
     "output_type": "display_data"
    },
    {
     "data": {
      "application/papermill.record+json": {
       "time_step": 696
      }
     },
     "metadata": {},
     "output_type": "display_data"
    },
    {
     "data": {
      "application/papermill.record+json": {
       "epsilon": 0.010332108001623487
      }
     },
     "metadata": {},
     "output_type": "display_data"
    },
    {
     "name": "stdout",
     "output_type": "stream",
     "text": [
      "episode: 18/100, score: 1219, final_epsilon: 0.010201433685320538\n"
     ]
    },
    {
     "data": {
      "application/papermill.record+json": {
       "episode": 18
      }
     },
     "metadata": {},
     "output_type": "display_data"
    },
    {
     "data": {
      "application/papermill.record+json": {
       "time_step": 1219
      }
     },
     "metadata": {},
     "output_type": "display_data"
    },
    {
     "data": {
      "application/papermill.record+json": {
       "epsilon": 0.010201433685320538
      }
     },
     "metadata": {},
     "output_type": "display_data"
    },
    {
     "name": "stdout",
     "output_type": "stream",
     "text": [
      "episode: 19/100, score: 797, final_epsilon: 0.010122175706045813\n"
     ]
    },
    {
     "data": {
      "application/papermill.record+json": {
       "episode": 19
      }
     },
     "metadata": {},
     "output_type": "display_data"
    },
    {
     "data": {
      "application/papermill.record+json": {
       "time_step": 797
      }
     },
     "metadata": {},
     "output_type": "display_data"
    },
    {
     "data": {
      "application/papermill.record+json": {
       "epsilon": 0.010122175706045813
      }
     },
     "metadata": {},
     "output_type": "display_data"
    },
    {
     "name": "stdout",
     "output_type": "stream",
     "text": [
      "episode: 20/100, score: 797, final_epsilon: 0.010074103311588823\n"
     ]
    },
    {
     "data": {
      "application/papermill.record+json": {
       "episode": 20
      }
     },
     "metadata": {},
     "output_type": "display_data"
    },
    {
     "data": {
      "application/papermill.record+json": {
       "time_step": 797
      }
     },
     "metadata": {},
     "output_type": "display_data"
    },
    {
     "data": {
      "application/papermill.record+json": {
       "epsilon": 0.010074103311588823
      }
     },
     "metadata": {},
     "output_type": "display_data"
    },
    {
     "name": "stdout",
     "output_type": "stream",
     "text": [
      "episode: 21/100, score: 974, final_epsilon: 0.010044945930464861\n"
     ]
    },
    {
     "data": {
      "application/papermill.record+json": {
       "episode": 21
      }
     },
     "metadata": {},
     "output_type": "display_data"
    },
    {
     "data": {
      "application/papermill.record+json": {
       "time_step": 974
      }
     },
     "metadata": {},
     "output_type": "display_data"
    },
    {
     "data": {
      "application/papermill.record+json": {
       "epsilon": 0.010044945930464861
      }
     },
     "metadata": {},
     "output_type": "display_data"
    },
    {
     "name": "stdout",
     "output_type": "stream",
     "text": [
      "episode: 22/100, score: 957, final_epsilon: 0.01002726108485625\n"
     ]
    },
    {
     "data": {
      "application/papermill.record+json": {
       "episode": 22
      }
     },
     "metadata": {},
     "output_type": "display_data"
    },
    {
     "data": {
      "application/papermill.record+json": {
       "time_step": 957
      }
     },
     "metadata": {},
     "output_type": "display_data"
    },
    {
     "data": {
      "application/papermill.record+json": {
       "epsilon": 0.01002726108485625
      }
     },
     "metadata": {},
     "output_type": "display_data"
    },
    {
     "name": "stdout",
     "output_type": "stream",
     "text": [
      "episode: 23/100, score: 783, final_epsilon: 0.010016534683782344\n"
     ]
    },
    {
     "data": {
      "application/papermill.record+json": {
       "episode": 23
      }
     },
     "metadata": {},
     "output_type": "display_data"
    },
    {
     "data": {
      "application/papermill.record+json": {
       "time_step": 783
      }
     },
     "metadata": {},
     "output_type": "display_data"
    },
    {
     "data": {
      "application/papermill.record+json": {
       "epsilon": 0.010016534683782344
      }
     },
     "metadata": {},
     "output_type": "display_data"
    },
    {
     "name": "stdout",
     "output_type": "stream",
     "text": [
      "episode: 24/100, score: 1193, final_epsilon: 0.010010028792662645\n"
     ]
    },
    {
     "data": {
      "application/papermill.record+json": {
       "episode": 24
      }
     },
     "metadata": {},
     "output_type": "display_data"
    },
    {
     "data": {
      "application/papermill.record+json": {
       "time_step": 1193
      }
     },
     "metadata": {},
     "output_type": "display_data"
    },
    {
     "data": {
      "application/papermill.record+json": {
       "epsilon": 0.010010028792662645
      }
     },
     "metadata": {},
     "output_type": "display_data"
    },
    {
     "name": "stdout",
     "output_type": "stream",
     "text": [
      "episode: 25/100, score: 1048, final_epsilon: 0.010006082770229794\n"
     ]
    },
    {
     "data": {
      "application/papermill.record+json": {
       "episode": 25
      }
     },
     "metadata": {},
     "output_type": "display_data"
    },
    {
     "data": {
      "application/papermill.record+json": {
       "time_step": 1048
      }
     },
     "metadata": {},
     "output_type": "display_data"
    },
    {
     "data": {
      "application/papermill.record+json": {
       "epsilon": 0.010006082770229794
      }
     },
     "metadata": {},
     "output_type": "display_data"
    },
    {
     "name": "stdout",
     "output_type": "stream",
     "text": [
      "episode: 26/100, score: 1182, final_epsilon: 0.010003689386640358\n"
     ]
    },
    {
     "data": {
      "application/papermill.record+json": {
       "episode": 26
      }
     },
     "metadata": {},
     "output_type": "display_data"
    },
    {
     "data": {
      "application/papermill.record+json": {
       "time_step": 1182
      }
     },
     "metadata": {},
     "output_type": "display_data"
    },
    {
     "data": {
      "application/papermill.record+json": {
       "epsilon": 0.010003689386640358
      }
     },
     "metadata": {},
     "output_type": "display_data"
    },
    {
     "name": "stdout",
     "output_type": "stream",
     "text": [
      "episode: 27/100, score: 710, final_epsilon: 0.010002237726112912\n"
     ]
    },
    {
     "data": {
      "application/papermill.record+json": {
       "episode": 27
      }
     },
     "metadata": {},
     "output_type": "display_data"
    },
    {
     "data": {
      "application/papermill.record+json": {
       "time_step": 710
      }
     },
     "metadata": {},
     "output_type": "display_data"
    },
    {
     "data": {
      "application/papermill.record+json": {
       "epsilon": 0.010002237726112912
      }
     },
     "metadata": {},
     "output_type": "display_data"
    },
    {
     "name": "stdout",
     "output_type": "stream",
     "text": [
      "episode: 28/100, score: 1114, final_epsilon: 0.01000135724949552\n"
     ]
    },
    {
     "data": {
      "application/papermill.record+json": {
       "episode": 28
      }
     },
     "metadata": {},
     "output_type": "display_data"
    },
    {
     "data": {
      "application/papermill.record+json": {
       "time_step": 1114
      }
     },
     "metadata": {},
     "output_type": "display_data"
    },
    {
     "data": {
      "application/papermill.record+json": {
       "epsilon": 0.01000135724949552
      }
     },
     "metadata": {},
     "output_type": "display_data"
    },
    {
     "name": "stdout",
     "output_type": "stream",
     "text": [
      "episode: 29/100, score: 709, final_epsilon: 0.010000823213431913\n"
     ]
    },
    {
     "data": {
      "application/papermill.record+json": {
       "episode": 29
      }
     },
     "metadata": {},
     "output_type": "display_data"
    },
    {
     "data": {
      "application/papermill.record+json": {
       "time_step": 709
      }
     },
     "metadata": {},
     "output_type": "display_data"
    },
    {
     "data": {
      "application/papermill.record+json": {
       "epsilon": 0.010000823213431913
      }
     },
     "metadata": {},
     "output_type": "display_data"
    },
    {
     "name": "stdout",
     "output_type": "stream",
     "text": [
      "episode: 30/100, score: 822, final_epsilon: 0.010000499304185942\n"
     ]
    },
    {
     "data": {
      "application/papermill.record+json": {
       "episode": 30
      }
     },
     "metadata": {},
     "output_type": "display_data"
    },
    {
     "data": {
      "application/papermill.record+json": {
       "time_step": 822
      }
     },
     "metadata": {},
     "output_type": "display_data"
    },
    {
     "data": {
      "application/papermill.record+json": {
       "epsilon": 0.010000499304185942
      }
     },
     "metadata": {},
     "output_type": "display_data"
    },
    {
     "name": "stdout",
     "output_type": "stream",
     "text": [
      "episode: 31/100, score: 1230, final_epsilon: 0.010000302843297297\n"
     ]
    },
    {
     "data": {
      "application/papermill.record+json": {
       "episode": 31
      }
     },
     "metadata": {},
     "output_type": "display_data"
    },
    {
     "data": {
      "application/papermill.record+json": {
       "time_step": 1230
      }
     },
     "metadata": {},
     "output_type": "display_data"
    },
    {
     "data": {
      "application/papermill.record+json": {
       "epsilon": 0.010000302843297297
      }
     },
     "metadata": {},
     "output_type": "display_data"
    },
    {
     "name": "stdout",
     "output_type": "stream",
     "text": [
      "episode: 32/100, score: 1112, final_epsilon: 0.010000183683744899\n"
     ]
    },
    {
     "data": {
      "application/papermill.record+json": {
       "episode": 32
      }
     },
     "metadata": {},
     "output_type": "display_data"
    },
    {
     "data": {
      "application/papermill.record+json": {
       "time_step": 1112
      }
     },
     "metadata": {},
     "output_type": "display_data"
    },
    {
     "data": {
      "application/papermill.record+json": {
       "epsilon": 0.010000183683744899
      }
     },
     "metadata": {},
     "output_type": "display_data"
    },
    {
     "name": "stdout",
     "output_type": "stream",
     "text": [
      "episode: 33/100, score: 1245, final_epsilon: 0.010000111409822971\n"
     ]
    },
    {
     "data": {
      "application/papermill.record+json": {
       "episode": 33
      }
     },
     "metadata": {},
     "output_type": "display_data"
    },
    {
     "data": {
      "application/papermill.record+json": {
       "time_step": 1245
      }
     },
     "metadata": {},
     "output_type": "display_data"
    },
    {
     "data": {
      "application/papermill.record+json": {
       "epsilon": 0.010000111409822971
      }
     },
     "metadata": {},
     "output_type": "display_data"
    },
    {
     "name": "stdout",
     "output_type": "stream",
     "text": [
      "episode: 34/100, score: 1006, final_epsilon: 0.010000067573473426\n"
     ]
    },
    {
     "data": {
      "application/papermill.record+json": {
       "episode": 34
      }
     },
     "metadata": {},
     "output_type": "display_data"
    },
    {
     "data": {
      "application/papermill.record+json": {
       "time_step": 1006
      }
     },
     "metadata": {},
     "output_type": "display_data"
    },
    {
     "data": {
      "application/papermill.record+json": {
       "epsilon": 0.010000067573473426
      }
     },
     "metadata": {},
     "output_type": "display_data"
    },
    {
     "name": "stdout",
     "output_type": "stream",
     "text": [
      "episode: 35/100, score: 1245, final_epsilon: 0.010000040985383415\n"
     ]
    },
    {
     "data": {
      "application/papermill.record+json": {
       "episode": 35
      }
     },
     "metadata": {},
     "output_type": "display_data"
    },
    {
     "data": {
      "application/papermill.record+json": {
       "time_step": 1245
      }
     },
     "metadata": {},
     "output_type": "display_data"
    },
    {
     "data": {
      "application/papermill.record+json": {
       "epsilon": 0.010000040985383415
      }
     },
     "metadata": {},
     "output_type": "display_data"
    },
    {
     "name": "stdout",
     "output_type": "stream",
     "text": [
      "episode: 36/100, score: 701, final_epsilon: 0.010000024858891642\n"
     ]
    },
    {
     "data": {
      "application/papermill.record+json": {
       "episode": 36
      }
     },
     "metadata": {},
     "output_type": "display_data"
    },
    {
     "data": {
      "application/papermill.record+json": {
       "time_step": 701
      }
     },
     "metadata": {},
     "output_type": "display_data"
    },
    {
     "data": {
      "application/papermill.record+json": {
       "epsilon": 0.010000024858891642
      }
     },
     "metadata": {},
     "output_type": "display_data"
    },
    {
     "name": "stdout",
     "output_type": "stream",
     "text": [
      "episode: 37/100, score: 882, final_epsilon: 0.010000015077679947\n"
     ]
    },
    {
     "data": {
      "application/papermill.record+json": {
       "episode": 37
      }
     },
     "metadata": {},
     "output_type": "display_data"
    },
    {
     "data": {
      "application/papermill.record+json": {
       "time_step": 882
      }
     },
     "metadata": {},
     "output_type": "display_data"
    },
    {
     "data": {
      "application/papermill.record+json": {
       "epsilon": 0.010000015077679947
      }
     },
     "metadata": {},
     "output_type": "display_data"
    },
    {
     "name": "stdout",
     "output_type": "stream",
     "text": [
      "episode: 38/100, score: 713, final_epsilon: 0.010000009145075166\n"
     ]
    },
    {
     "data": {
      "application/papermill.record+json": {
       "episode": 38
      }
     },
     "metadata": {},
     "output_type": "display_data"
    },
    {
     "data": {
      "application/papermill.record+json": {
       "time_step": 713
      }
     },
     "metadata": {},
     "output_type": "display_data"
    },
    {
     "data": {
      "application/papermill.record+json": {
       "epsilon": 0.010000009145075166
      }
     },
     "metadata": {},
     "output_type": "display_data"
    },
    {
     "name": "stdout",
     "output_type": "stream",
     "text": [
      "episode: 39/100, score: 852, final_epsilon: 0.010000005546768474\n"
     ]
    },
    {
     "data": {
      "application/papermill.record+json": {
       "episode": 39
      }
     },
     "metadata": {},
     "output_type": "display_data"
    },
    {
     "data": {
      "application/papermill.record+json": {
       "time_step": 852
      }
     },
     "metadata": {},
     "output_type": "display_data"
    },
    {
     "data": {
      "application/papermill.record+json": {
       "epsilon": 0.010000005546768474
      }
     },
     "metadata": {},
     "output_type": "display_data"
    },
    {
     "name": "stdout",
     "output_type": "stream",
     "text": [
      "episode: 40/100, score: 1108, final_epsilon: 0.010000003364285142\n"
     ]
    },
    {
     "data": {
      "application/papermill.record+json": {
       "episode": 40
      }
     },
     "metadata": {},
     "output_type": "display_data"
    },
    {
     "data": {
      "application/papermill.record+json": {
       "time_step": 1108
      }
     },
     "metadata": {},
     "output_type": "display_data"
    },
    {
     "data": {
      "application/papermill.record+json": {
       "epsilon": 0.010000003364285142
      }
     },
     "metadata": {},
     "output_type": "display_data"
    },
    {
     "name": "stdout",
     "output_type": "stream",
     "text": [
      "episode: 41/100, score: 698, final_epsilon: 0.010000002040542086\n"
     ]
    },
    {
     "data": {
      "application/papermill.record+json": {
       "episode": 41
      }
     },
     "metadata": {},
     "output_type": "display_data"
    },
    {
     "data": {
      "application/papermill.record+json": {
       "time_step": 698
      }
     },
     "metadata": {},
     "output_type": "display_data"
    },
    {
     "data": {
      "application/papermill.record+json": {
       "epsilon": 0.010000002040542086
      }
     },
     "metadata": {},
     "output_type": "display_data"
    },
    {
     "name": "stdout",
     "output_type": "stream",
     "text": [
      "episode: 42/100, score: 806, final_epsilon: 0.010000001237651338\n"
     ]
    },
    {
     "data": {
      "application/papermill.record+json": {
       "episode": 42
      }
     },
     "metadata": {},
     "output_type": "display_data"
    },
    {
     "data": {
      "application/papermill.record+json": {
       "time_step": 806
      }
     },
     "metadata": {},
     "output_type": "display_data"
    },
    {
     "data": {
      "application/papermill.record+json": {
       "epsilon": 0.010000001237651338
      }
     },
     "metadata": {},
     "output_type": "display_data"
    },
    {
     "name": "stdout",
     "output_type": "stream",
     "text": [
      "episode: 43/100, score: 701, final_epsilon: 0.010000000750673482\n"
     ]
    },
    {
     "data": {
      "application/papermill.record+json": {
       "episode": 43
      }
     },
     "metadata": {},
     "output_type": "display_data"
    },
    {
     "data": {
      "application/papermill.record+json": {
       "time_step": 701
      }
     },
     "metadata": {},
     "output_type": "display_data"
    },
    {
     "data": {
      "application/papermill.record+json": {
       "epsilon": 0.010000000750673482
      }
     },
     "metadata": {},
     "output_type": "display_data"
    },
    {
     "name": "stdout",
     "output_type": "stream",
     "text": [
      "episode: 44/100, score: 790, final_epsilon: 0.010000000455306482\n"
     ]
    },
    {
     "data": {
      "application/papermill.record+json": {
       "episode": 44
      }
     },
     "metadata": {},
     "output_type": "display_data"
    },
    {
     "data": {
      "application/papermill.record+json": {
       "time_step": 790
      }
     },
     "metadata": {},
     "output_type": "display_data"
    },
    {
     "data": {
      "application/papermill.record+json": {
       "epsilon": 0.010000000455306482
      }
     },
     "metadata": {},
     "output_type": "display_data"
    },
    {
     "name": "stdout",
     "output_type": "stream",
     "text": [
      "episode: 45/100, score: 701, final_epsilon: 0.010000000276157342\n"
     ]
    },
    {
     "data": {
      "application/papermill.record+json": {
       "episode": 45
      }
     },
     "metadata": {},
     "output_type": "display_data"
    },
    {
     "data": {
      "application/papermill.record+json": {
       "time_step": 701
      }
     },
     "metadata": {},
     "output_type": "display_data"
    },
    {
     "data": {
      "application/papermill.record+json": {
       "epsilon": 0.010000000276157342
      }
     },
     "metadata": {},
     "output_type": "display_data"
    },
    {
     "name": "stdout",
     "output_type": "stream",
     "text": [
      "episode: 46/100, score: 1234, final_epsilon: 0.010000000167497894\n"
     ]
    },
    {
     "data": {
      "application/papermill.record+json": {
       "episode": 46
      }
     },
     "metadata": {},
     "output_type": "display_data"
    },
    {
     "data": {
      "application/papermill.record+json": {
       "time_step": 1234
      }
     },
     "metadata": {},
     "output_type": "display_data"
    },
    {
     "data": {
      "application/papermill.record+json": {
       "epsilon": 0.010000000167497894
      }
     },
     "metadata": {},
     "output_type": "display_data"
    },
    {
     "name": "stdout",
     "output_type": "stream",
     "text": [
      "episode: 47/100, score: 767, final_epsilon: 0.010000000101592608\n"
     ]
    },
    {
     "data": {
      "application/papermill.record+json": {
       "episode": 47
      }
     },
     "metadata": {},
     "output_type": "display_data"
    },
    {
     "data": {
      "application/papermill.record+json": {
       "time_step": 767
      }
     },
     "metadata": {},
     "output_type": "display_data"
    },
    {
     "data": {
      "application/papermill.record+json": {
       "epsilon": 0.010000000101592608
      }
     },
     "metadata": {},
     "output_type": "display_data"
    },
    {
     "name": "stdout",
     "output_type": "stream",
     "text": [
      "episode: 48/100, score: 702, final_epsilon: 0.010000000061619031\n"
     ]
    },
    {
     "data": {
      "application/papermill.record+json": {
       "episode": 48
      }
     },
     "metadata": {},
     "output_type": "display_data"
    },
    {
     "data": {
      "application/papermill.record+json": {
       "time_step": 702
      }
     },
     "metadata": {},
     "output_type": "display_data"
    },
    {
     "data": {
      "application/papermill.record+json": {
       "epsilon": 0.010000000061619031
      }
     },
     "metadata": {},
     "output_type": "display_data"
    },
    {
     "name": "stdout",
     "output_type": "stream",
     "text": [
      "episode: 49/100, score: 815, final_epsilon: 0.010000000037373832\n"
     ]
    },
    {
     "data": {
      "application/papermill.record+json": {
       "episode": 49
      }
     },
     "metadata": {},
     "output_type": "display_data"
    },
    {
     "data": {
      "application/papermill.record+json": {
       "time_step": 815
      }
     },
     "metadata": {},
     "output_type": "display_data"
    },
    {
     "data": {
      "application/papermill.record+json": {
       "epsilon": 0.010000000037373832
      }
     },
     "metadata": {},
     "output_type": "display_data"
    },
    {
     "name": "stdout",
     "output_type": "stream",
     "text": [
      "episode: 50/100, score: 934, final_epsilon: 0.010000000022668374\n"
     ]
    },
    {
     "data": {
      "application/papermill.record+json": {
       "episode": 50
      }
     },
     "metadata": {},
     "output_type": "display_data"
    },
    {
     "data": {
      "application/papermill.record+json": {
       "time_step": 934
      }
     },
     "metadata": {},
     "output_type": "display_data"
    },
    {
     "data": {
      "application/papermill.record+json": {
       "epsilon": 0.010000000022668374
      }
     },
     "metadata": {},
     "output_type": "display_data"
    },
    {
     "name": "stdout",
     "output_type": "stream",
     "text": [
      "episode: 51/100, score: 706, final_epsilon: 0.010000000013749065\n"
     ]
    },
    {
     "data": {
      "application/papermill.record+json": {
       "episode": 51
      }
     },
     "metadata": {},
     "output_type": "display_data"
    },
    {
     "data": {
      "application/papermill.record+json": {
       "time_step": 706
      }
     },
     "metadata": {},
     "output_type": "display_data"
    },
    {
     "data": {
      "application/papermill.record+json": {
       "epsilon": 0.010000000013749065
      }
     },
     "metadata": {},
     "output_type": "display_data"
    },
    {
     "name": "stdout",
     "output_type": "stream",
     "text": [
      "episode: 52/100, score: 709, final_epsilon: 0.010000000008339229\n"
     ]
    },
    {
     "data": {
      "application/papermill.record+json": {
       "episode": 52
      }
     },
     "metadata": {},
     "output_type": "display_data"
    },
    {
     "data": {
      "application/papermill.record+json": {
       "time_step": 709
      }
     },
     "metadata": {},
     "output_type": "display_data"
    },
    {
     "data": {
      "application/papermill.record+json": {
       "epsilon": 0.010000000008339229
      }
     },
     "metadata": {},
     "output_type": "display_data"
    },
    {
     "name": "stdout",
     "output_type": "stream",
     "text": [
      "episode: 53/100, score: 941, final_epsilon: 0.010000000005057998\n"
     ]
    },
    {
     "data": {
      "application/papermill.record+json": {
       "episode": 53
      }
     },
     "metadata": {},
     "output_type": "display_data"
    },
    {
     "data": {
      "application/papermill.record+json": {
       "time_step": 941
      }
     },
     "metadata": {},
     "output_type": "display_data"
    },
    {
     "data": {
      "application/papermill.record+json": {
       "epsilon": 0.010000000005057998
      }
     },
     "metadata": {},
     "output_type": "display_data"
    },
    {
     "name": "stdout",
     "output_type": "stream",
     "text": [
      "episode: 54/100, score: 850, final_epsilon: 0.010000000003067831\n"
     ]
    },
    {
     "data": {
      "application/papermill.record+json": {
       "episode": 54
      }
     },
     "metadata": {},
     "output_type": "display_data"
    },
    {
     "data": {
      "application/papermill.record+json": {
       "time_step": 850
      }
     },
     "metadata": {},
     "output_type": "display_data"
    },
    {
     "data": {
      "application/papermill.record+json": {
       "epsilon": 0.010000000003067831
      }
     },
     "metadata": {},
     "output_type": "display_data"
    },
    {
     "name": "stdout",
     "output_type": "stream",
     "text": [
      "episode: 55/100, score: 813, final_epsilon: 0.010000000001860734\n"
     ]
    },
    {
     "data": {
      "application/papermill.record+json": {
       "episode": 55
      }
     },
     "metadata": {},
     "output_type": "display_data"
    },
    {
     "data": {
      "application/papermill.record+json": {
       "time_step": 813
      }
     },
     "metadata": {},
     "output_type": "display_data"
    },
    {
     "data": {
      "application/papermill.record+json": {
       "epsilon": 0.010000000001860734
      }
     },
     "metadata": {},
     "output_type": "display_data"
    },
    {
     "name": "stdout",
     "output_type": "stream",
     "text": [
      "episode: 56/100, score: 1104, final_epsilon: 0.010000000001128592\n"
     ]
    },
    {
     "data": {
      "application/papermill.record+json": {
       "episode": 56
      }
     },
     "metadata": {},
     "output_type": "display_data"
    },
    {
     "data": {
      "application/papermill.record+json": {
       "time_step": 1104
      }
     },
     "metadata": {},
     "output_type": "display_data"
    },
    {
     "data": {
      "application/papermill.record+json": {
       "epsilon": 0.010000000001128592
      }
     },
     "metadata": {},
     "output_type": "display_data"
    },
    {
     "name": "stdout",
     "output_type": "stream",
     "text": [
      "episode: 57/100, score: 871, final_epsilon: 0.010000000000684526\n"
     ]
    },
    {
     "data": {
      "application/papermill.record+json": {
       "episode": 57
      }
     },
     "metadata": {},
     "output_type": "display_data"
    },
    {
     "data": {
      "application/papermill.record+json": {
       "time_step": 871
      }
     },
     "metadata": {},
     "output_type": "display_data"
    },
    {
     "data": {
      "application/papermill.record+json": {
       "epsilon": 0.010000000000684526
      }
     },
     "metadata": {},
     "output_type": "display_data"
    },
    {
     "name": "stdout",
     "output_type": "stream",
     "text": [
      "episode: 58/100, score: 1051, final_epsilon: 0.010000000000415185\n"
     ]
    },
    {
     "data": {
      "application/papermill.record+json": {
       "episode": 58
      }
     },
     "metadata": {},
     "output_type": "display_data"
    },
    {
     "data": {
      "application/papermill.record+json": {
       "time_step": 1051
      }
     },
     "metadata": {},
     "output_type": "display_data"
    },
    {
     "data": {
      "application/papermill.record+json": {
       "epsilon": 0.010000000000415185
      }
     },
     "metadata": {},
     "output_type": "display_data"
    },
    {
     "name": "stdout",
     "output_type": "stream",
     "text": [
      "episode: 59/100, score: 810, final_epsilon: 0.010000000000251823\n"
     ]
    },
    {
     "data": {
      "application/papermill.record+json": {
       "episode": 59
      }
     },
     "metadata": {},
     "output_type": "display_data"
    },
    {
     "data": {
      "application/papermill.record+json": {
       "time_step": 810
      }
     },
     "metadata": {},
     "output_type": "display_data"
    },
    {
     "data": {
      "application/papermill.record+json": {
       "epsilon": 0.010000000000251823
      }
     },
     "metadata": {},
     "output_type": "display_data"
    },
    {
     "name": "stdout",
     "output_type": "stream",
     "text": [
      "episode: 60/100, score: 1420, final_epsilon: 0.01000000000015274\n"
     ]
    },
    {
     "data": {
      "application/papermill.record+json": {
       "episode": 60
      }
     },
     "metadata": {},
     "output_type": "display_data"
    },
    {
     "data": {
      "application/papermill.record+json": {
       "time_step": 1420
      }
     },
     "metadata": {},
     "output_type": "display_data"
    },
    {
     "data": {
      "application/papermill.record+json": {
       "epsilon": 0.01000000000015274
      }
     },
     "metadata": {},
     "output_type": "display_data"
    },
    {
     "name": "stdout",
     "output_type": "stream",
     "text": [
      "episode: 61/100, score: 1110, final_epsilon: 0.010000000000092641\n"
     ]
    },
    {
     "data": {
      "application/papermill.record+json": {
       "episode": 61
      }
     },
     "metadata": {},
     "output_type": "display_data"
    },
    {
     "data": {
      "application/papermill.record+json": {
       "time_step": 1110
      }
     },
     "metadata": {},
     "output_type": "display_data"
    },
    {
     "data": {
      "application/papermill.record+json": {
       "epsilon": 0.010000000000092641
      }
     },
     "metadata": {},
     "output_type": "display_data"
    },
    {
     "name": "stdout",
     "output_type": "stream",
     "text": [
      "episode: 62/100, score: 1100, final_epsilon: 0.01000000000005619\n"
     ]
    },
    {
     "data": {
      "application/papermill.record+json": {
       "episode": 62
      }
     },
     "metadata": {},
     "output_type": "display_data"
    },
    {
     "data": {
      "application/papermill.record+json": {
       "time_step": 1100
      }
     },
     "metadata": {},
     "output_type": "display_data"
    },
    {
     "data": {
      "application/papermill.record+json": {
       "epsilon": 0.01000000000005619
      }
     },
     "metadata": {},
     "output_type": "display_data"
    },
    {
     "name": "stdout",
     "output_type": "stream",
     "text": [
      "episode: 63/100, score: 888, final_epsilon: 0.01000000000003408\n"
     ]
    },
    {
     "data": {
      "application/papermill.record+json": {
       "episode": 63
      }
     },
     "metadata": {},
     "output_type": "display_data"
    },
    {
     "data": {
      "application/papermill.record+json": {
       "time_step": 888
      }
     },
     "metadata": {},
     "output_type": "display_data"
    },
    {
     "data": {
      "application/papermill.record+json": {
       "epsilon": 0.01000000000003408
      }
     },
     "metadata": {},
     "output_type": "display_data"
    },
    {
     "name": "stdout",
     "output_type": "stream",
     "text": [
      "episode: 64/100, score: 851, final_epsilon: 0.010000000000020671\n"
     ]
    },
    {
     "data": {
      "application/papermill.record+json": {
       "episode": 64
      }
     },
     "metadata": {},
     "output_type": "display_data"
    },
    {
     "data": {
      "application/papermill.record+json": {
       "time_step": 851
      }
     },
     "metadata": {},
     "output_type": "display_data"
    },
    {
     "data": {
      "application/papermill.record+json": {
       "epsilon": 0.010000000000020671
      }
     },
     "metadata": {},
     "output_type": "display_data"
    },
    {
     "name": "stdout",
     "output_type": "stream",
     "text": [
      "episode: 65/100, score: 1163, final_epsilon: 0.010000000000012537\n"
     ]
    },
    {
     "data": {
      "application/papermill.record+json": {
       "episode": 65
      }
     },
     "metadata": {},
     "output_type": "display_data"
    },
    {
     "data": {
      "application/papermill.record+json": {
       "time_step": 1163
      }
     },
     "metadata": {},
     "output_type": "display_data"
    },
    {
     "data": {
      "application/papermill.record+json": {
       "epsilon": 0.010000000000012537
      }
     },
     "metadata": {},
     "output_type": "display_data"
    },
    {
     "name": "stdout",
     "output_type": "stream",
     "text": [
      "episode: 66/100, score: 1205, final_epsilon: 0.010000000000007605\n"
     ]
    },
    {
     "data": {
      "application/papermill.record+json": {
       "episode": 66
      }
     },
     "metadata": {},
     "output_type": "display_data"
    },
    {
     "data": {
      "application/papermill.record+json": {
       "time_step": 1205
      }
     },
     "metadata": {},
     "output_type": "display_data"
    },
    {
     "data": {
      "application/papermill.record+json": {
       "epsilon": 0.010000000000007605
      }
     },
     "metadata": {},
     "output_type": "display_data"
    },
    {
     "name": "stdout",
     "output_type": "stream",
     "text": [
      "episode: 67/100, score: 861, final_epsilon: 0.010000000000004613\n"
     ]
    },
    {
     "data": {
      "application/papermill.record+json": {
       "episode": 67
      }
     },
     "metadata": {},
     "output_type": "display_data"
    },
    {
     "data": {
      "application/papermill.record+json": {
       "time_step": 861
      }
     },
     "metadata": {},
     "output_type": "display_data"
    },
    {
     "data": {
      "application/papermill.record+json": {
       "epsilon": 0.010000000000004613
      }
     },
     "metadata": {},
     "output_type": "display_data"
    },
    {
     "name": "stdout",
     "output_type": "stream",
     "text": [
      "episode: 68/100, score: 939, final_epsilon: 0.010000000000002798\n"
     ]
    },
    {
     "data": {
      "application/papermill.record+json": {
       "episode": 68
      }
     },
     "metadata": {},
     "output_type": "display_data"
    },
    {
     "data": {
      "application/papermill.record+json": {
       "time_step": 939
      }
     },
     "metadata": {},
     "output_type": "display_data"
    },
    {
     "data": {
      "application/papermill.record+json": {
       "epsilon": 0.010000000000002798
      }
     },
     "metadata": {},
     "output_type": "display_data"
    },
    {
     "name": "stdout",
     "output_type": "stream",
     "text": [
      "episode: 69/100, score: 1312, final_epsilon: 0.010000000000001697\n"
     ]
    },
    {
     "data": {
      "application/papermill.record+json": {
       "episode": 69
      }
     },
     "metadata": {},
     "output_type": "display_data"
    },
    {
     "data": {
      "application/papermill.record+json": {
       "time_step": 1312
      }
     },
     "metadata": {},
     "output_type": "display_data"
    },
    {
     "data": {
      "application/papermill.record+json": {
       "epsilon": 0.010000000000001697
      }
     },
     "metadata": {},
     "output_type": "display_data"
    },
    {
     "name": "stdout",
     "output_type": "stream",
     "text": [
      "episode: 70/100, score: 1404, final_epsilon: 0.010000000000001029\n"
     ]
    },
    {
     "data": {
      "application/papermill.record+json": {
       "episode": 70
      }
     },
     "metadata": {},
     "output_type": "display_data"
    },
    {
     "data": {
      "application/papermill.record+json": {
       "time_step": 1404
      }
     },
     "metadata": {},
     "output_type": "display_data"
    },
    {
     "data": {
      "application/papermill.record+json": {
       "epsilon": 0.010000000000001029
      }
     },
     "metadata": {},
     "output_type": "display_data"
    },
    {
     "name": "stdout",
     "output_type": "stream",
     "text": [
      "episode: 71/100, score: 918, final_epsilon: 0.010000000000000625\n"
     ]
    },
    {
     "data": {
      "application/papermill.record+json": {
       "episode": 71
      }
     },
     "metadata": {},
     "output_type": "display_data"
    },
    {
     "data": {
      "application/papermill.record+json": {
       "time_step": 918
      }
     },
     "metadata": {},
     "output_type": "display_data"
    },
    {
     "data": {
      "application/papermill.record+json": {
       "epsilon": 0.010000000000000625
      }
     },
     "metadata": {},
     "output_type": "display_data"
    },
    {
     "name": "stdout",
     "output_type": "stream",
     "text": [
      "episode: 72/100, score: 1125, final_epsilon: 0.010000000000000378\n"
     ]
    },
    {
     "data": {
      "application/papermill.record+json": {
       "episode": 72
      }
     },
     "metadata": {},
     "output_type": "display_data"
    },
    {
     "data": {
      "application/papermill.record+json": {
       "time_step": 1125
      }
     },
     "metadata": {},
     "output_type": "display_data"
    },
    {
     "data": {
      "application/papermill.record+json": {
       "epsilon": 0.010000000000000378
      }
     },
     "metadata": {},
     "output_type": "display_data"
    },
    {
     "name": "stdout",
     "output_type": "stream",
     "text": [
      "episode: 73/100, score: 1169, final_epsilon: 0.01000000000000023\n"
     ]
    },
    {
     "data": {
      "application/papermill.record+json": {
       "episode": 73
      }
     },
     "metadata": {},
     "output_type": "display_data"
    },
    {
     "data": {
      "application/papermill.record+json": {
       "time_step": 1169
      }
     },
     "metadata": {},
     "output_type": "display_data"
    },
    {
     "data": {
      "application/papermill.record+json": {
       "epsilon": 0.01000000000000023
      }
     },
     "metadata": {},
     "output_type": "display_data"
    },
    {
     "name": "stdout",
     "output_type": "stream",
     "text": [
      "episode: 74/100, score: 938, final_epsilon: 0.010000000000000139\n"
     ]
    },
    {
     "data": {
      "application/papermill.record+json": {
       "episode": 74
      }
     },
     "metadata": {},
     "output_type": "display_data"
    },
    {
     "data": {
      "application/papermill.record+json": {
       "time_step": 938
      }
     },
     "metadata": {},
     "output_type": "display_data"
    },
    {
     "data": {
      "application/papermill.record+json": {
       "epsilon": 0.010000000000000139
      }
     },
     "metadata": {},
     "output_type": "display_data"
    },
    {
     "name": "stdout",
     "output_type": "stream",
     "text": [
      "episode: 75/100, score: 793, final_epsilon: 0.010000000000000085\n"
     ]
    },
    {
     "data": {
      "application/papermill.record+json": {
       "episode": 75
      }
     },
     "metadata": {},
     "output_type": "display_data"
    },
    {
     "data": {
      "application/papermill.record+json": {
       "time_step": 793
      }
     },
     "metadata": {},
     "output_type": "display_data"
    },
    {
     "data": {
      "application/papermill.record+json": {
       "epsilon": 0.010000000000000085
      }
     },
     "metadata": {},
     "output_type": "display_data"
    },
    {
     "name": "stdout",
     "output_type": "stream",
     "text": [
      "episode: 76/100, score: 714, final_epsilon: 0.010000000000000052\n"
     ]
    },
    {
     "data": {
      "application/papermill.record+json": {
       "episode": 76
      }
     },
     "metadata": {},
     "output_type": "display_data"
    },
    {
     "data": {
      "application/papermill.record+json": {
       "time_step": 714
      }
     },
     "metadata": {},
     "output_type": "display_data"
    },
    {
     "data": {
      "application/papermill.record+json": {
       "epsilon": 0.010000000000000052
      }
     },
     "metadata": {},
     "output_type": "display_data"
    },
    {
     "name": "stdout",
     "output_type": "stream",
     "text": [
      "episode: 77/100, score: 1203, final_epsilon: 0.010000000000000031\n"
     ]
    },
    {
     "data": {
      "application/papermill.record+json": {
       "episode": 77
      }
     },
     "metadata": {},
     "output_type": "display_data"
    },
    {
     "data": {
      "application/papermill.record+json": {
       "time_step": 1203
      }
     },
     "metadata": {},
     "output_type": "display_data"
    },
    {
     "data": {
      "application/papermill.record+json": {
       "epsilon": 0.010000000000000031
      }
     },
     "metadata": {},
     "output_type": "display_data"
    },
    {
     "name": "stdout",
     "output_type": "stream",
     "text": [
      "episode: 78/100, score: 924, final_epsilon: 0.01000000000000002\n"
     ]
    },
    {
     "data": {
      "application/papermill.record+json": {
       "episode": 78
      }
     },
     "metadata": {},
     "output_type": "display_data"
    },
    {
     "data": {
      "application/papermill.record+json": {
       "time_step": 924
      }
     },
     "metadata": {},
     "output_type": "display_data"
    },
    {
     "data": {
      "application/papermill.record+json": {
       "epsilon": 0.01000000000000002
      }
     },
     "metadata": {},
     "output_type": "display_data"
    },
    {
     "name": "stdout",
     "output_type": "stream",
     "text": [
      "episode: 79/100, score: 1043, final_epsilon: 0.010000000000000012\n"
     ]
    },
    {
     "data": {
      "application/papermill.record+json": {
       "episode": 79
      }
     },
     "metadata": {},
     "output_type": "display_data"
    },
    {
     "data": {
      "application/papermill.record+json": {
       "time_step": 1043
      }
     },
     "metadata": {},
     "output_type": "display_data"
    },
    {
     "data": {
      "application/papermill.record+json": {
       "epsilon": 0.010000000000000012
      }
     },
     "metadata": {},
     "output_type": "display_data"
    },
    {
     "name": "stdout",
     "output_type": "stream",
     "text": [
      "episode: 80/100, score: 812, final_epsilon: 0.010000000000000007\n"
     ]
    },
    {
     "data": {
      "application/papermill.record+json": {
       "episode": 80
      }
     },
     "metadata": {},
     "output_type": "display_data"
    },
    {
     "data": {
      "application/papermill.record+json": {
       "time_step": 812
      }
     },
     "metadata": {},
     "output_type": "display_data"
    },
    {
     "data": {
      "application/papermill.record+json": {
       "epsilon": 0.010000000000000007
      }
     },
     "metadata": {},
     "output_type": "display_data"
    },
    {
     "name": "stdout",
     "output_type": "stream",
     "text": [
      "episode: 81/100, score: 1176, final_epsilon: 0.010000000000000004\n"
     ]
    },
    {
     "data": {
      "application/papermill.record+json": {
       "episode": 81
      }
     },
     "metadata": {},
     "output_type": "display_data"
    },
    {
     "data": {
      "application/papermill.record+json": {
       "time_step": 1176
      }
     },
     "metadata": {},
     "output_type": "display_data"
    },
    {
     "data": {
      "application/papermill.record+json": {
       "epsilon": 0.010000000000000004
      }
     },
     "metadata": {},
     "output_type": "display_data"
    },
    {
     "name": "stdout",
     "output_type": "stream",
     "text": [
      "episode: 82/100, score: 1112, final_epsilon: 0.010000000000000002\n"
     ]
    },
    {
     "data": {
      "application/papermill.record+json": {
       "episode": 82
      }
     },
     "metadata": {},
     "output_type": "display_data"
    },
    {
     "data": {
      "application/papermill.record+json": {
       "time_step": 1112
      }
     },
     "metadata": {},
     "output_type": "display_data"
    },
    {
     "data": {
      "application/papermill.record+json": {
       "epsilon": 0.010000000000000002
      }
     },
     "metadata": {},
     "output_type": "display_data"
    },
    {
     "name": "stdout",
     "output_type": "stream",
     "text": [
      "episode: 83/100, score: 1074, final_epsilon: 0.010000000000000002\n"
     ]
    },
    {
     "data": {
      "application/papermill.record+json": {
       "episode": 83
      }
     },
     "metadata": {},
     "output_type": "display_data"
    },
    {
     "data": {
      "application/papermill.record+json": {
       "time_step": 1074
      }
     },
     "metadata": {},
     "output_type": "display_data"
    },
    {
     "data": {
      "application/papermill.record+json": {
       "epsilon": 0.010000000000000002
      }
     },
     "metadata": {},
     "output_type": "display_data"
    },
    {
     "name": "stdout",
     "output_type": "stream",
     "text": [
      "episode: 84/100, score: 708, final_epsilon: 0.010000000000000002\n"
     ]
    },
    {
     "data": {
      "application/papermill.record+json": {
       "episode": 84
      }
     },
     "metadata": {},
     "output_type": "display_data"
    },
    {
     "data": {
      "application/papermill.record+json": {
       "time_step": 708
      }
     },
     "metadata": {},
     "output_type": "display_data"
    },
    {
     "data": {
      "application/papermill.record+json": {
       "epsilon": 0.010000000000000002
      }
     },
     "metadata": {},
     "output_type": "display_data"
    },
    {
     "name": "stdout",
     "output_type": "stream",
     "text": [
      "episode: 85/100, score: 780, final_epsilon: 0.01\n"
     ]
    },
    {
     "data": {
      "application/papermill.record+json": {
       "episode": 85
      }
     },
     "metadata": {},
     "output_type": "display_data"
    },
    {
     "data": {
      "application/papermill.record+json": {
       "time_step": 780
      }
     },
     "metadata": {},
     "output_type": "display_data"
    },
    {
     "data": {
      "application/papermill.record+json": {
       "epsilon": 0.01
      }
     },
     "metadata": {},
     "output_type": "display_data"
    },
    {
     "name": "stdout",
     "output_type": "stream",
     "text": [
      "episode: 86/100, score: 940, final_epsilon: 0.01\n"
     ]
    },
    {
     "data": {
      "application/papermill.record+json": {
       "episode": 86
      }
     },
     "metadata": {},
     "output_type": "display_data"
    },
    {
     "data": {
      "application/papermill.record+json": {
       "time_step": 940
      }
     },
     "metadata": {},
     "output_type": "display_data"
    },
    {
     "data": {
      "application/papermill.record+json": {
       "epsilon": 0.01
      }
     },
     "metadata": {},
     "output_type": "display_data"
    },
    {
     "name": "stdout",
     "output_type": "stream",
     "text": [
      "episode: 87/100, score: 1210, final_epsilon: 0.01\n"
     ]
    },
    {
     "data": {
      "application/papermill.record+json": {
       "episode": 87
      }
     },
     "metadata": {},
     "output_type": "display_data"
    },
    {
     "data": {
      "application/papermill.record+json": {
       "time_step": 1210
      }
     },
     "metadata": {},
     "output_type": "display_data"
    },
    {
     "data": {
      "application/papermill.record+json": {
       "epsilon": 0.01
      }
     },
     "metadata": {},
     "output_type": "display_data"
    },
    {
     "name": "stdout",
     "output_type": "stream",
     "text": [
      "episode: 88/100, score: 705, final_epsilon: 0.01\n"
     ]
    },
    {
     "data": {
      "application/papermill.record+json": {
       "episode": 88
      }
     },
     "metadata": {},
     "output_type": "display_data"
    },
    {
     "data": {
      "application/papermill.record+json": {
       "time_step": 705
      }
     },
     "metadata": {},
     "output_type": "display_data"
    },
    {
     "data": {
      "application/papermill.record+json": {
       "epsilon": 0.01
      }
     },
     "metadata": {},
     "output_type": "display_data"
    },
    {
     "name": "stdout",
     "output_type": "stream",
     "text": [
      "episode: 89/100, score: 1020, final_epsilon: 0.01\n"
     ]
    },
    {
     "data": {
      "application/papermill.record+json": {
       "episode": 89
      }
     },
     "metadata": {},
     "output_type": "display_data"
    },
    {
     "data": {
      "application/papermill.record+json": {
       "time_step": 1020
      }
     },
     "metadata": {},
     "output_type": "display_data"
    },
    {
     "data": {
      "application/papermill.record+json": {
       "epsilon": 0.01
      }
     },
     "metadata": {},
     "output_type": "display_data"
    },
    {
     "name": "stdout",
     "output_type": "stream",
     "text": [
      "episode: 90/100, score: 996, final_epsilon: 0.01\n"
     ]
    },
    {
     "data": {
      "application/papermill.record+json": {
       "episode": 90
      }
     },
     "metadata": {},
     "output_type": "display_data"
    },
    {
     "data": {
      "application/papermill.record+json": {
       "time_step": 996
      }
     },
     "metadata": {},
     "output_type": "display_data"
    },
    {
     "data": {
      "application/papermill.record+json": {
       "epsilon": 0.01
      }
     },
     "metadata": {},
     "output_type": "display_data"
    },
    {
     "name": "stdout",
     "output_type": "stream",
     "text": [
      "episode: 91/100, score: 1126, final_epsilon: 0.01\n"
     ]
    },
    {
     "data": {
      "application/papermill.record+json": {
       "episode": 91
      }
     },
     "metadata": {},
     "output_type": "display_data"
    },
    {
     "data": {
      "application/papermill.record+json": {
       "time_step": 1126
      }
     },
     "metadata": {},
     "output_type": "display_data"
    },
    {
     "data": {
      "application/papermill.record+json": {
       "epsilon": 0.01
      }
     },
     "metadata": {},
     "output_type": "display_data"
    },
    {
     "name": "stdout",
     "output_type": "stream",
     "text": [
      "episode: 92/100, score: 688, final_epsilon: 0.01\n"
     ]
    },
    {
     "data": {
      "application/papermill.record+json": {
       "episode": 92
      }
     },
     "metadata": {},
     "output_type": "display_data"
    },
    {
     "data": {
      "application/papermill.record+json": {
       "time_step": 688
      }
     },
     "metadata": {},
     "output_type": "display_data"
    },
    {
     "data": {
      "application/papermill.record+json": {
       "epsilon": 0.01
      }
     },
     "metadata": {},
     "output_type": "display_data"
    },
    {
     "name": "stdout",
     "output_type": "stream",
     "text": [
      "episode: 93/100, score: 1115, final_epsilon: 0.01\n"
     ]
    },
    {
     "data": {
      "application/papermill.record+json": {
       "episode": 93
      }
     },
     "metadata": {},
     "output_type": "display_data"
    },
    {
     "data": {
      "application/papermill.record+json": {
       "time_step": 1115
      }
     },
     "metadata": {},
     "output_type": "display_data"
    },
    {
     "data": {
      "application/papermill.record+json": {
       "epsilon": 0.01
      }
     },
     "metadata": {},
     "output_type": "display_data"
    },
    {
     "name": "stdout",
     "output_type": "stream",
     "text": [
      "episode: 94/100, score: 775, final_epsilon: 0.01\n"
     ]
    },
    {
     "data": {
      "application/papermill.record+json": {
       "episode": 94
      }
     },
     "metadata": {},
     "output_type": "display_data"
    },
    {
     "data": {
      "application/papermill.record+json": {
       "time_step": 775
      }
     },
     "metadata": {},
     "output_type": "display_data"
    },
    {
     "data": {
      "application/papermill.record+json": {
       "epsilon": 0.01
      }
     },
     "metadata": {},
     "output_type": "display_data"
    },
    {
     "name": "stdout",
     "output_type": "stream",
     "text": [
      "episode: 95/100, score: 953, final_epsilon: 0.01\n"
     ]
    },
    {
     "data": {
      "application/papermill.record+json": {
       "episode": 95
      }
     },
     "metadata": {},
     "output_type": "display_data"
    },
    {
     "data": {
      "application/papermill.record+json": {
       "time_step": 953
      }
     },
     "metadata": {},
     "output_type": "display_data"
    },
    {
     "data": {
      "application/papermill.record+json": {
       "epsilon": 0.01
      }
     },
     "metadata": {},
     "output_type": "display_data"
    },
    {
     "name": "stdout",
     "output_type": "stream",
     "text": [
      "episode: 96/100, score: 707, final_epsilon: 0.01\n"
     ]
    },
    {
     "data": {
      "application/papermill.record+json": {
       "episode": 96
      }
     },
     "metadata": {},
     "output_type": "display_data"
    },
    {
     "data": {
      "application/papermill.record+json": {
       "time_step": 707
      }
     },
     "metadata": {},
     "output_type": "display_data"
    },
    {
     "data": {
      "application/papermill.record+json": {
       "epsilon": 0.01
      }
     },
     "metadata": {},
     "output_type": "display_data"
    },
    {
     "name": "stdout",
     "output_type": "stream",
     "text": [
      "episode: 97/100, score: 703, final_epsilon: 0.01\n"
     ]
    },
    {
     "data": {
      "application/papermill.record+json": {
       "episode": 97
      }
     },
     "metadata": {},
     "output_type": "display_data"
    },
    {
     "data": {
      "application/papermill.record+json": {
       "time_step": 703
      }
     },
     "metadata": {},
     "output_type": "display_data"
    },
    {
     "data": {
      "application/papermill.record+json": {
       "epsilon": 0.01
      }
     },
     "metadata": {},
     "output_type": "display_data"
    },
    {
     "name": "stdout",
     "output_type": "stream",
     "text": [
      "episode: 98/100, score: 846, final_epsilon: 0.01\n"
     ]
    },
    {
     "data": {
      "application/papermill.record+json": {
       "episode": 98
      }
     },
     "metadata": {},
     "output_type": "display_data"
    },
    {
     "data": {
      "application/papermill.record+json": {
       "time_step": 846
      }
     },
     "metadata": {},
     "output_type": "display_data"
    },
    {
     "data": {
      "application/papermill.record+json": {
       "epsilon": 0.01
      }
     },
     "metadata": {},
     "output_type": "display_data"
    },
    {
     "name": "stdout",
     "output_type": "stream",
     "text": [
      "episode: 99/100, score: 1122, final_epsilon: 0.01\n"
     ]
    },
    {
     "data": {
      "application/papermill.record+json": {
       "episode": 99
      }
     },
     "metadata": {},
     "output_type": "display_data"
    },
    {
     "data": {
      "application/papermill.record+json": {
       "time_step": 1122
      }
     },
     "metadata": {},
     "output_type": "display_data"
    },
    {
     "data": {
      "application/papermill.record+json": {
       "epsilon": 0.01
      }
     },
     "metadata": {},
     "output_type": "display_data"
    }
   ],
   "source": [
    "num_steps = 10000\n",
    "num_episodes = 100 #converges around 30-45 with current hyper parameters\n",
    "\n",
    "for episode in range(num_episodes):\n",
    "    state = ski_env_w.reset()\n",
    "    \n",
    "    for time_step in range(num_steps):\n",
    "        action = skiier.act(state)\n",
    "        #print(\"Action:\", action)\n",
    "        next_state, reward, done, info = ski_env_w.step(action)\n",
    "        skiier.observe(state, action, reward, next_state, done)\n",
    "        state = next_state\n",
    "        skiier.episode = episode\n",
    "        if done:\n",
    "            print(\"episode: {}/{}, score: {}, final_epsilon: {}\".format(episode, num_episodes, time_step, skiier.epsilon))\n",
    "            pm.record(\"episode\", episode)\n",
    "            pm.record(\"time_step\", time_step)\n",
    "            pm.record(\"epsilon\", skiier.epsilon)\n",
    "            break\n",
    "            \n",
    "    skiier.replay()"
   ]
  },
  {
   "cell_type": "markdown",
   "metadata": {
    "papermill": {
     "duration": 2.4e-05,
     "end_time": "2018-10-05T13:44:57.762324",
     "exception": false,
     "start_time": "2018-10-05T13:44:57.762300",
     "status": "completed"
    },
    "tags": []
   },
   "source": [
    "# Outputs"
   ]
  },
  {
   "cell_type": "code",
   "execution_count": 6,
   "metadata": {
    "collapsed": true,
    "papermill": {
     "duration": 0.053474,
     "end_time": "2018-10-05T13:44:57.930821",
     "exception": false,
     "start_time": "2018-10-05T13:44:57.877347",
     "status": "completed"
    },
    "tags": []
   },
   "outputs": [],
   "source": [
    "def play_game(num_steps):\n",
    "    state = ski_env_w.reset()\n",
    "    state_list = [state]\n",
    "    reward_list = []\n",
    "    for time_step in range(num_steps):\n",
    "        action = skiier.act(state)\n",
    "        next_state, reward, done, info = ski_env_w.step(action)\n",
    "        skiier.observe(state, action, reward, next_state, done)\n",
    "        state = next_state\n",
    "        state_list.append(state)\n",
    "        reward_list.append(reward)\n",
    "        skiier.episode = episode\n",
    "        if done:\n",
    "            break\n",
    "    return state_list, reward_list"
   ]
  },
  {
   "cell_type": "code",
   "execution_count": 7,
   "metadata": {
    "collapsed": true,
    "papermill": {
     "duration": 0.063798,
     "end_time": "2018-10-05T13:44:58.050358",
     "exception": false,
     "start_time": "2018-10-05T13:44:57.986560",
     "status": "completed"
    },
    "tags": []
   },
   "outputs": [],
   "source": [
    "#states_out, rewards_out = play_game(num_steps = 10000)"
   ]
  },
  {
   "cell_type": "code",
   "execution_count": 8,
   "metadata": {
    "collapsed": true,
    "papermill": {
     "duration": 0.166429,
     "end_time": "2018-10-05T13:44:58.262163",
     "exception": false,
     "start_time": "2018-10-05T13:44:58.095734",
     "status": "completed"
    },
    "scrolled": true,
    "tags": []
   },
   "outputs": [],
   "source": [
    "file_params = \"-\".join([str(LEARNING_RATE), str(GAMMA), str(MEMORY_CAPACITY)]).replace(\".\",\"dot\")\n",
    "file_name = \"models/model_HP_{}_at_{}.hdf5\".format(file_params, time_step)\n",
    "skiier.brain.model.save(file_name)"
   ]
  }
 ],
 "metadata": {
  "celltoolbar": "Tags",
  "kernelspec": {
   "display_name": "Python 3",
   "language": "python",
   "name": "python3"
  },
  "language_info": {
   "codemirror_mode": {
    "name": "ipython",
    "version": 3
   },
   "file_extension": ".py",
   "mimetype": "text/x-python",
   "name": "python",
   "nbconvert_exporter": "python",
   "pygments_lexer": "ipython3",
   "version": "3.5.2"
  },
  "papermill": {
   "duration": 522.37603,
   "end_time": "2018-10-05T13:44:59.701764",
   "environment_variables": {},
   "exception": false,
   "output_path": "HP_TrainSkiier_nbs/01_TrainSkiier_0dot0001-0dot75-25000.ipynb",
   "parameters": {
    "GAMMA": 0.75,
    "LEARNING_RATE": 0.0001,
    "MEMORY_CAPACITY": 25000,
    "experiment": "0dot0001-0dot75-25000"
   },
   "start_time": "2018-10-05T13:36:17.325734",
   "version": "0.15.0"
  }
 },
 "nbformat": 4,
 "nbformat_minor": 2
}