{
 "cells": [
  {
   "cell_type": "code",
   "execution_count": 1,
   "metadata": {
    "papermill": {
     "duration": 1.443239,
     "end_time": "2018-10-05T03:43:02.031916",
     "exception": false,
     "start_time": "2018-10-05T03:43:00.588677",
     "status": "completed"
    },
    "tags": []
   },
   "outputs": [
    {
     "name": "stderr",
     "output_type": "stream",
     "text": [
      "/home/ai2-yoda/.local/lib/python3.5/site-packages/h5py/__init__.py:36: FutureWarning: Conversion of the second argument of issubdtype from `float` to `np.floating` is deprecated. In future, it will be treated as `np.float64 == np.dtype(float).type`.\n",
      "  from ._conv import register_converters as _register_converters\n",
      "Using TensorFlow backend.\n"
     ]
    }
   ],
   "source": [
    "from skiier import *\n",
    "from ski_env import *\n",
    "import matplotlib.pyplot as plt\n",
    "import gym\n",
    "import papermill as pm\n",
    "%matplotlib inline"
   ]
  },
  {
   "cell_type": "code",
   "execution_count": 2,
   "metadata": {
    "collapsed": true,
    "papermill": {
     "duration": 0.017389,
     "end_time": "2018-10-05T03:43:02.050506",
     "exception": false,
     "start_time": "2018-10-05T03:43:02.033117",
     "status": "completed"
    },
    "tags": [
     "parameters"
    ]
   },
   "outputs": [],
   "source": [
    "#Hyper Parameters\n",
    "LEARNING_RATE = 0.001\n",
    "GAMMA = 0.9\n",
    "MEMORY_CAPACITY = 25000"
   ]
  },
  {
   "cell_type": "code",
   "execution_count": 3,
   "metadata": {
    "papermill": {
     "duration": 0.025418,
     "end_time": "2018-10-05T03:43:02.076054",
     "exception": false,
     "start_time": "2018-10-05T03:43:02.050636",
     "status": "completed"
    },
    "tags": [
     "injected-parameters"
    ]
   },
   "outputs": [],
   "source": [
    "# Parameters\n",
    "experiment = \"0dot01-0dot9-25000\"\n",
    "MEMORY_CAPACITY = 25000\n",
    "GAMMA = 0.9\n",
    "LEARNING_RATE = 0.01\n"
   ]
  },
  {
   "cell_type": "code",
   "execution_count": 4,
   "metadata": {
    "papermill": {
     "duration": 0.343521,
     "end_time": "2018-10-05T03:43:02.419657",
     "exception": false,
     "start_time": "2018-10-05T03:43:02.076136",
     "status": "completed"
    },
    "scrolled": true,
    "tags": []
   },
   "outputs": [
    {
     "name": "stderr",
     "output_type": "stream",
     "text": [
      "/home/ai2-yoda/gym/gym/__init__.py:22: UserWarning: DEPRECATION WARNING: to improve load times, gym no longer automatically loads gym.spaces. Please run \"import gym.spaces\" to load gym.spaces on your own. This warning will turn into an error in a future version of gym.\n",
      "  warnings.warn('DEPRECATION WARNING: to improve load times, gym no longer automatically loads gym.spaces. Please run \"import gym.spaces\" to load gym.spaces on your own. This warning will turn into an error in a future version of gym.')\n"
     ]
    }
   ],
   "source": [
    "ski_env = gym.make(\"Skiing-v0\")\n",
    "ski_env_w = Env_wrapper(ski_env)\n",
    "skiier = Skiier(action_space = 3, learning_rate = LEARNING_RATE, LAMBDA = 0.5, \n",
    "                GAMMA = GAMMA, MEMORY_CAPACITY = MEMORY_CAPACITY)"
   ]
  },
  {
   "cell_type": "code",
   "execution_count": 5,
   "metadata": {
    "papermill": {
     "duration": 521.919979,
     "end_time": "2018-10-05T03:51:44.340889",
     "exception": false,
     "start_time": "2018-10-05T03:43:02.420910",
     "status": "completed"
    },
    "tags": []
   },
   "outputs": [
    {
     "name": "stdout",
     "output_type": "stream",
     "text": [
      "episode: 0/100, score: 1570, final_epsilon: 1\n"
     ]
    },
    {
     "data": {
      "application/papermill.record+json": {
       "episode": 0
      }
     },
     "metadata": {},
     "output_type": "display_data"
    },
    {
     "data": {
      "application/papermill.record+json": {
       "time_step": 1570
      }
     },
     "metadata": {},
     "output_type": "display_data"
    },
    {
     "data": {
      "application/papermill.record+json": {
       "epsilon": 1
      }
     },
     "metadata": {},
     "output_type": "display_data"
    },
    {
     "name": "stdout",
     "output_type": "stream",
     "text": [
      "WARNING:tensorflow:Variable *= will be deprecated. Use variable.assign_mul if you want assignment to the variable value or 'x = x * y' if you want a new python Tensor object.\n"
     ]
    },
    {
     "name": "stdout",
     "output_type": "stream",
     "text": [
      "episode: 1/100, score: 1634, final_epsilon: 1.0\n"
     ]
    },
    {
     "data": {
      "application/papermill.record+json": {
       "episode": 1
      }
     },
     "metadata": {},
     "output_type": "display_data"
    },
    {
     "data": {
      "application/papermill.record+json": {
       "time_step": 1634
      }
     },
     "metadata": {},
     "output_type": "display_data"
    },
    {
     "data": {
      "application/papermill.record+json": {
       "epsilon": 1.0
      }
     },
     "metadata": {},
     "output_type": "display_data"
    },
    {
     "name": "stdout",
     "output_type": "stream",
     "text": [
      "episode: 2/100, score: 1906, final_epsilon: 0.6104653531155071\n"
     ]
    },
    {
     "data": {
      "application/papermill.record+json": {
       "episode": 2
      }
     },
     "metadata": {},
     "output_type": "display_data"
    },
    {
     "data": {
      "application/papermill.record+json": {
       "time_step": 1906
      }
     },
     "metadata": {},
     "output_type": "display_data"
    },
    {
     "data": {
      "application/papermill.record+json": {
       "epsilon": 0.6104653531155071
      }
     },
     "metadata": {},
     "output_type": "display_data"
    },
    {
     "name": "stdout",
     "output_type": "stream",
     "text": [
      "episode: 3/100, score: 1853, final_epsilon: 0.3742006467597279\n"
     ]
    },
    {
     "data": {
      "application/papermill.record+json": {
       "episode": 3
      }
     },
     "metadata": {},
     "output_type": "display_data"
    },
    {
     "data": {
      "application/papermill.record+json": {
       "time_step": 1853
      }
     },
     "metadata": {},
     "output_type": "display_data"
    },
    {
     "data": {
      "application/papermill.record+json": {
       "epsilon": 0.3742006467597279
      }
     },
     "metadata": {},
     "output_type": "display_data"
    },
    {
     "name": "stdout",
     "output_type": "stream",
     "text": [
      "episode: 4/100, score: 2071, final_epsilon: 0.23089885854694553\n"
     ]
    },
    {
     "data": {
      "application/papermill.record+json": {
       "episode": 4
      }
     },
     "metadata": {},
     "output_type": "display_data"
    },
    {
     "data": {
      "application/papermill.record+json": {
       "time_step": 2071
      }
     },
     "metadata": {},
     "output_type": "display_data"
    },
    {
     "data": {
      "application/papermill.record+json": {
       "epsilon": 0.23089885854694553
      }
     },
     "metadata": {},
     "output_type": "display_data"
    },
    {
     "name": "stdout",
     "output_type": "stream",
     "text": [
      "episode: 5/100, score: 1474, final_epsilon: 0.1439819304042466\n"
     ]
    },
    {
     "data": {
      "application/papermill.record+json": {
       "episode": 5
      }
     },
     "metadata": {},
     "output_type": "display_data"
    },
    {
     "data": {
      "application/papermill.record+json": {
       "time_step": 1474
      }
     },
     "metadata": {},
     "output_type": "display_data"
    },
    {
     "data": {
      "application/papermill.record+json": {
       "epsilon": 0.1439819304042466
      }
     },
     "metadata": {},
     "output_type": "display_data"
    },
    {
     "name": "stdout",
     "output_type": "stream",
     "text": [
      "episode: 6/100, score: 1091, final_epsilon: 0.0912641486376598\n"
     ]
    },
    {
     "data": {
      "application/papermill.record+json": {
       "episode": 6
      }
     },
     "metadata": {},
     "output_type": "display_data"
    },
    {
     "data": {
      "application/papermill.record+json": {
       "time_step": 1091
      }
     },
     "metadata": {},
     "output_type": "display_data"
    },
    {
     "data": {
      "application/papermill.record+json": {
       "epsilon": 0.0912641486376598
      }
     },
     "metadata": {},
     "output_type": "display_data"
    },
    {
     "name": "stdout",
     "output_type": "stream",
     "text": [
      "episode: 7/100, score: 1042, final_epsilon: 0.05928919768418531\n"
     ]
    },
    {
     "data": {
      "application/papermill.record+json": {
       "episode": 7
      }
     },
     "metadata": {},
     "output_type": "display_data"
    },
    {
     "data": {
      "application/papermill.record+json": {
       "time_step": 1042
      }
     },
     "metadata": {},
     "output_type": "display_data"
    },
    {
     "data": {
      "application/papermill.record+json": {
       "epsilon": 0.05928919768418531
      }
     },
     "metadata": {},
     "output_type": "display_data"
    },
    {
     "name": "stdout",
     "output_type": "stream",
     "text": [
      "episode: 8/100, score: 972, final_epsilon: 0.039895409588095315\n"
     ]
    },
    {
     "data": {
      "application/papermill.record+json": {
       "episode": 8
      }
     },
     "metadata": {},
     "output_type": "display_data"
    },
    {
     "data": {
      "application/papermill.record+json": {
       "time_step": 972
      }
     },
     "metadata": {},
     "output_type": "display_data"
    },
    {
     "data": {
      "application/papermill.record+json": {
       "epsilon": 0.039895409588095315
      }
     },
     "metadata": {},
     "output_type": "display_data"
    },
    {
     "name": "stdout",
     "output_type": "stream",
     "text": [
      "episode: 9/100, score: 1102, final_epsilon: 0.028132482499846838\n"
     ]
    },
    {
     "data": {
      "application/papermill.record+json": {
       "episode": 9
      }
     },
     "metadata": {},
     "output_type": "display_data"
    },
    {
     "data": {
      "application/papermill.record+json": {
       "time_step": 1102
      }
     },
     "metadata": {},
     "output_type": "display_data"
    },
    {
     "data": {
      "application/papermill.record+json": {
       "epsilon": 0.028132482499846838
      }
     },
     "metadata": {},
     "output_type": "display_data"
    },
    {
     "name": "stdout",
     "output_type": "stream",
     "text": [
      "episode: 10/100, score: 789, final_epsilon: 0.02099790657285988\n"
     ]
    },
    {
     "data": {
      "application/papermill.record+json": {
       "episode": 10
      }
     },
     "metadata": {},
     "output_type": "display_data"
    },
    {
     "data": {
      "application/papermill.record+json": {
       "time_step": 789
      }
     },
     "metadata": {},
     "output_type": "display_data"
    },
    {
     "data": {
      "application/papermill.record+json": {
       "epsilon": 0.02099790657285988
      }
     },
     "metadata": {},
     "output_type": "display_data"
    },
    {
     "name": "stdout",
     "output_type": "stream",
     "text": [
      "episode: 11/100, score: 707, final_epsilon: 0.016670567529094613\n"
     ]
    },
    {
     "data": {
      "application/papermill.record+json": {
       "episode": 11
      }
     },
     "metadata": {},
     "output_type": "display_data"
    },
    {
     "data": {
      "application/papermill.record+json": {
       "time_step": 707
      }
     },
     "metadata": {},
     "output_type": "display_data"
    },
    {
     "data": {
      "application/papermill.record+json": {
       "epsilon": 0.016670567529094613
      }
     },
     "metadata": {},
     "output_type": "display_data"
    },
    {
     "name": "stdout",
     "output_type": "stream",
     "text": [
      "episode: 12/100, score: 1017, final_epsilon: 0.014045903724079427\n"
     ]
    },
    {
     "data": {
      "application/papermill.record+json": {
       "episode": 12
      }
     },
     "metadata": {},
     "output_type": "display_data"
    },
    {
     "data": {
      "application/papermill.record+json": {
       "time_step": 1017
      }
     },
     "metadata": {},
     "output_type": "display_data"
    },
    {
     "data": {
      "application/papermill.record+json": {
       "epsilon": 0.014045903724079427
      }
     },
     "metadata": {},
     "output_type": "display_data"
    },
    {
     "name": "stdout",
     "output_type": "stream",
     "text": [
      "episode: 13/100, score: 1319, final_epsilon: 0.012453964654899695\n"
     ]
    },
    {
     "data": {
      "application/papermill.record+json": {
       "episode": 13
      }
     },
     "metadata": {},
     "output_type": "display_data"
    },
    {
     "data": {
      "application/papermill.record+json": {
       "time_step": 1319
      }
     },
     "metadata": {},
     "output_type": "display_data"
    },
    {
     "data": {
      "application/papermill.record+json": {
       "epsilon": 0.012453964654899695
      }
     },
     "metadata": {},
     "output_type": "display_data"
    },
    {
     "name": "stdout",
     "output_type": "stream",
     "text": [
      "episode: 14/100, score: 1040, final_epsilon: 0.011488404801047796\n"
     ]
    },
    {
     "data": {
      "application/papermill.record+json": {
       "episode": 14
      }
     },
     "metadata": {},
     "output_type": "display_data"
    },
    {
     "data": {
      "application/papermill.record+json": {
       "time_step": 1040
      }
     },
     "metadata": {},
     "output_type": "display_data"
    },
    {
     "data": {
      "application/papermill.record+json": {
       "epsilon": 0.011488404801047796
      }
     },
     "metadata": {},
     "output_type": "display_data"
    },
    {
     "name": "stdout",
     "output_type": "stream",
     "text": [
      "episode: 15/100, score: 695, final_epsilon: 0.010902763145898971\n"
     ]
    },
    {
     "data": {
      "application/papermill.record+json": {
       "episode": 15
      }
     },
     "metadata": {},
     "output_type": "display_data"
    },
    {
     "data": {
      "application/papermill.record+json": {
       "time_step": 695
      }
     },
     "metadata": {},
     "output_type": "display_data"
    },
    {
     "data": {
      "application/papermill.record+json": {
       "epsilon": 0.010902763145898971
      }
     },
     "metadata": {},
     "output_type": "display_data"
    },
    {
     "name": "stdout",
     "output_type": "stream",
     "text": [
      "episode: 16/100, score: 802, final_epsilon: 0.010547553526446355\n"
     ]
    },
    {
     "data": {
      "application/papermill.record+json": {
       "episode": 16
      }
     },
     "metadata": {},
     "output_type": "display_data"
    },
    {
     "data": {
      "application/papermill.record+json": {
       "time_step": 802
      }
     },
     "metadata": {},
     "output_type": "display_data"
    },
    {
     "data": {
      "application/papermill.record+json": {
       "epsilon": 0.010547553526446355
      }
     },
     "metadata": {},
     "output_type": "display_data"
    },
    {
     "name": "stdout",
     "output_type": "stream",
     "text": [
      "episode: 17/100, score: 1122, final_epsilon: 0.010332108001623487\n"
     ]
    },
    {
     "data": {
      "application/papermill.record+json": {
       "episode": 17
      }
     },
     "metadata": {},
     "output_type": "display_data"
    },
    {
     "data": {
      "application/papermill.record+json": {
       "time_step": 1122
      }
     },
     "metadata": {},
     "output_type": "display_data"
    },
    {
     "data": {
      "application/papermill.record+json": {
       "epsilon": 0.010332108001623487
      }
     },
     "metadata": {},
     "output_type": "display_data"
    },
    {
     "name": "stdout",
     "output_type": "stream",
     "text": [
      "episode: 18/100, score: 906, final_epsilon: 0.010201433685320538\n"
     ]
    },
    {
     "data": {
      "application/papermill.record+json": {
       "episode": 18
      }
     },
     "metadata": {},
     "output_type": "display_data"
    },
    {
     "data": {
      "application/papermill.record+json": {
       "time_step": 906
      }
     },
     "metadata": {},
     "output_type": "display_data"
    },
    {
     "data": {
      "application/papermill.record+json": {
       "epsilon": 0.010201433685320538
      }
     },
     "metadata": {},
     "output_type": "display_data"
    },
    {
     "name": "stdout",
     "output_type": "stream",
     "text": [
      "episode: 19/100, score: 1498, final_epsilon: 0.010122175706045813\n"
     ]
    },
    {
     "data": {
      "application/papermill.record+json": {
       "episode": 19
      }
     },
     "metadata": {},
     "output_type": "display_data"
    },
    {
     "data": {
      "application/papermill.record+json": {
       "time_step": 1498
      }
     },
     "metadata": {},
     "output_type": "display_data"
    },
    {
     "data": {
      "application/papermill.record+json": {
       "epsilon": 0.010122175706045813
      }
     },
     "metadata": {},
     "output_type": "display_data"
    },
    {
     "name": "stdout",
     "output_type": "stream",
     "text": [
      "episode: 20/100, score: 704, final_epsilon: 0.010074103311588823\n"
     ]
    },
    {
     "data": {
      "application/papermill.record+json": {
       "episode": 20
      }
     },
     "metadata": {},
     "output_type": "display_data"
    },
    {
     "data": {
      "application/papermill.record+json": {
       "time_step": 704
      }
     },
     "metadata": {},
     "output_type": "display_data"
    },
    {
     "data": {
      "application/papermill.record+json": {
       "epsilon": 0.010074103311588823
      }
     },
     "metadata": {},
     "output_type": "display_data"
    },
    {
     "name": "stdout",
     "output_type": "stream",
     "text": [
      "episode: 21/100, score: 832, final_epsilon: 0.010044945930464861\n"
     ]
    },
    {
     "data": {
      "application/papermill.record+json": {
       "episode": 21
      }
     },
     "metadata": {},
     "output_type": "display_data"
    },
    {
     "data": {
      "application/papermill.record+json": {
       "time_step": 832
      }
     },
     "metadata": {},
     "output_type": "display_data"
    },
    {
     "data": {
      "application/papermill.record+json": {
       "epsilon": 0.010044945930464861
      }
     },
     "metadata": {},
     "output_type": "display_data"
    },
    {
     "name": "stdout",
     "output_type": "stream",
     "text": [
      "episode: 22/100, score: 1121, final_epsilon: 0.01002726108485625\n"
     ]
    },
    {
     "data": {
      "application/papermill.record+json": {
       "episode": 22
      }
     },
     "metadata": {},
     "output_type": "display_data"
    },
    {
     "data": {
      "application/papermill.record+json": {
       "time_step": 1121
      }
     },
     "metadata": {},
     "output_type": "display_data"
    },
    {
     "data": {
      "application/papermill.record+json": {
       "epsilon": 0.01002726108485625
      }
     },
     "metadata": {},
     "output_type": "display_data"
    },
    {
     "name": "stdout",
     "output_type": "stream",
     "text": [
      "episode: 23/100, score: 1207, final_epsilon: 0.010016534683782344\n"
     ]
    },
    {
     "data": {
      "application/papermill.record+json": {
       "episode": 23
      }
     },
     "metadata": {},
     "output_type": "display_data"
    },
    {
     "data": {
      "application/papermill.record+json": {
       "time_step": 1207
      }
     },
     "metadata": {},
     "output_type": "display_data"
    },
    {
     "data": {
      "application/papermill.record+json": {
       "epsilon": 0.010016534683782344
      }
     },
     "metadata": {},
     "output_type": "display_data"
    },
    {
     "name": "stdout",
     "output_type": "stream",
     "text": [
      "episode: 24/100, score: 701, final_epsilon: 0.010010028792662645\n"
     ]
    },
    {
     "data": {
      "application/papermill.record+json": {
       "episode": 24
      }
     },
     "metadata": {},
     "output_type": "display_data"
    },
    {
     "data": {
      "application/papermill.record+json": {
       "time_step": 701
      }
     },
     "metadata": {},
     "output_type": "display_data"
    },
    {
     "data": {
      "application/papermill.record+json": {
       "epsilon": 0.010010028792662645
      }
     },
     "metadata": {},
     "output_type": "display_data"
    },
    {
     "name": "stdout",
     "output_type": "stream",
     "text": [
      "episode: 25/100, score: 1190, final_epsilon: 0.010006082770229794\n"
     ]
    },
    {
     "data": {
      "application/papermill.record+json": {
       "episode": 25
      }
     },
     "metadata": {},
     "output_type": "display_data"
    },
    {
     "data": {
      "application/papermill.record+json": {
       "time_step": 1190
      }
     },
     "metadata": {},
     "output_type": "display_data"
    },
    {
     "data": {
      "application/papermill.record+json": {
       "epsilon": 0.010006082770229794
      }
     },
     "metadata": {},
     "output_type": "display_data"
    },
    {
     "name": "stdout",
     "output_type": "stream",
     "text": [
      "episode: 26/100, score: 1078, final_epsilon: 0.010003689386640358\n"
     ]
    },
    {
     "data": {
      "application/papermill.record+json": {
       "episode": 26
      }
     },
     "metadata": {},
     "output_type": "display_data"
    },
    {
     "data": {
      "application/papermill.record+json": {
       "time_step": 1078
      }
     },
     "metadata": {},
     "output_type": "display_data"
    },
    {
     "data": {
      "application/papermill.record+json": {
       "epsilon": 0.010003689386640358
      }
     },
     "metadata": {},
     "output_type": "display_data"
    },
    {
     "name": "stdout",
     "output_type": "stream",
     "text": [
      "episode: 27/100, score: 1051, final_epsilon: 0.010002237726112912\n"
     ]
    },
    {
     "data": {
      "application/papermill.record+json": {
       "episode": 27
      }
     },
     "metadata": {},
     "output_type": "display_data"
    },
    {
     "data": {
      "application/papermill.record+json": {
       "time_step": 1051
      }
     },
     "metadata": {},
     "output_type": "display_data"
    },
    {
     "data": {
      "application/papermill.record+json": {
       "epsilon": 0.010002237726112912
      }
     },
     "metadata": {},
     "output_type": "display_data"
    },
    {
     "name": "stdout",
     "output_type": "stream",
     "text": [
      "episode: 28/100, score: 713, final_epsilon: 0.01000135724949552\n"
     ]
    },
    {
     "data": {
      "application/papermill.record+json": {
       "episode": 28
      }
     },
     "metadata": {},
     "output_type": "display_data"
    },
    {
     "data": {
      "application/papermill.record+json": {
       "time_step": 713
      }
     },
     "metadata": {},
     "output_type": "display_data"
    },
    {
     "data": {
      "application/papermill.record+json": {
       "epsilon": 0.01000135724949552
      }
     },
     "metadata": {},
     "output_type": "display_data"
    },
    {
     "name": "stdout",
     "output_type": "stream",
     "text": [
      "episode: 29/100, score: 1208, final_epsilon: 0.010000823213431913\n"
     ]
    },
    {
     "data": {
      "application/papermill.record+json": {
       "episode": 29
      }
     },
     "metadata": {},
     "output_type": "display_data"
    },
    {
     "data": {
      "application/papermill.record+json": {
       "time_step": 1208
      }
     },
     "metadata": {},
     "output_type": "display_data"
    },
    {
     "data": {
      "application/papermill.record+json": {
       "epsilon": 0.010000823213431913
      }
     },
     "metadata": {},
     "output_type": "display_data"
    },
    {
     "name": "stdout",
     "output_type": "stream",
     "text": [
      "episode: 30/100, score: 1107, final_epsilon: 0.010000499304185942\n"
     ]
    },
    {
     "data": {
      "application/papermill.record+json": {
       "episode": 30
      }
     },
     "metadata": {},
     "output_type": "display_data"
    },
    {
     "data": {
      "application/papermill.record+json": {
       "time_step": 1107
      }
     },
     "metadata": {},
     "output_type": "display_data"
    },
    {
     "data": {
      "application/papermill.record+json": {
       "epsilon": 0.010000499304185942
      }
     },
     "metadata": {},
     "output_type": "display_data"
    },
    {
     "name": "stdout",
     "output_type": "stream",
     "text": [
      "episode: 31/100, score: 939, final_epsilon: 0.010000302843297297\n"
     ]
    },
    {
     "data": {
      "application/papermill.record+json": {
       "episode": 31
      }
     },
     "metadata": {},
     "output_type": "display_data"
    },
    {
     "data": {
      "application/papermill.record+json": {
       "time_step": 939
      }
     },
     "metadata": {},
     "output_type": "display_data"
    },
    {
     "data": {
      "application/papermill.record+json": {
       "epsilon": 0.010000302843297297
      }
     },
     "metadata": {},
     "output_type": "display_data"
    },
    {
     "name": "stdout",
     "output_type": "stream",
     "text": [
      "episode: 32/100, score: 971, final_epsilon: 0.010000183683744899\n"
     ]
    },
    {
     "data": {
      "application/papermill.record+json": {
       "episode": 32
      }
     },
     "metadata": {},
     "output_type": "display_data"
    },
    {
     "data": {
      "application/papermill.record+json": {
       "time_step": 971
      }
     },
     "metadata": {},
     "output_type": "display_data"
    },
    {
     "data": {
      "application/papermill.record+json": {
       "epsilon": 0.010000183683744899
      }
     },
     "metadata": {},
     "output_type": "display_data"
    },
    {
     "name": "stdout",
     "output_type": "stream",
     "text": [
      "episode: 33/100, score: 711, final_epsilon: 0.010000111409822971\n"
     ]
    },
    {
     "data": {
      "application/papermill.record+json": {
       "episode": 33
      }
     },
     "metadata": {},
     "output_type": "display_data"
    },
    {
     "data": {
      "application/papermill.record+json": {
       "time_step": 711
      }
     },
     "metadata": {},
     "output_type": "display_data"
    },
    {
     "data": {
      "application/papermill.record+json": {
       "epsilon": 0.010000111409822971
      }
     },
     "metadata": {},
     "output_type": "display_data"
    },
    {
     "name": "stdout",
     "output_type": "stream",
     "text": [
      "episode: 34/100, score: 811, final_epsilon: 0.010000067573473426\n"
     ]
    },
    {
     "data": {
      "application/papermill.record+json": {
       "episode": 34
      }
     },
     "metadata": {},
     "output_type": "display_data"
    },
    {
     "data": {
      "application/papermill.record+json": {
       "time_step": 811
      }
     },
     "metadata": {},
     "output_type": "display_data"
    },
    {
     "data": {
      "application/papermill.record+json": {
       "epsilon": 0.010000067573473426
      }
     },
     "metadata": {},
     "output_type": "display_data"
    },
    {
     "name": "stdout",
     "output_type": "stream",
     "text": [
      "episode: 35/100, score: 929, final_epsilon: 0.010000040985383415\n"
     ]
    },
    {
     "data": {
      "application/papermill.record+json": {
       "episode": 35
      }
     },
     "metadata": {},
     "output_type": "display_data"
    },
    {
     "data": {
      "application/papermill.record+json": {
       "time_step": 929
      }
     },
     "metadata": {},
     "output_type": "display_data"
    },
    {
     "data": {
      "application/papermill.record+json": {
       "epsilon": 0.010000040985383415
      }
     },
     "metadata": {},
     "output_type": "display_data"
    },
    {
     "name": "stdout",
     "output_type": "stream",
     "text": [
      "episode: 36/100, score: 957, final_epsilon: 0.010000024858891642\n"
     ]
    },
    {
     "data": {
      "application/papermill.record+json": {
       "episode": 36
      }
     },
     "metadata": {},
     "output_type": "display_data"
    },
    {
     "data": {
      "application/papermill.record+json": {
       "time_step": 957
      }
     },
     "metadata": {},
     "output_type": "display_data"
    },
    {
     "data": {
      "application/papermill.record+json": {
       "epsilon": 0.010000024858891642
      }
     },
     "metadata": {},
     "output_type": "display_data"
    },
    {
     "name": "stdout",
     "output_type": "stream",
     "text": [
      "episode: 37/100, score: 1248, final_epsilon: 0.010000015077679947\n"
     ]
    },
    {
     "data": {
      "application/papermill.record+json": {
       "episode": 37
      }
     },
     "metadata": {},
     "output_type": "display_data"
    },
    {
     "data": {
      "application/papermill.record+json": {
       "time_step": 1248
      }
     },
     "metadata": {},
     "output_type": "display_data"
    },
    {
     "data": {
      "application/papermill.record+json": {
       "epsilon": 0.010000015077679947
      }
     },
     "metadata": {},
     "output_type": "display_data"
    },
    {
     "name": "stdout",
     "output_type": "stream",
     "text": [
      "episode: 38/100, score: 989, final_epsilon: 0.010000009145075166\n"
     ]
    },
    {
     "data": {
      "application/papermill.record+json": {
       "episode": 38
      }
     },
     "metadata": {},
     "output_type": "display_data"
    },
    {
     "data": {
      "application/papermill.record+json": {
       "time_step": 989
      }
     },
     "metadata": {},
     "output_type": "display_data"
    },
    {
     "data": {
      "application/papermill.record+json": {
       "epsilon": 0.010000009145075166
      }
     },
     "metadata": {},
     "output_type": "display_data"
    },
    {
     "name": "stdout",
     "output_type": "stream",
     "text": [
      "episode: 39/100, score: 831, final_epsilon: 0.010000005546768474\n"
     ]
    },
    {
     "data": {
      "application/papermill.record+json": {
       "episode": 39
      }
     },
     "metadata": {},
     "output_type": "display_data"
    },
    {
     "data": {
      "application/papermill.record+json": {
       "time_step": 831
      }
     },
     "metadata": {},
     "output_type": "display_data"
    },
    {
     "data": {
      "application/papermill.record+json": {
       "epsilon": 0.010000005546768474
      }
     },
     "metadata": {},
     "output_type": "display_data"
    },
    {
     "name": "stdout",
     "output_type": "stream",
     "text": [
      "episode: 40/100, score: 702, final_epsilon: 0.010000003364285142\n"
     ]
    },
    {
     "data": {
      "application/papermill.record+json": {
       "episode": 40
      }
     },
     "metadata": {},
     "output_type": "display_data"
    },
    {
     "data": {
      "application/papermill.record+json": {
       "time_step": 702
      }
     },
     "metadata": {},
     "output_type": "display_data"
    },
    {
     "data": {
      "application/papermill.record+json": {
       "epsilon": 0.010000003364285142
      }
     },
     "metadata": {},
     "output_type": "display_data"
    },
    {
     "name": "stdout",
     "output_type": "stream",
     "text": [
      "episode: 41/100, score: 701, final_epsilon: 0.010000002040542086\n"
     ]
    },
    {
     "data": {
      "application/papermill.record+json": {
       "episode": 41
      }
     },
     "metadata": {},
     "output_type": "display_data"
    },
    {
     "data": {
      "application/papermill.record+json": {
       "time_step": 701
      }
     },
     "metadata": {},
     "output_type": "display_data"
    },
    {
     "data": {
      "application/papermill.record+json": {
       "epsilon": 0.010000002040542086
      }
     },
     "metadata": {},
     "output_type": "display_data"
    },
    {
     "name": "stdout",
     "output_type": "stream",
     "text": [
      "episode: 42/100, score: 1091, final_epsilon: 0.010000001237651338\n"
     ]
    },
    {
     "data": {
      "application/papermill.record+json": {
       "episode": 42
      }
     },
     "metadata": {},
     "output_type": "display_data"
    },
    {
     "data": {
      "application/papermill.record+json": {
       "time_step": 1091
      }
     },
     "metadata": {},
     "output_type": "display_data"
    },
    {
     "data": {
      "application/papermill.record+json": {
       "epsilon": 0.010000001237651338
      }
     },
     "metadata": {},
     "output_type": "display_data"
    },
    {
     "name": "stdout",
     "output_type": "stream",
     "text": [
      "episode: 43/100, score: 990, final_epsilon: 0.010000000750673482\n"
     ]
    },
    {
     "data": {
      "application/papermill.record+json": {
       "episode": 43
      }
     },
     "metadata": {},
     "output_type": "display_data"
    },
    {
     "data": {
      "application/papermill.record+json": {
       "time_step": 990
      }
     },
     "metadata": {},
     "output_type": "display_data"
    },
    {
     "data": {
      "application/papermill.record+json": {
       "epsilon": 0.010000000750673482
      }
     },
     "metadata": {},
     "output_type": "display_data"
    },
    {
     "name": "stdout",
     "output_type": "stream",
     "text": [
      "episode: 44/100, score: 1242, final_epsilon: 0.010000000455306482\n"
     ]
    },
    {
     "data": {
      "application/papermill.record+json": {
       "episode": 44
      }
     },
     "metadata": {},
     "output_type": "display_data"
    },
    {
     "data": {
      "application/papermill.record+json": {
       "time_step": 1242
      }
     },
     "metadata": {},
     "output_type": "display_data"
    },
    {
     "data": {
      "application/papermill.record+json": {
       "epsilon": 0.010000000455306482
      }
     },
     "metadata": {},
     "output_type": "display_data"
    },
    {
     "name": "stdout",
     "output_type": "stream",
     "text": [
      "episode: 45/100, score: 1036, final_epsilon: 0.010000000276157342\n"
     ]
    },
    {
     "data": {
      "application/papermill.record+json": {
       "episode": 45
      }
     },
     "metadata": {},
     "output_type": "display_data"
    },
    {
     "data": {
      "application/papermill.record+json": {
       "time_step": 1036
      }
     },
     "metadata": {},
     "output_type": "display_data"
    },
    {
     "data": {
      "application/papermill.record+json": {
       "epsilon": 0.010000000276157342
      }
     },
     "metadata": {},
     "output_type": "display_data"
    },
    {
     "name": "stdout",
     "output_type": "stream",
     "text": [
      "episode: 46/100, score: 1209, final_epsilon: 0.010000000167497894\n"
     ]
    },
    {
     "data": {
      "application/papermill.record+json": {
       "episode": 46
      }
     },
     "metadata": {},
     "output_type": "display_data"
    },
    {
     "data": {
      "application/papermill.record+json": {
       "time_step": 1209
      }
     },
     "metadata": {},
     "output_type": "display_data"
    },
    {
     "data": {
      "application/papermill.record+json": {
       "epsilon": 0.010000000167497894
      }
     },
     "metadata": {},
     "output_type": "display_data"
    },
    {
     "name": "stdout",
     "output_type": "stream",
     "text": [
      "episode: 47/100, score: 942, final_epsilon: 0.010000000101592608\n"
     ]
    },
    {
     "data": {
      "application/papermill.record+json": {
       "episode": 47
      }
     },
     "metadata": {},
     "output_type": "display_data"
    },
    {
     "data": {
      "application/papermill.record+json": {
       "time_step": 942
      }
     },
     "metadata": {},
     "output_type": "display_data"
    },
    {
     "data": {
      "application/papermill.record+json": {
       "epsilon": 0.010000000101592608
      }
     },
     "metadata": {},
     "output_type": "display_data"
    },
    {
     "name": "stdout",
     "output_type": "stream",
     "text": [
      "episode: 48/100, score: 1196, final_epsilon: 0.010000000061619031\n"
     ]
    },
    {
     "data": {
      "application/papermill.record+json": {
       "episode": 48
      }
     },
     "metadata": {},
     "output_type": "display_data"
    },
    {
     "data": {
      "application/papermill.record+json": {
       "time_step": 1196
      }
     },
     "metadata": {},
     "output_type": "display_data"
    },
    {
     "data": {
      "application/papermill.record+json": {
       "epsilon": 0.010000000061619031
      }
     },
     "metadata": {},
     "output_type": "display_data"
    },
    {
     "name": "stdout",
     "output_type": "stream",
     "text": [
      "episode: 49/100, score: 1185, final_epsilon: 0.010000000037373832\n"
     ]
    },
    {
     "data": {
      "application/papermill.record+json": {
       "episode": 49
      }
     },
     "metadata": {},
     "output_type": "display_data"
    },
    {
     "data": {
      "application/papermill.record+json": {
       "time_step": 1185
      }
     },
     "metadata": {},
     "output_type": "display_data"
    },
    {
     "data": {
      "application/papermill.record+json": {
       "epsilon": 0.010000000037373832
      }
     },
     "metadata": {},
     "output_type": "display_data"
    },
    {
     "name": "stdout",
     "output_type": "stream",
     "text": [
      "episode: 50/100, score: 1178, final_epsilon: 0.010000000022668374\n"
     ]
    },
    {
     "data": {
      "application/papermill.record+json": {
       "episode": 50
      }
     },
     "metadata": {},
     "output_type": "display_data"
    },
    {
     "data": {
      "application/papermill.record+json": {
       "time_step": 1178
      }
     },
     "metadata": {},
     "output_type": "display_data"
    },
    {
     "data": {
      "application/papermill.record+json": {
       "epsilon": 0.010000000022668374
      }
     },
     "metadata": {},
     "output_type": "display_data"
    },
    {
     "name": "stdout",
     "output_type": "stream",
     "text": [
      "episode: 51/100, score: 710, final_epsilon: 0.010000000013749065\n"
     ]
    },
    {
     "data": {
      "application/papermill.record+json": {
       "episode": 51
      }
     },
     "metadata": {},
     "output_type": "display_data"
    },
    {
     "data": {
      "application/papermill.record+json": {
       "time_step": 710
      }
     },
     "metadata": {},
     "output_type": "display_data"
    },
    {
     "data": {
      "application/papermill.record+json": {
       "epsilon": 0.010000000013749065
      }
     },
     "metadata": {},
     "output_type": "display_data"
    },
    {
     "name": "stdout",
     "output_type": "stream",
     "text": [
      "episode: 52/100, score: 699, final_epsilon: 0.010000000008339229\n"
     ]
    },
    {
     "data": {
      "application/papermill.record+json": {
       "episode": 52
      }
     },
     "metadata": {},
     "output_type": "display_data"
    },
    {
     "data": {
      "application/papermill.record+json": {
       "time_step": 699
      }
     },
     "metadata": {},
     "output_type": "display_data"
    },
    {
     "data": {
      "application/papermill.record+json": {
       "epsilon": 0.010000000008339229
      }
     },
     "metadata": {},
     "output_type": "display_data"
    },
    {
     "name": "stdout",
     "output_type": "stream",
     "text": [
      "episode: 53/100, score: 842, final_epsilon: 0.010000000005057998\n"
     ]
    },
    {
     "data": {
      "application/papermill.record+json": {
       "episode": 53
      }
     },
     "metadata": {},
     "output_type": "display_data"
    },
    {
     "data": {
      "application/papermill.record+json": {
       "time_step": 842
      }
     },
     "metadata": {},
     "output_type": "display_data"
    },
    {
     "data": {
      "application/papermill.record+json": {
       "epsilon": 0.010000000005057998
      }
     },
     "metadata": {},
     "output_type": "display_data"
    },
    {
     "name": "stdout",
     "output_type": "stream",
     "text": [
      "episode: 54/100, score: 711, final_epsilon: 0.010000000003067831\n"
     ]
    },
    {
     "data": {
      "application/papermill.record+json": {
       "episode": 54
      }
     },
     "metadata": {},
     "output_type": "display_data"
    },
    {
     "data": {
      "application/papermill.record+json": {
       "time_step": 711
      }
     },
     "metadata": {},
     "output_type": "display_data"
    },
    {
     "data": {
      "application/papermill.record+json": {
       "epsilon": 0.010000000003067831
      }
     },
     "metadata": {},
     "output_type": "display_data"
    },
    {
     "name": "stdout",
     "output_type": "stream",
     "text": [
      "episode: 55/100, score: 836, final_epsilon: 0.010000000001860734\n"
     ]
    },
    {
     "data": {
      "application/papermill.record+json": {
       "episode": 55
      }
     },
     "metadata": {},
     "output_type": "display_data"
    },
    {
     "data": {
      "application/papermill.record+json": {
       "time_step": 836
      }
     },
     "metadata": {},
     "output_type": "display_data"
    },
    {
     "data": {
      "application/papermill.record+json": {
       "epsilon": 0.010000000001860734
      }
     },
     "metadata": {},
     "output_type": "display_data"
    },
    {
     "name": "stdout",
     "output_type": "stream",
     "text": [
      "episode: 56/100, score: 832, final_epsilon: 0.010000000001128592\n"
     ]
    },
    {
     "data": {
      "application/papermill.record+json": {
       "episode": 56
      }
     },
     "metadata": {},
     "output_type": "display_data"
    },
    {
     "data": {
      "application/papermill.record+json": {
       "time_step": 832
      }
     },
     "metadata": {},
     "output_type": "display_data"
    },
    {
     "data": {
      "application/papermill.record+json": {
       "epsilon": 0.010000000001128592
      }
     },
     "metadata": {},
     "output_type": "display_data"
    },
    {
     "name": "stdout",
     "output_type": "stream",
     "text": [
      "episode: 57/100, score: 693, final_epsilon: 0.010000000000684526\n"
     ]
    },
    {
     "data": {
      "application/papermill.record+json": {
       "episode": 57
      }
     },
     "metadata": {},
     "output_type": "display_data"
    },
    {
     "data": {
      "application/papermill.record+json": {
       "time_step": 693
      }
     },
     "metadata": {},
     "output_type": "display_data"
    },
    {
     "data": {
      "application/papermill.record+json": {
       "epsilon": 0.010000000000684526
      }
     },
     "metadata": {},
     "output_type": "display_data"
    },
    {
     "name": "stdout",
     "output_type": "stream",
     "text": [
      "episode: 58/100, score: 804, final_epsilon: 0.010000000000415185\n"
     ]
    },
    {
     "data": {
      "application/papermill.record+json": {
       "episode": 58
      }
     },
     "metadata": {},
     "output_type": "display_data"
    },
    {
     "data": {
      "application/papermill.record+json": {
       "time_step": 804
      }
     },
     "metadata": {},
     "output_type": "display_data"
    },
    {
     "data": {
      "application/papermill.record+json": {
       "epsilon": 0.010000000000415185
      }
     },
     "metadata": {},
     "output_type": "display_data"
    },
    {
     "name": "stdout",
     "output_type": "stream",
     "text": [
      "episode: 59/100, score: 925, final_epsilon: 0.010000000000251823\n"
     ]
    },
    {
     "data": {
      "application/papermill.record+json": {
       "episode": 59
      }
     },
     "metadata": {},
     "output_type": "display_data"
    },
    {
     "data": {
      "application/papermill.record+json": {
       "time_step": 925
      }
     },
     "metadata": {},
     "output_type": "display_data"
    },
    {
     "data": {
      "application/papermill.record+json": {
       "epsilon": 0.010000000000251823
      }
     },
     "metadata": {},
     "output_type": "display_data"
    },
    {
     "name": "stdout",
     "output_type": "stream",
     "text": [
      "episode: 60/100, score: 817, final_epsilon: 0.01000000000015274\n"
     ]
    },
    {
     "data": {
      "application/papermill.record+json": {
       "episode": 60
      }
     },
     "metadata": {},
     "output_type": "display_data"
    },
    {
     "data": {
      "application/papermill.record+json": {
       "time_step": 817
      }
     },
     "metadata": {},
     "output_type": "display_data"
    },
    {
     "data": {
      "application/papermill.record+json": {
       "epsilon": 0.01000000000015274
      }
     },
     "metadata": {},
     "output_type": "display_data"
    },
    {
     "name": "stdout",
     "output_type": "stream",
     "text": [
      "episode: 61/100, score: 1171, final_epsilon: 0.010000000000092641\n"
     ]
    },
    {
     "data": {
      "application/papermill.record+json": {
       "episode": 61
      }
     },
     "metadata": {},
     "output_type": "display_data"
    },
    {
     "data": {
      "application/papermill.record+json": {
       "time_step": 1171
      }
     },
     "metadata": {},
     "output_type": "display_data"
    },
    {
     "data": {
      "application/papermill.record+json": {
       "epsilon": 0.010000000000092641
      }
     },
     "metadata": {},
     "output_type": "display_data"
    },
    {
     "name": "stdout",
     "output_type": "stream",
     "text": [
      "episode: 62/100, score: 735, final_epsilon: 0.01000000000005619\n"
     ]
    },
    {
     "data": {
      "application/papermill.record+json": {
       "episode": 62
      }
     },
     "metadata": {},
     "output_type": "display_data"
    },
    {
     "data": {
      "application/papermill.record+json": {
       "time_step": 735
      }
     },
     "metadata": {},
     "output_type": "display_data"
    },
    {
     "data": {
      "application/papermill.record+json": {
       "epsilon": 0.01000000000005619
      }
     },
     "metadata": {},
     "output_type": "display_data"
    },
    {
     "name": "stdout",
     "output_type": "stream",
     "text": [
      "episode: 63/100, score: 1239, final_epsilon: 0.01000000000003408\n"
     ]
    },
    {
     "data": {
      "application/papermill.record+json": {
       "episode": 63
      }
     },
     "metadata": {},
     "output_type": "display_data"
    },
    {
     "data": {
      "application/papermill.record+json": {
       "time_step": 1239
      }
     },
     "metadata": {},
     "output_type": "display_data"
    },
    {
     "data": {
      "application/papermill.record+json": {
       "epsilon": 0.01000000000003408
      }
     },
     "metadata": {},
     "output_type": "display_data"
    },
    {
     "name": "stdout",
     "output_type": "stream",
     "text": [
      "episode: 64/100, score: 975, final_epsilon: 0.010000000000020671\n"
     ]
    },
    {
     "data": {
      "application/papermill.record+json": {
       "episode": 64
      }
     },
     "metadata": {},
     "output_type": "display_data"
    },
    {
     "data": {
      "application/papermill.record+json": {
       "time_step": 975
      }
     },
     "metadata": {},
     "output_type": "display_data"
    },
    {
     "data": {
      "application/papermill.record+json": {
       "epsilon": 0.010000000000020671
      }
     },
     "metadata": {},
     "output_type": "display_data"
    },
    {
     "name": "stdout",
     "output_type": "stream",
     "text": [
      "episode: 65/100, score: 978, final_epsilon: 0.010000000000012537\n"
     ]
    },
    {
     "data": {
      "application/papermill.record+json": {
       "episode": 65
      }
     },
     "metadata": {},
     "output_type": "display_data"
    },
    {
     "data": {
      "application/papermill.record+json": {
       "time_step": 978
      }
     },
     "metadata": {},
     "output_type": "display_data"
    },
    {
     "data": {
      "application/papermill.record+json": {
       "epsilon": 0.010000000000012537
      }
     },
     "metadata": {},
     "output_type": "display_data"
    },
    {
     "name": "stdout",
     "output_type": "stream",
     "text": [
      "episode: 66/100, score: 1348, final_epsilon: 0.010000000000007605\n"
     ]
    },
    {
     "data": {
      "application/papermill.record+json": {
       "episode": 66
      }
     },
     "metadata": {},
     "output_type": "display_data"
    },
    {
     "data": {
      "application/papermill.record+json": {
       "time_step": 1348
      }
     },
     "metadata": {},
     "output_type": "display_data"
    },
    {
     "data": {
      "application/papermill.record+json": {
       "epsilon": 0.010000000000007605
      }
     },
     "metadata": {},
     "output_type": "display_data"
    },
    {
     "name": "stdout",
     "output_type": "stream",
     "text": [
      "episode: 67/100, score: 971, final_epsilon: 0.010000000000004613\n"
     ]
    },
    {
     "data": {
      "application/papermill.record+json": {
       "episode": 67
      }
     },
     "metadata": {},
     "output_type": "display_data"
    },
    {
     "data": {
      "application/papermill.record+json": {
       "time_step": 971
      }
     },
     "metadata": {},
     "output_type": "display_data"
    },
    {
     "data": {
      "application/papermill.record+json": {
       "epsilon": 0.010000000000004613
      }
     },
     "metadata": {},
     "output_type": "display_data"
    },
    {
     "name": "stdout",
     "output_type": "stream",
     "text": [
      "episode: 68/100, score: 724, final_epsilon: 0.010000000000002798\n"
     ]
    },
    {
     "data": {
      "application/papermill.record+json": {
       "episode": 68
      }
     },
     "metadata": {},
     "output_type": "display_data"
    },
    {
     "data": {
      "application/papermill.record+json": {
       "time_step": 724
      }
     },
     "metadata": {},
     "output_type": "display_data"
    },
    {
     "data": {
      "application/papermill.record+json": {
       "epsilon": 0.010000000000002798
      }
     },
     "metadata": {},
     "output_type": "display_data"
    },
    {
     "name": "stdout",
     "output_type": "stream",
     "text": [
      "episode: 69/100, score: 1169, final_epsilon: 0.010000000000001697\n"
     ]
    },
    {
     "data": {
      "application/papermill.record+json": {
       "episode": 69
      }
     },
     "metadata": {},
     "output_type": "display_data"
    },
    {
     "data": {
      "application/papermill.record+json": {
       "time_step": 1169
      }
     },
     "metadata": {},
     "output_type": "display_data"
    },
    {
     "data": {
      "application/papermill.record+json": {
       "epsilon": 0.010000000000001697
      }
     },
     "metadata": {},
     "output_type": "display_data"
    },
    {
     "name": "stdout",
     "output_type": "stream",
     "text": [
      "episode: 70/100, score: 784, final_epsilon: 0.010000000000001029\n"
     ]
    },
    {
     "data": {
      "application/papermill.record+json": {
       "episode": 70
      }
     },
     "metadata": {},
     "output_type": "display_data"
    },
    {
     "data": {
      "application/papermill.record+json": {
       "time_step": 784
      }
     },
     "metadata": {},
     "output_type": "display_data"
    },
    {
     "data": {
      "application/papermill.record+json": {
       "epsilon": 0.010000000000001029
      }
     },
     "metadata": {},
     "output_type": "display_data"
    },
    {
     "name": "stdout",
     "output_type": "stream",
     "text": [
      "episode: 71/100, score: 996, final_epsilon: 0.010000000000000625\n"
     ]
    },
    {
     "data": {
      "application/papermill.record+json": {
       "episode": 71
      }
     },
     "metadata": {},
     "output_type": "display_data"
    },
    {
     "data": {
      "application/papermill.record+json": {
       "time_step": 996
      }
     },
     "metadata": {},
     "output_type": "display_data"
    },
    {
     "data": {
      "application/papermill.record+json": {
       "epsilon": 0.010000000000000625
      }
     },
     "metadata": {},
     "output_type": "display_data"
    },
    {
     "name": "stdout",
     "output_type": "stream",
     "text": [
      "episode: 72/100, score: 837, final_epsilon: 0.010000000000000378\n"
     ]
    },
    {
     "data": {
      "application/papermill.record+json": {
       "episode": 72
      }
     },
     "metadata": {},
     "output_type": "display_data"
    },
    {
     "data": {
      "application/papermill.record+json": {
       "time_step": 837
      }
     },
     "metadata": {},
     "output_type": "display_data"
    },
    {
     "data": {
      "application/papermill.record+json": {
       "epsilon": 0.010000000000000378
      }
     },
     "metadata": {},
     "output_type": "display_data"
    },
    {
     "name": "stdout",
     "output_type": "stream",
     "text": [
      "episode: 73/100, score: 713, final_epsilon: 0.01000000000000023\n"
     ]
    },
    {
     "data": {
      "application/papermill.record+json": {
       "episode": 73
      }
     },
     "metadata": {},
     "output_type": "display_data"
    },
    {
     "data": {
      "application/papermill.record+json": {
       "time_step": 713
      }
     },
     "metadata": {},
     "output_type": "display_data"
    },
    {
     "data": {
      "application/papermill.record+json": {
       "epsilon": 0.01000000000000023
      }
     },
     "metadata": {},
     "output_type": "display_data"
    },
    {
     "name": "stdout",
     "output_type": "stream",
     "text": [
      "episode: 74/100, score: 790, final_epsilon: 0.010000000000000139\n"
     ]
    },
    {
     "data": {
      "application/papermill.record+json": {
       "episode": 74
      }
     },
     "metadata": {},
     "output_type": "display_data"
    },
    {
     "data": {
      "application/papermill.record+json": {
       "time_step": 790
      }
     },
     "metadata": {},
     "output_type": "display_data"
    },
    {
     "data": {
      "application/papermill.record+json": {
       "epsilon": 0.010000000000000139
      }
     },
     "metadata": {},
     "output_type": "display_data"
    },
    {
     "name": "stdout",
     "output_type": "stream",
     "text": [
      "episode: 75/100, score: 1109, final_epsilon: 0.010000000000000085\n"
     ]
    },
    {
     "data": {
      "application/papermill.record+json": {
       "episode": 75
      }
     },
     "metadata": {},
     "output_type": "display_data"
    },
    {
     "data": {
      "application/papermill.record+json": {
       "time_step": 1109
      }
     },
     "metadata": {},
     "output_type": "display_data"
    },
    {
     "data": {
      "application/papermill.record+json": {
       "epsilon": 0.010000000000000085
      }
     },
     "metadata": {},
     "output_type": "display_data"
    },
    {
     "name": "stdout",
     "output_type": "stream",
     "text": [
      "episode: 76/100, score: 787, final_epsilon: 0.010000000000000052\n"
     ]
    },
    {
     "data": {
      "application/papermill.record+json": {
       "episode": 76
      }
     },
     "metadata": {},
     "output_type": "display_data"
    },
    {
     "data": {
      "application/papermill.record+json": {
       "time_step": 787
      }
     },
     "metadata": {},
     "output_type": "display_data"
    },
    {
     "data": {
      "application/papermill.record+json": {
       "epsilon": 0.010000000000000052
      }
     },
     "metadata": {},
     "output_type": "display_data"
    },
    {
     "name": "stdout",
     "output_type": "stream",
     "text": [
      "episode: 77/100, score: 1196, final_epsilon: 0.010000000000000031\n"
     ]
    },
    {
     "data": {
      "application/papermill.record+json": {
       "episode": 77
      }
     },
     "metadata": {},
     "output_type": "display_data"
    },
    {
     "data": {
      "application/papermill.record+json": {
       "time_step": 1196
      }
     },
     "metadata": {},
     "output_type": "display_data"
    },
    {
     "data": {
      "application/papermill.record+json": {
       "epsilon": 0.010000000000000031
      }
     },
     "metadata": {},
     "output_type": "display_data"
    },
    {
     "name": "stdout",
     "output_type": "stream",
     "text": [
      "episode: 78/100, score: 1060, final_epsilon: 0.01000000000000002\n"
     ]
    },
    {
     "data": {
      "application/papermill.record+json": {
       "episode": 78
      }
     },
     "metadata": {},
     "output_type": "display_data"
    },
    {
     "data": {
      "application/papermill.record+json": {
       "time_step": 1060
      }
     },
     "metadata": {},
     "output_type": "display_data"
    },
    {
     "data": {
      "application/papermill.record+json": {
       "epsilon": 0.01000000000000002
      }
     },
     "metadata": {},
     "output_type": "display_data"
    },
    {
     "name": "stdout",
     "output_type": "stream",
     "text": [
      "episode: 79/100, score: 1045, final_epsilon: 0.010000000000000012\n"
     ]
    },
    {
     "data": {
      "application/papermill.record+json": {
       "episode": 79
      }
     },
     "metadata": {},
     "output_type": "display_data"
    },
    {
     "data": {
      "application/papermill.record+json": {
       "time_step": 1045
      }
     },
     "metadata": {},
     "output_type": "display_data"
    },
    {
     "data": {
      "application/papermill.record+json": {
       "epsilon": 0.010000000000000012
      }
     },
     "metadata": {},
     "output_type": "display_data"
    },
    {
     "name": "stdout",
     "output_type": "stream",
     "text": [
      "episode: 80/100, score: 1301, final_epsilon: 0.010000000000000007\n"
     ]
    },
    {
     "data": {
      "application/papermill.record+json": {
       "episode": 80
      }
     },
     "metadata": {},
     "output_type": "display_data"
    },
    {
     "data": {
      "application/papermill.record+json": {
       "time_step": 1301
      }
     },
     "metadata": {},
     "output_type": "display_data"
    },
    {
     "data": {
      "application/papermill.record+json": {
       "epsilon": 0.010000000000000007
      }
     },
     "metadata": {},
     "output_type": "display_data"
    },
    {
     "name": "stdout",
     "output_type": "stream",
     "text": [
      "episode: 81/100, score: 1088, final_epsilon: 0.010000000000000004\n"
     ]
    },
    {
     "data": {
      "application/papermill.record+json": {
       "episode": 81
      }
     },
     "metadata": {},
     "output_type": "display_data"
    },
    {
     "data": {
      "application/papermill.record+json": {
       "time_step": 1088
      }
     },
     "metadata": {},
     "output_type": "display_data"
    },
    {
     "data": {
      "application/papermill.record+json": {
       "epsilon": 0.010000000000000004
      }
     },
     "metadata": {},
     "output_type": "display_data"
    },
    {
     "name": "stdout",
     "output_type": "stream",
     "text": [
      "episode: 82/100, score: 1305, final_epsilon: 0.010000000000000002\n"
     ]
    },
    {
     "data": {
      "application/papermill.record+json": {
       "episode": 82
      }
     },
     "metadata": {},
     "output_type": "display_data"
    },
    {
     "data": {
      "application/papermill.record+json": {
       "time_step": 1305
      }
     },
     "metadata": {},
     "output_type": "display_data"
    },
    {
     "data": {
      "application/papermill.record+json": {
       "epsilon": 0.010000000000000002
      }
     },
     "metadata": {},
     "output_type": "display_data"
    },
    {
     "name": "stdout",
     "output_type": "stream",
     "text": [
      "episode: 83/100, score: 950, final_epsilon: 0.010000000000000002\n"
     ]
    },
    {
     "data": {
      "application/papermill.record+json": {
       "episode": 83
      }
     },
     "metadata": {},
     "output_type": "display_data"
    },
    {
     "data": {
      "application/papermill.record+json": {
       "time_step": 950
      }
     },
     "metadata": {},
     "output_type": "display_data"
    },
    {
     "data": {
      "application/papermill.record+json": {
       "epsilon": 0.010000000000000002
      }
     },
     "metadata": {},
     "output_type": "display_data"
    },
    {
     "name": "stdout",
     "output_type": "stream",
     "text": [
      "episode: 84/100, score: 761, final_epsilon: 0.010000000000000002\n"
     ]
    },
    {
     "data": {
      "application/papermill.record+json": {
       "episode": 84
      }
     },
     "metadata": {},
     "output_type": "display_data"
    },
    {
     "data": {
      "application/papermill.record+json": {
       "time_step": 761
      }
     },
     "metadata": {},
     "output_type": "display_data"
    },
    {
     "data": {
      "application/papermill.record+json": {
       "epsilon": 0.010000000000000002
      }
     },
     "metadata": {},
     "output_type": "display_data"
    },
    {
     "name": "stdout",
     "output_type": "stream",
     "text": [
      "episode: 85/100, score: 969, final_epsilon: 0.01\n"
     ]
    },
    {
     "data": {
      "application/papermill.record+json": {
       "episode": 85
      }
     },
     "metadata": {},
     "output_type": "display_data"
    },
    {
     "data": {
      "application/papermill.record+json": {
       "time_step": 969
      }
     },
     "metadata": {},
     "output_type": "display_data"
    },
    {
     "data": {
      "application/papermill.record+json": {
       "epsilon": 0.01
      }
     },
     "metadata": {},
     "output_type": "display_data"
    },
    {
     "name": "stdout",
     "output_type": "stream",
     "text": [
      "episode: 86/100, score: 770, final_epsilon: 0.01\n"
     ]
    },
    {
     "data": {
      "application/papermill.record+json": {
       "episode": 86
      }
     },
     "metadata": {},
     "output_type": "display_data"
    },
    {
     "data": {
      "application/papermill.record+json": {
       "time_step": 770
      }
     },
     "metadata": {},
     "output_type": "display_data"
    },
    {
     "data": {
      "application/papermill.record+json": {
       "epsilon": 0.01
      }
     },
     "metadata": {},
     "output_type": "display_data"
    },
    {
     "name": "stdout",
     "output_type": "stream",
     "text": [
      "episode: 87/100, score: 918, final_epsilon: 0.01\n"
     ]
    },
    {
     "data": {
      "application/papermill.record+json": {
       "episode": 87
      }
     },
     "metadata": {},
     "output_type": "display_data"
    },
    {
     "data": {
      "application/papermill.record+json": {
       "time_step": 918
      }
     },
     "metadata": {},
     "output_type": "display_data"
    },
    {
     "data": {
      "application/papermill.record+json": {
       "epsilon": 0.01
      }
     },
     "metadata": {},
     "output_type": "display_data"
    },
    {
     "name": "stdout",
     "output_type": "stream",
     "text": [
      "episode: 88/100, score: 1181, final_epsilon: 0.01\n"
     ]
    },
    {
     "data": {
      "application/papermill.record+json": {
       "episode": 88
      }
     },
     "metadata": {},
     "output_type": "display_data"
    },
    {
     "data": {
      "application/papermill.record+json": {
       "time_step": 1181
      }
     },
     "metadata": {},
     "output_type": "display_data"
    },
    {
     "data": {
      "application/papermill.record+json": {
       "epsilon": 0.01
      }
     },
     "metadata": {},
     "output_type": "display_data"
    },
    {
     "name": "stdout",
     "output_type": "stream",
     "text": [
      "episode: 89/100, score: 925, final_epsilon: 0.01\n"
     ]
    },
    {
     "data": {
      "application/papermill.record+json": {
       "episode": 89
      }
     },
     "metadata": {},
     "output_type": "display_data"
    },
    {
     "data": {
      "application/papermill.record+json": {
       "time_step": 925
      }
     },
     "metadata": {},
     "output_type": "display_data"
    },
    {
     "data": {
      "application/papermill.record+json": {
       "epsilon": 0.01
      }
     },
     "metadata": {},
     "output_type": "display_data"
    },
    {
     "name": "stdout",
     "output_type": "stream",
     "text": [
      "episode: 90/100, score: 1184, final_epsilon: 0.01\n"
     ]
    },
    {
     "data": {
      "application/papermill.record+json": {
       "episode": 90
      }
     },
     "metadata": {},
     "output_type": "display_data"
    },
    {
     "data": {
      "application/papermill.record+json": {
       "time_step": 1184
      }
     },
     "metadata": {},
     "output_type": "display_data"
    },
    {
     "data": {
      "application/papermill.record+json": {
       "epsilon": 0.01
      }
     },
     "metadata": {},
     "output_type": "display_data"
    },
    {
     "name": "stdout",
     "output_type": "stream",
     "text": [
      "episode: 91/100, score: 701, final_epsilon: 0.01\n"
     ]
    },
    {
     "data": {
      "application/papermill.record+json": {
       "episode": 91
      }
     },
     "metadata": {},
     "output_type": "display_data"
    },
    {
     "data": {
      "application/papermill.record+json": {
       "time_step": 701
      }
     },
     "metadata": {},
     "output_type": "display_data"
    },
    {
     "data": {
      "application/papermill.record+json": {
       "epsilon": 0.01
      }
     },
     "metadata": {},
     "output_type": "display_data"
    },
    {
     "name": "stdout",
     "output_type": "stream",
     "text": [
      "episode: 92/100, score: 1110, final_epsilon: 0.01\n"
     ]
    },
    {
     "data": {
      "application/papermill.record+json": {
       "episode": 92
      }
     },
     "metadata": {},
     "output_type": "display_data"
    },
    {
     "data": {
      "application/papermill.record+json": {
       "time_step": 1110
      }
     },
     "metadata": {},
     "output_type": "display_data"
    },
    {
     "data": {
      "application/papermill.record+json": {
       "epsilon": 0.01
      }
     },
     "metadata": {},
     "output_type": "display_data"
    },
    {
     "name": "stdout",
     "output_type": "stream",
     "text": [
      "episode: 93/100, score: 919, final_epsilon: 0.01\n"
     ]
    },
    {
     "data": {
      "application/papermill.record+json": {
       "episode": 93
      }
     },
     "metadata": {},
     "output_type": "display_data"
    },
    {
     "data": {
      "application/papermill.record+json": {
       "time_step": 919
      }
     },
     "metadata": {},
     "output_type": "display_data"
    },
    {
     "data": {
      "application/papermill.record+json": {
       "epsilon": 0.01
      }
     },
     "metadata": {},
     "output_type": "display_data"
    },
    {
     "name": "stdout",
     "output_type": "stream",
     "text": [
      "episode: 94/100, score: 1105, final_epsilon: 0.01\n"
     ]
    },
    {
     "data": {
      "application/papermill.record+json": {
       "episode": 94
      }
     },
     "metadata": {},
     "output_type": "display_data"
    },
    {
     "data": {
      "application/papermill.record+json": {
       "time_step": 1105
      }
     },
     "metadata": {},
     "output_type": "display_data"
    },
    {
     "data": {
      "application/papermill.record+json": {
       "epsilon": 0.01
      }
     },
     "metadata": {},
     "output_type": "display_data"
    },
    {
     "name": "stdout",
     "output_type": "stream",
     "text": [
      "episode: 95/100, score: 844, final_epsilon: 0.01\n"
     ]
    },
    {
     "data": {
      "application/papermill.record+json": {
       "episode": 95
      }
     },
     "metadata": {},
     "output_type": "display_data"
    },
    {
     "data": {
      "application/papermill.record+json": {
       "time_step": 844
      }
     },
     "metadata": {},
     "output_type": "display_data"
    },
    {
     "data": {
      "application/papermill.record+json": {
       "epsilon": 0.01
      }
     },
     "metadata": {},
     "output_type": "display_data"
    },
    {
     "name": "stdout",
     "output_type": "stream",
     "text": [
      "episode: 96/100, score: 697, final_epsilon: 0.01\n"
     ]
    },
    {
     "data": {
      "application/papermill.record+json": {
       "episode": 96
      }
     },
     "metadata": {},
     "output_type": "display_data"
    },
    {
     "data": {
      "application/papermill.record+json": {
       "time_step": 697
      }
     },
     "metadata": {},
     "output_type": "display_data"
    },
    {
     "data": {
      "application/papermill.record+json": {
       "epsilon": 0.01
      }
     },
     "metadata": {},
     "output_type": "display_data"
    },
    {
     "name": "stdout",
     "output_type": "stream",
     "text": [
      "episode: 97/100, score: 773, final_epsilon: 0.01\n"
     ]
    },
    {
     "data": {
      "application/papermill.record+json": {
       "episode": 97
      }
     },
     "metadata": {},
     "output_type": "display_data"
    },
    {
     "data": {
      "application/papermill.record+json": {
       "time_step": 773
      }
     },
     "metadata": {},
     "output_type": "display_data"
    },
    {
     "data": {
      "application/papermill.record+json": {
       "epsilon": 0.01
      }
     },
     "metadata": {},
     "output_type": "display_data"
    },
    {
     "name": "stdout",
     "output_type": "stream",
     "text": [
      "episode: 98/100, score: 717, final_epsilon: 0.01\n"
     ]
    },
    {
     "data": {
      "application/papermill.record+json": {
       "episode": 98
      }
     },
     "metadata": {},
     "output_type": "display_data"
    },
    {
     "data": {
      "application/papermill.record+json": {
       "time_step": 717
      }
     },
     "metadata": {},
     "output_type": "display_data"
    },
    {
     "data": {
      "application/papermill.record+json": {
       "epsilon": 0.01
      }
     },
     "metadata": {},
     "output_type": "display_data"
    },
    {
     "name": "stdout",
     "output_type": "stream",
     "text": [
      "episode: 99/100, score: 1167, final_epsilon: 0.01\n"
     ]
    },
    {
     "data": {
      "application/papermill.record+json": {
       "episode": 99
      }
     },
     "metadata": {},
     "output_type": "display_data"
    },
    {
     "data": {
      "application/papermill.record+json": {
       "time_step": 1167
      }
     },
     "metadata": {},
     "output_type": "display_data"
    },
    {
     "data": {
      "application/papermill.record+json": {
       "epsilon": 0.01
      }
     },
     "metadata": {},
     "output_type": "display_data"
    }
   ],
   "source": [
    "num_steps = 10000\n",
    "num_episodes = 100 #converges around 30-45 with current hyper parameters\n",
    "\n",
    "for episode in range(num_episodes):\n",
    "    state = ski_env_w.reset()\n",
    "    \n",
    "    for time_step in range(num_steps):\n",
    "        action = skiier.act(state)\n",
    "        #print(\"Action:\", action)\n",
    "        next_state, reward, done, info = ski_env_w.step(action)\n",
    "        skiier.observe(state, action, reward, next_state, done)\n",
    "        state = next_state\n",
    "        skiier.episode = episode\n",
    "        if done:\n",
    "            print(\"episode: {}/{}, score: {}, final_epsilon: {}\".format(episode, num_episodes, time_step, skiier.epsilon))\n",
    "            pm.record(\"episode\", episode)\n",
    "            pm.record(\"time_step\", time_step)\n",
    "            pm.record(\"epsilon\", skiier.epsilon)\n",
    "            break\n",
    "            \n",
    "    skiier.replay()"
   ]
  },
  {
   "cell_type": "markdown",
   "metadata": {
    "papermill": {
     "duration": 3.7e-05,
     "end_time": "2018-10-05T03:51:44.342233",
     "exception": false,
     "start_time": "2018-10-05T03:51:44.342196",
     "status": "completed"
    },
    "tags": []
   },
   "source": [
    "# Outputs"
   ]
  },
  {
   "cell_type": "code",
   "execution_count": 6,
   "metadata": {
    "collapsed": true,
    "papermill": {
     "duration": 0.092751,
     "end_time": "2018-10-05T03:51:44.552053",
     "exception": false,
     "start_time": "2018-10-05T03:51:44.459302",
     "status": "completed"
    },
    "tags": []
   },
   "outputs": [],
   "source": [
    "def play_game(num_steps):\n",
    "    state = ski_env_w.reset()\n",
    "    state_list = [state]\n",
    "    reward_list = []\n",
    "    for time_step in range(num_steps):\n",
    "        action = skiier.act(state)\n",
    "        next_state, reward, done, info = ski_env_w.step(action)\n",
    "        skiier.observe(state, action, reward, next_state, done)\n",
    "        state = next_state\n",
    "        state_list.append(state)\n",
    "        reward_list.append(reward)\n",
    "        skiier.episode = episode\n",
    "        if done:\n",
    "            break\n",
    "    return state_list, reward_list"
   ]
  },
  {
   "cell_type": "code",
   "execution_count": 7,
   "metadata": {
    "collapsed": true,
    "papermill": {
     "duration": 0.110966,
     "end_time": "2018-10-05T03:51:44.733333",
     "exception": false,
     "start_time": "2018-10-05T03:51:44.622367",
     "status": "completed"
    },
    "tags": []
   },
   "outputs": [],
   "source": [
    "#states_out, rewards_out = play_game(num_steps = 10000)"
   ]
  },
  {
   "cell_type": "code",
   "execution_count": 8,
   "metadata": {
    "collapsed": true,
    "papermill": {
     "duration": 0.179844,
     "end_time": "2018-10-05T03:51:44.914314",
     "exception": false,
     "start_time": "2018-10-05T03:51:44.734470",
     "status": "completed"
    },
    "scrolled": true,
    "tags": []
   },
   "outputs": [],
   "source": [
    "file_params = \"-\".join([str(LEARNING_RATE), str(GAMMA), str(MEMORY_CAPACITY)]).replace(\".\",\"dot\")\n",
    "file_name = \"models/model_HP_{}_at_{}.hdf5\".format(file_params, time_step)\n",
    "skiier.brain.model.save(file_name)"
   ]
  }
 ],
 "metadata": {
  "celltoolbar": "Tags",
  "kernelspec": {
   "display_name": "Python 3",
   "language": "python",
   "name": "python3"
  },
  "language_info": {
   "codemirror_mode": {
    "name": "ipython",
    "version": 3
   },
   "file_extension": ".py",
   "mimetype": "text/x-python",
   "name": "python",
   "nbconvert_exporter": "python",
   "pygments_lexer": "ipython3",
   "version": "3.5.2"
  },
  "papermill": {
   "duration": 526.427649,
   "end_time": "2018-10-05T03:51:46.404577",
   "environment_variables": {},
   "exception": false,
   "output_path": "HP_TrainSkiier_nbs/01_TrainSkiier_0dot01-0dot9-25000.ipynb",
   "parameters": {
    "GAMMA": 0.9,
    "LEARNING_RATE": 0.01,
    "MEMORY_CAPACITY": 25000,
    "experiment": "0dot01-0dot9-25000"
   },
   "start_time": "2018-10-05T03:42:59.976928",
   "version": "0.15.0"
  }
 },
 "nbformat": 4,
 "nbformat_minor": 2
}